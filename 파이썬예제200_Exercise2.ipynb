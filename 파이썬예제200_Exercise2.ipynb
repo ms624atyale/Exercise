{
  "nbformat": 4,
  "nbformat_minor": 0,
  "metadata": {
    "colab": {
      "name": "Copy of Untitled1.ipynb",
      "provenance": [],
      "collapsed_sections": [],
      "authorship_tag": "ABX9TyMwTihFVbeZxvoIFEY2PvK8",
      "include_colab_link": true
    },
    "kernelspec": {
      "name": "python3",
      "display_name": "Python 3"
    },
    "language_info": {
      "name": "python"
    }
  },
  "cells": [
    {
      "cell_type": "markdown",
      "metadata": {
        "id": "view-in-github",
        "colab_type": "text"
      },
      "source": [
        "<a href=\"https://colab.research.google.com/github/ms624atyale/Exercise/blob/main/%ED%8C%8C%EC%9D%B4%EC%8D%AC%EC%98%88%EC%A0%9C200_Exercise2.ipynb\" target=\"_parent\"><img src=\"https://colab.research.google.com/assets/colab-badge.svg\" alt=\"Open In Colab\"/></a>"
      ]
    },
    {
      "cell_type": "code",
      "execution_count": null,
      "metadata": {
        "colab": {
          "base_uri": "https://localhost:8080/"
        },
        "id": "t_QvrACUO7T2",
        "outputId": "9eb54b84-d8a9-454c-da89-7b507ce8328d"
      },
      "outputs": [
        {
          "output_type": "stream",
          "name": "stdout",
          "text": [
            "1\n"
          ]
        }
      ],
      "source": [
        "scope=[1,2,3]\n",
        "for x in scope:\n",
        "  print(x)\n",
        "  break\n",
        "else:\n",
        "  print('Perfect')"
      ]
    },
    {
      "cell_type": "code",
      "source": [
        "x=0\n",
        "while x < 10:\n",
        "  x=x+1\n",
        "  if x<3:\n",
        "    continue\n",
        "  print(x)\n",
        "  if x>7:\n",
        "    break"
      ],
      "metadata": {
        "colab": {
          "base_uri": "https://localhost:8080/"
        },
        "id": "_UBQGI2aP9Pt",
        "outputId": "dcda69d4-77a1-4c28-fa2b-6fb92b621f3b"
      },
      "execution_count": null,
      "outputs": [
        {
          "output_type": "stream",
          "name": "stdout",
          "text": [
            "3\n",
            "4\n",
            "5\n",
            "6\n",
            "7\n",
            "8\n"
          ]
        }
      ]
    },
    {
      "cell_type": "code",
      "source": [
        "x=0\n",
        "while x < 10:\n",
        "  x=x+1\n",
        "  if x<3:\n",
        "    continue\n",
        "  print(x)"
      ],
      "metadata": {
        "colab": {
          "base_uri": "https://localhost:8080/"
        },
        "id": "XEDLF5_7haa6",
        "outputId": "2f089bf0-dc60-47af-9690-2d3e1f5fbaf6"
      },
      "execution_count": null,
      "outputs": [
        {
          "output_type": "stream",
          "name": "stdout",
          "text": [
            "3\n",
            "4\n",
            "5\n",
            "6\n",
            "7\n",
            "8\n",
            "9\n",
            "10\n"
          ]
        }
      ]
    },
    {
      "cell_type": "code",
      "source": [
        "x=1\n",
        "total=0\n",
        "while 1:\n",
        "  total=total+x\n",
        "  if total > 100000:\n",
        "    print(x)\n",
        "    print(total)\n",
        "    break\n",
        "  x=x+1"
      ],
      "metadata": {
        "colab": {
          "base_uri": "https://localhost:8080/"
        },
        "id": "XX9O8Vabqi_b",
        "outputId": "6c7c5d9c-b751-466c-f57e-3a025a0bebb4"
      },
      "execution_count": null,
      "outputs": [
        {
          "output_type": "stream",
          "name": "stdout",
          "text": [
            "447\n",
            "100128\n"
          ]
        }
      ]
    },
    {
      "cell_type": "code",
      "source": [
        "val=None\n",
        "condition=1\n",
        "if condition==1:\n",
        "  val=[1,2,3]\n",
        "  print(val)\n",
        "else:\n",
        "  val = 'I love Python.'\n"
      ],
      "metadata": {
        "colab": {
          "base_uri": "https://localhost:8080/"
        },
        "id": "RcghMp6Z2MeT",
        "outputId": "42caace1-184b-4a46-9221-03d645bb6e97"
      },
      "execution_count": null,
      "outputs": [
        {
          "output_type": "stream",
          "name": "stdout",
          "text": [
            "[1, 2, 3]\n"
          ]
        }
      ]
    },
    {
      "cell_type": "code",
      "source": [
        "money=2000\n",
        "if money >=3000:\n",
        "  print (\"take a taxi.\")\n",
        "else:\n",
        "  print (\"walk home.\")"
      ],
      "metadata": {
        "colab": {
          "base_uri": "https://localhost:8080/"
        },
        "id": "BMTAmCFO8pUb",
        "outputId": "36081561-5e40-4d28-a7c7-c8f2e7ab83e3"
      },
      "execution_count": null,
      "outputs": [
        {
          "output_type": "stream",
          "name": "stdout",
          "text": [
            "walk home.\n"
          ]
        }
      ]
    },
    {
      "cell_type": "code",
      "source": [
        "int_data=10\n",
        "bin_data=0b10\n",
        "oct_data=0o10\n",
        "hex_data=0x10\n",
        "long_data=12345678901234567890\n",
        "print(int_data)\n",
        "print(oct_data)\n",
        "print(hex_data)\n",
        "print(bin_data)\n",
        "print(long_data)"
      ],
      "metadata": {
        "colab": {
          "base_uri": "https://localhost:8080/"
        },
        "id": "SU0_k34c-jf9",
        "outputId": "28ac664d-4ce2-4e2f-f776-01698c786533"
      },
      "execution_count": null,
      "outputs": [
        {
          "output_type": "stream",
          "name": "stdout",
          "text": [
            "10\n",
            "8\n",
            "16\n",
            "2\n",
            "12345678901234567890\n"
          ]
        }
      ]
    },
    {
      "cell_type": "code",
      "source": [
        "val=None\n",
        "condition=1\n",
        "if condition==1:\n",
        "  val=[1,2,3]\n",
        "else:\n",
        "  val='I love Python'"
      ],
      "metadata": {
        "id": "MaZhbl0Y02Af"
      },
      "execution_count": null,
      "outputs": []
    },
    {
      "cell_type": "code",
      "source": [
        "f1=1.0\n",
        "f2=3.14\n",
        "f3=1.56e3\n",
        "f4=-0.7e-4\n",
        "print(f1)\n",
        "print(f2)\n",
        "print(f3)\n",
        "print(f4)"
      ],
      "metadata": {
        "colab": {
          "base_uri": "https://localhost:8080/"
        },
        "id": "zpc2epex1nGv",
        "outputId": "e7cb61a4-0de5-4ee2-8730-479cd008dd44"
      },
      "execution_count": null,
      "outputs": [
        {
          "output_type": "stream",
          "name": "stdout",
          "text": [
            "1.0\n",
            "3.14\n",
            "1560.0\n",
            "-7e-05\n"
          ]
        }
      ]
    },
    {
      "cell_type": "code",
      "source": [
        "i=2; f=4.0\n",
        "print(f+i)\n",
        "print(f*i)\n",
        "print(f/i)\n",
        "print(4/2)"
      ],
      "metadata": {
        "colab": {
          "base_uri": "https://localhost:8080/"
        },
        "id": "KU1BfeAx2g1x",
        "outputId": "3d55a8c0-5dc8-4bbd-8519-0e8db632fd52"
      },
      "execution_count": null,
      "outputs": [
        {
          "output_type": "stream",
          "name": "stdout",
          "text": [
            "6.0\n",
            "8.0\n",
            "2.0\n",
            "2.0\n"
          ]
        }
      ]
    },
    {
      "cell_type": "code",
      "source": [
        "c1=1+7j\n",
        "print(c1.real); print(c1.imag)\n",
        "c2=complex(2,-3)\n",
        "print(c2)"
      ],
      "metadata": {
        "colab": {
          "base_uri": "https://localhost:8080/"
        },
        "id": "LcJXl5LC28ft",
        "outputId": "77ef8c0a-0493-4670-8049-610d2cc3fd23"
      },
      "execution_count": null,
      "outputs": [
        {
          "output_type": "stream",
          "name": "stdout",
          "text": [
            "1.0\n",
            "7.0\n",
            "(2-3j)\n"
          ]
        }
      ]
    },
    {
      "cell_type": "code",
      "source": [
        "a=1\n",
        "b=2\n",
        "ret=a+b\n",
        "print('a와 b를 더한 값은', end='')\n",
        "print(ret, end='')\n",
        "print('입니다.')"
      ],
      "metadata": {
        "colab": {
          "base_uri": "https://localhost:8080/"
        },
        "id": "MasJMs244XMa",
        "outputId": "7c3cba76-db3e-4b2b-dc99-dbe58a79c85a"
      },
      "execution_count": null,
      "outputs": [
        {
          "output_type": "stream",
          "name": "stdout",
          "text": [
            "a와 b를 더한 값은3입니다.\n"
          ]
        }
      ]
    },
    {
      "cell_type": "code",
      "source": [
        "a=1398\n",
        "b=2589\n",
        "ret=a+b\n",
        "print(\"a와 b를 더한 값은\",end='')\n",
        "print(ret,end='')\n",
        "print('입니다.')"
      ],
      "metadata": {
        "colab": {
          "base_uri": "https://localhost:8080/"
        },
        "id": "OLJHfTsqqIl4",
        "outputId": "2bf13724-daa2-459b-a3bf-970086d6e19c"
      },
      "execution_count": null,
      "outputs": [
        {
          "output_type": "stream",
          "name": "stdout",
          "text": [
            "a와 b를 더한 값은3987입니다.\n"
          ]
        }
      ]
    },
    {
      "cell_type": "code",
      "source": [
        "a=2\n",
        "b=4\n",
        "ret1=a+b #ret1=2+4=6\n",
        "ret2=a-b #ret2=2-4=-2\n",
        "ret3=a*b #ret3=2*4=8\n",
        "ret4=a/b #ret4=2/4=0.5\n",
        "ret5=a**b #ret5=2**4=16 거듭제곱\n",
        "ret6=a+a*b/a #ret6=2+2*4/2=6 \n",
        "ret7=(a+b)*(a-b) #ret7=(2+4)*(2-4)=-12\n",
        "ret8=a*b**a #ret8=2*4**2=32 거듭제곱\n",
        "print(ret1)\n",
        "print(ret2)\n",
        "print(ret3)\n",
        "print(ret4)\n",
        "print(ret5)\n",
        "print(ret6)\n",
        "print(ret7)\n",
        "print(ret8)"
      ],
      "metadata": {
        "colab": {
          "base_uri": "https://localhost:8080/"
        },
        "id": "L8jjV4AJqrkC",
        "outputId": "c5011c37-b7b6-4f1a-ec00-5b8b2d42d7c1"
      },
      "execution_count": null,
      "outputs": [
        {
          "output_type": "stream",
          "name": "stdout",
          "text": [
            "6\n",
            "-2\n",
            "8\n",
            "0.5\n",
            "16\n",
            "6.0\n",
            "-12\n",
            "32\n"
          ]
        }
      ]
    },
    {
      "cell_type": "code",
      "source": [
        "a=0\n",
        "a+=1 #a=a+1, a의 값은 1\n",
        "a-=-5 #a=a-5, a의 값은 -4 \n",
        "a*=2 #a=a*2, a의 값은 -8\n",
        "a/=4 #a=a/4, a의 값은 -2.0\n",
        "print(a)"
      ],
      "metadata": {
        "colab": {
          "base_uri": "https://localhost:8080/"
        },
        "id": "XkQfonuis3eH",
        "outputId": "500d24fa-04ad-4dd9-deed-551907ac5e31"
      },
      "execution_count": null,
      "outputs": [
        {
          "output_type": "stream",
          "name": "stdout",
          "text": [
            "-2.0\n"
          ]
        }
      ]
    },
    {
      "cell_type": "code",
      "source": [
        "a=True\n",
        "b=False\n",
        "print(a==1)\n",
        "print(b!=0) #False 값이 할당된 b가 0과 다른 값인지 체크. 다른 값이면 True. 같은 값이면 False\n"
      ],
      "metadata": {
        "colab": {
          "base_uri": "https://localhost:8080/"
        },
        "id": "nhic1Xx2zHM6",
        "outputId": "adf9bfb2-46d5-43ad-8adf-d93d12554ca5"
      },
      "execution_count": null,
      "outputs": [
        {
          "output_type": "stream",
          "name": "stdout",
          "text": [
            "True\n",
            "False\n"
          ]
        }
      ]
    },
    {
      "cell_type": "code",
      "source": [
        "while True:\n",
        "  if a==True:\n",
        "    break"
      ],
      "metadata": {
        "id": "nH62sS8P6_tq"
      },
      "execution_count": null,
      "outputs": []
    },
    {
      "cell_type": "code",
      "source": [
        "x=1; y=2\n",
        "str1='abc'; str2='python'\n",
        "print(x==y)\n",
        "print(x!=y)\n",
        "print(str1==str2)\n",
        "print(str1!=str2)\n",
        "print(str2=='python')\n",
        "print(str1<str2)"
      ],
      "metadata": {
        "colab": {
          "base_uri": "https://localhost:8080/"
        },
        "id": "3IX2cL45zFe4",
        "outputId": "1e9d8545-e6c3-42dd-da7e-5240d7be7212"
      },
      "execution_count": null,
      "outputs": [
        {
          "output_type": "stream",
          "name": "stdout",
          "text": [
            "False\n",
            "True\n",
            "False\n",
            "True\n",
            "True\n",
            "True\n"
          ]
        }
      ]
    },
    {
      "cell_type": "code",
      "source": [
        "bool1=True; bool2=False; bool3=True; bool4=False\n",
        "print(bool and bool2) #A와 B and 연산 결과 출력\n",
        "print(bool1 and bool3) #A와 B and 연산 결과 출력\n",
        "print(bool2 or bool3)#A와 B or 연산 결과 출력\n",
        "print(bool2 or bool4)#A와 B or 연산 결과 출력\n",
        "print(not bool1) #A와 논리값의 반대 출력\n",
        "print(not bool2) #A와 논리값의 반대 출력"
      ],
      "metadata": {
        "colab": {
          "base_uri": "https://localhost:8080/"
        },
        "id": "VQKTMdLD9kSP",
        "outputId": "ff776f51-69c2-41e0-891d-dfecb4568042"
      },
      "execution_count": null,
      "outputs": [
        {
          "output_type": "stream",
          "name": "stdout",
          "text": [
            "False\n",
            "True\n",
            "True\n",
            "False\n",
            "False\n",
            "True\n"
          ]
        }
      ]
    },
    {
      "cell_type": "code",
      "source": [
        "bit1 = 0x61\n",
        "bit2 = 0x62\n",
        "print(hex(bit1 & bit2))\n",
        "print(hex(bit1 | bit2))\n",
        "print(hex(bit1 ^ bit2))\n",
        "print(hex(bit1 >> 1))\n",
        "print(hex(bit1 << 2))\n"
      ],
      "metadata": {
        "colab": {
          "base_uri": "https://localhost:8080/"
        },
        "id": "FmRDKw0e-72E",
        "outputId": "7f9565e0-a6c3-41a1-8090-99cf52576091"
      },
      "execution_count": null,
      "outputs": [
        {
          "output_type": "stream",
          "name": "stdout",
          "text": [
            "0x60\n",
            "0x63\n",
            "0x3\n",
            "0x30\n",
            "0x184\n"
          ]
        }
      ]
    },
    {
      "cell_type": "code",
      "source": [
        "strdata='abcde'\n",
        "listdata=[1, [2,3], 'hi']\n",
        "tupledata=(100,200,300)"
      ],
      "metadata": {
        "id": "tPT0R0TnG9jB"
      },
      "execution_count": null,
      "outputs": []
    },
    {
      "cell_type": "code",
      "source": [
        "strdata='Time is money!!'\n",
        "listdata=[1,2,[1,2,3]]\n",
        "print(strdata[5])\n",
        "print(strdata[-2])\n",
        "print(listdata[0])\n",
        "print(listdata[-1])\n",
        "print(listdata[2][-1])"
      ],
      "metadata": {
        "colab": {
          "base_uri": "https://localhost:8080/"
        },
        "id": "otMp7VDVYQj7",
        "outputId": "524594d2-512f-4990-c939-e3fbe6ab91b2"
      },
      "execution_count": null,
      "outputs": [
        {
          "output_type": "stream",
          "name": "stdout",
          "text": [
            "i\n",
            "!\n",
            "1\n",
            "[1, 2, 3]\n",
            "3\n"
          ]
        }
      ]
    },
    {
      "cell_type": "code",
      "source": [
        "strdata='Time is money!!'\n",
        "listdata=[1,2,[1,2,3]]\n",
        "print(strdata[1:5])\n",
        "print(strdata[:7])\n",
        "print(strdata[9:])\n",
        "print(strdata[:-3])\n",
        "print(strdata[-3:])\n",
        "print(strdata[:])\n",
        "print(strdata[::2])"
      ],
      "metadata": {
        "colab": {
          "base_uri": "https://localhost:8080/"
        },
        "id": "CWp_sQw-ZVnA",
        "outputId": "5ca145f9-5897-418e-bdc3-210585333bd3"
      },
      "execution_count": null,
      "outputs": [
        {
          "output_type": "stream",
          "name": "stdout",
          "text": [
            "ime \n",
            "Time is\n",
            "oney!!\n",
            "Time is mone\n",
            "y!!\n",
            "Time is money!!\n",
            "Tm smny!\n"
          ]
        }
      ]
    },
    {
      "cell_type": "code",
      "source": [
        "strdata1='I love '; strdata2='Python'; strdata3='you'\n",
        "listdata1=[1,2,3]; listdata2=[4,5,6]\n",
        "print(strdata1+ strdata2)\n",
        "print(strdata1+ strdata3)\n",
        "print(listdata1+listdata2)"
      ],
      "metadata": {
        "colab": {
          "base_uri": "https://localhost:8080/"
        },
        "id": "nDbdUOqdbchN",
        "outputId": "b0c0034f-21c4-4957-aa3e-8cced97d9d28"
      },
      "execution_count": null,
      "outputs": [
        {
          "output_type": "stream",
          "name": "stdout",
          "text": [
            "I love Python\n",
            "I love you\n",
            "[1, 2, 3, 4, 5, 6]\n"
          ]
        }
      ]
    },
    {
      "cell_type": "code",
      "source": [
        "artist='BTS'\n",
        "sing='butter~'\n",
        "dispdata=artist +'가 부르는 ' + sing*3\n",
        "print(dispdata)"
      ],
      "metadata": {
        "colab": {
          "base_uri": "https://localhost:8080/"
        },
        "id": "yzzsp57nc489",
        "outputId": "f4957d26-5f0b-4764-8af6-65d04c689682"
      },
      "execution_count": null,
      "outputs": [
        {
          "output_type": "stream",
          "name": "stdout",
          "text": [
            "BTS가 부르는 butter~butter~butter~\n"
          ]
        }
      ]
    },
    {
      "cell_type": "code",
      "source": [
        "listdata=[1,2,3]\n",
        "displistdata=listdata*5\n",
        "print(displistdata)"
      ],
      "metadata": {
        "colab": {
          "base_uri": "https://localhost:8080/"
        },
        "id": "AtpllWyzddNa",
        "outputId": "a548518b-25d7-447f-8a95-1faa09ca5481"
      },
      "execution_count": null,
      "outputs": [
        {
          "output_type": "stream",
          "name": "stdout",
          "text": [
            "[1, 2, 3, 1, 2, 3, 1, 2, 3, 1, 2, 3, 1, 2, 3]\n"
          ]
        }
      ]
    },
    {
      "cell_type": "code",
      "source": [
        "strdata1='I love Python' #Unit031 시퀀스 자료 크기 이해하기\n",
        "strdata2='나는 파이썬을 사랑합니다'\n",
        "listdata=['a','b', 'c', strdata1, strdata2]\n",
        "print(len(strdata1))\n",
        "print(len(strdata2))\n",
        "print(len(listdata))\n",
        "print(len(listdata[3]))"
      ],
      "metadata": {
        "colab": {
          "base_uri": "https://localhost:8080/"
        },
        "id": "OQrNaF88aEKe",
        "outputId": "027e2047-41a6-4121-da24-468290e5b4c0"
      },
      "execution_count": null,
      "outputs": [
        {
          "output_type": "stream",
          "name": "stdout",
          "text": [
            "13\n",
            "13\n",
            "5\n",
            "13\n"
          ]
        }
      ]
    },
    {
      "cell_type": "code",
      "source": [
        "listdata=[1,2,3,4] #Unit032 멤버체크 이해하기 (in)\n",
        "ret1=5 in listdata #False\n",
        "ret2=4 in listdata #True\n",
        "print(ret1);print(ret2)\n",
        "strdata='abcde'\n",
        "ret3='c' in strdata #True\n",
        "ret4='l' in strdata #False\n",
        "print(ret3);print(ret4)"
      ],
      "metadata": {
        "colab": {
          "base_uri": "https://localhost:8080/"
        },
        "id": "ypYgGKhfdRoV",
        "outputId": "08d0f095-3d7e-4b8a-c9aa-7287976e9331"
      },
      "execution_count": null,
      "outputs": [
        {
          "output_type": "stream",
          "name": "stdout",
          "text": [
            "False\n",
            "True\n",
            "True\n",
            "False\n"
          ]
        }
      ]
    },
    {
      "cell_type": "code",
      "source": [
        "strdata1='나는 파이썬 프로그래머다' #Unit033 문자열 (선언방법) 이해하기\n",
        "strdata2=\"You are a programmer\"\n",
        "strdata3='''I love\n",
        "  Python. You love\n",
        "Python too!\n",
        "'''\n",
        "strdata4='My son\\'s name is John'\n",
        "strdata5=\"My daughter's name is Sally\"\n",
        "strdata6='문자열 \"abc\"의 길이는 3입니다.'\n",
        "print(strdata1)\n",
        "print(strdata2)\n",
        "print(strdata3)\n",
        "print(strdata4)\n",
        "print(strdata5)\n",
        "print(strdata6)"
      ],
      "metadata": {
        "colab": {
          "base_uri": "https://localhost:8080/"
        },
        "id": "gyv3FuTUd8yb",
        "outputId": "3282af6e-7d17-41f2-cb40-2fb5a039851e"
      },
      "execution_count": null,
      "outputs": [
        {
          "output_type": "stream",
          "name": "stdout",
          "text": [
            "나는 파이썬 프로그래머다\n",
            "You are a programmer\n",
            "I love\n",
            "  Python. You love\n",
            "Python too!\n",
            "\n",
            "My son's name is John\n",
            "My daughter's name is Sally\n",
            "문자열 \"abc\"의 길이는 3입니다.\n"
          ]
        }
      ]
    },
    {
      "cell_type": "code",
      "source": [
        "txt1='JAVA'; txt2='Python' #Unit04 문자열 포맷팅 이해하기\n",
        "num1=5; num2=10\n",
        "print('나는 %s보다 %s에 익숙합니다.' %(txt1,txt2)) #문자열에 할당하는 것이 변수인데, 이걸 굳이 %s 문자열이라고 표시해야 하는 이유는? 안해도 될 거 같아 밑에 시연 해봄.\n",
        "print('나는 %d보다 %d에 익숙합니다.' %(txt1,txt2)) #%s를 %d 로 바꾸니까 에러 났음 with 문자 포맷열 변수 사용.\n",
        "print('%s는 %s 보다 %s배 더 쉽습니다.' %(txt2, txt1, num1))\n",
        "print('%d + %d = %d' %(num1, num2, num1+num2))\n",
        "print('%s + %s = %s' %(num1, num2, num1+num2)) #%d를 %s 로 바꾸어도 에러 안남 with 정수 포맷열 변수 사용 (cf., Line 4)\n",
        "print('작년 세계 경제 성장률은 전년에 비해 %d%% 포인트 증가했다.' %(num1))\n",
        "print('작년 세계 경제 성장률은 전년에 비해 %d%% 포인트 증가했다.' %(num1*num2))\n",
        "print('%d + %d = %d' %(3, 4, 7))\n",
        "print('%s + %s = %s' %(3, 4, 7)) #왜 정수 포맷열을 문자열로 할당/대입해도 결과가 나오지? (내가 그냥 해봄)\n",
        "print('%s + %s = %s' %('a', 'b', 'c'))\n",
        "print('%d + %d = %d' %('a', 'b', 'c')) #왜 문자 포맷열을 %정수로 할당/대입하니까 오류가 남 (내가 그냥 해봄).  책 내용 중 소스: 034-1.py 내용은 이해 못함"
      ],
      "metadata": {
        "colab": {
          "base_uri": "https://localhost:8080/",
          "height": 368
        },
        "id": "JQ5dZaJ1ftLk",
        "outputId": "0d99bd3a-c70f-46dd-8ca4-0091517efeb1"
      },
      "execution_count": null,
      "outputs": [
        {
          "output_type": "stream",
          "name": "stdout",
          "text": [
            "나는 JAVA보다 Python에 익숙합니다.\n",
            "나는 JAVA보다 Python에 익숙합니다.\n",
            "Python는 JAVA 보다 5배 더 쉽습니다.\n",
            "5 + 10 = 15\n",
            "5 + 10 = 15\n",
            "작년 세계 경제 성장률은 전년에 비해 5% 포인트 증가했다.\n",
            "작년 세계 경제 성장률은 전년에 비해 50% 포인트 증가했다.\n",
            "3 + 4 = 7\n",
            "3 + 4 = 7\n",
            "a + b = c\n"
          ]
        },
        {
          "output_type": "error",
          "ename": "TypeError",
          "evalue": "ignored",
          "traceback": [
            "\u001b[0;31m---------------------------------------------------------------------------\u001b[0m",
            "\u001b[0;31mTypeError\u001b[0m                                 Traceback (most recent call last)",
            "\u001b[0;32m<ipython-input-35-af52b6f9c01e>\u001b[0m in \u001b[0;36m<module>\u001b[0;34m()\u001b[0m\n\u001b[1;32m     11\u001b[0m \u001b[0mprint\u001b[0m\u001b[0;34m(\u001b[0m\u001b[0;34m'%s + %s = %s'\u001b[0m \u001b[0;34m%\u001b[0m\u001b[0;34m(\u001b[0m\u001b[0;36m3\u001b[0m\u001b[0;34m,\u001b[0m \u001b[0;36m4\u001b[0m\u001b[0;34m,\u001b[0m \u001b[0;36m7\u001b[0m\u001b[0;34m)\u001b[0m\u001b[0;34m)\u001b[0m \u001b[0;31m#왜 정수 포맷열을 문자열로 할당/대입해도 결과가 나오지? (내가 그냥 해봄)\u001b[0m\u001b[0;34m\u001b[0m\u001b[0;34m\u001b[0m\u001b[0m\n\u001b[1;32m     12\u001b[0m \u001b[0mprint\u001b[0m\u001b[0;34m(\u001b[0m\u001b[0;34m'%s + %s = %s'\u001b[0m \u001b[0;34m%\u001b[0m\u001b[0;34m(\u001b[0m\u001b[0;34m'a'\u001b[0m\u001b[0;34m,\u001b[0m \u001b[0;34m'b'\u001b[0m\u001b[0;34m,\u001b[0m \u001b[0;34m'c'\u001b[0m\u001b[0;34m)\u001b[0m\u001b[0;34m)\u001b[0m\u001b[0;34m\u001b[0m\u001b[0;34m\u001b[0m\u001b[0m\n\u001b[0;32m---> 13\u001b[0;31m \u001b[0mprint\u001b[0m\u001b[0;34m(\u001b[0m\u001b[0;34m'%d + %d = %d'\u001b[0m \u001b[0;34m%\u001b[0m\u001b[0;34m(\u001b[0m\u001b[0;34m'a'\u001b[0m\u001b[0;34m,\u001b[0m \u001b[0;34m'b'\u001b[0m\u001b[0;34m,\u001b[0m \u001b[0;34m'c'\u001b[0m\u001b[0;34m)\u001b[0m\u001b[0;34m)\u001b[0m \u001b[0;31m#왜 문자 포맷열을 %정수로 할당/대입하니까 오류가 남 (내가 그냥 해봄).  책 내용 중 소스: 034-1.py 내용은 이해 못함\u001b[0m\u001b[0;34m\u001b[0m\u001b[0;34m\u001b[0m\u001b[0m\n\u001b[0m",
            "\u001b[0;31mTypeError\u001b[0m: %d format: a number is required, not str"
          ]
        }
      ]
    },
    {
      "cell_type": "code",
      "source": [
        "print('나는 파이썬을 사랑합니다.\\n파이썬은 자바보다 쉽습니다.') #Unit035 Escape 문자 이해하기\n",
        "print('Name:John Smith\\tSex: Male\\tAge:22')\n",
        "print('이 문장은 화면폭에 비해 너무 길어 보기가 힘듭니다.\\\n",
        "그래서\\\\Enter키를 이용해 문장을 다음줄과 연속되도록 했습니다.')\n",
        "print('작은따옴표(\\')와 큰따옴표(\\\")는 문자열을 정의할 때 사용합니다.')\n",
        "print('작은따옴표(\\')와 큰따옴표(\")는 문자열을 정의할 때 사용합니다.')"
      ],
      "metadata": {
        "colab": {
          "base_uri": "https://localhost:8080/"
        },
        "id": "xdFL7BJfd7tG",
        "outputId": "3806a5ce-20e0-4ac1-82fb-86b4141d7b12"
      },
      "execution_count": null,
      "outputs": [
        {
          "output_type": "stream",
          "name": "stdout",
          "text": [
            "나는 파이썬을 사랑합니다.\n",
            "파이썬은 자바보다 쉽습니다.\n",
            "Name:John Smith\tSex: Male\tAge:22\n",
            "이 문장은 화면폭에 비해 너무 길어 보기가 힘듭니다.그래서\\Enter키를 이용해 문장을 다음줄과 연속되도록 했습니다.\n",
            "작은따옴표(')와 큰따옴표(\")는 문자열을 정의할 때 사용합니다.\n",
            "작은따옴표(')와 큰따옴표(\")는 문자열을 정의할 때 사용합니다.\n"
          ]
        }
      ]
    },
    {
      "cell_type": "code",
      "source": [
        "list1=[1,2,3,4,5] #Unit036 리스트 이해하기 ([])\n",
        "list2=['a', 'b', 'c']\n",
        "list3=[1, 'a', 'abc', [1,2,3,4,5], ['a', 'b', 'c']]\n",
        "list1[0]=6 # What is this? 변수 list1에 첫번째 숫자열을 6 으로 대체한다는 것임 \n",
        "print(list1) #[6, 2, 3, 4, 5]출력\n",
        "def myfunc():\n",
        "  print('안녕하세요')\n",
        "list4=[1,2, myfunc]\n",
        "list4[2]() #Line6에서 myfunc을 define 할 때 ()를 써놔서, 여기서 리스트의 [2]에 해당하는 것을 출력하라고 할 때 ()를 붙여놓았다"
      ],
      "metadata": {
        "colab": {
          "base_uri": "https://localhost:8080/"
        },
        "id": "r2mqMHzgvVVe",
        "outputId": "3b4ad334-0e6e-4143-b79d-ed044c7542e1"
      },
      "execution_count": null,
      "outputs": [
        {
          "output_type": "stream",
          "name": "stdout",
          "text": [
            "[6, 2, 3, 4, 5]\n",
            "안녕하세요\n"
          ]
        }
      ]
    },
    {
      "cell_type": "code",
      "source": [
        "tuple1=(1,2,3,4,5) #Unit037 튜플 이해하기(())\n",
        "tuple2=('a','b','c')\n",
        "tuple3=(1, 'a', 'abc', [1,2,3,4,5], ['a', 'b', 'c'])\n",
        "#tuple1[0]=6 #print (tuple1) #TypeError: 'tuple' object does not support item assignment\n",
        "def myfunc():\n",
        "  print('안녕하세요')\n",
        "tuple4=(1,2,myfunc) #튜플4 변수에 오른 쪽 1,2,myfunc을 할당할 때 = 심볼이 필요했는데 이를 누락해서 에러가 몇 번 났음. 조심하기\n",
        "tuple4[2]()"
      ],
      "metadata": {
        "colab": {
          "base_uri": "https://localhost:8080/"
        },
        "id": "zwLzAf-f2Bic",
        "outputId": "823be1c3-2dc9-4bcc-a98c-47a0f38aca46"
      },
      "execution_count": null,
      "outputs": [
        {
          "output_type": "stream",
          "name": "stdout",
          "text": [
            "안녕하세요\n"
          ]
        }
      ]
    },
    {
      "cell_type": "code",
      "source": [
        "dict1={'a':1, 'b':2, 'c':3} #Unit038 사전 이해하기({})\n",
        "print(dict1['a']) # 사전에서는 인덱싱으로 [#] 를 프린트하라는 수행하라고 할 수 없더라 (예시: print(dict1[1])) 왜냐하면 사전은 시퀀스 자료가 아니기 때문이다..\n",
        "dict1['d'] = 4 # 새로운 키 값을 추가하는 방법은 [ ]=을 사용한다\n",
        "print(dict1)\n",
        "dict1['b']=7\n",
        "print(dict1)\n",
        "print(len(dict1))"
      ],
      "metadata": {
        "colab": {
          "base_uri": "https://localhost:8080/"
        },
        "id": "eF7KsMm14HKn",
        "outputId": "c9dcdde7-818a-49b1-eb31-b6e161bb0be6"
      },
      "execution_count": null,
      "outputs": [
        {
          "output_type": "stream",
          "name": "stdout",
          "text": [
            "1\n",
            "{'a': 1, 'b': 2, 'c': 3, 'd': 4}\n",
            "{'a': 1, 'b': 7, 'c': 3, 'd': 4}\n",
            "4\n"
          ]
        }
      ]
    },
    {
      "cell_type": "code",
      "source": [
        "def add_number(n1,n2): #Unit039 함수 이해하기\n",
        "  ret=n1+n2 \n",
        "  return ret #인자 있고 리턴값 있음 (내가 이해한 게 맞나??)\n",
        "  #인자와 리턴값이 있는 함수 호출방법 변수=함수이름(값1, 값2...)\\ \n",
        "  #리턴값은 있지만 인자가 없는 return 결과값\\\n",
        "  #함수의 인자와 리턴값이 없는 경우 return 만 하거나 return 생략하고 함수이름()\\\n",
        "  #정의된 함수를 호출하는 방법은 함수 인자 자리에 실제값을 대임하여 함수 이름만 호출하기. \n",
        "\n",
        "def add_txt(t1, t2):\n",
        "  print(t1+t2)  #출력하되 리턴값은 없음 (내가 이해한 게 맞나??)\n",
        "\n",
        "ans=add_number(10,15)\n",
        "print(ans)\n",
        "\n",
        "ans=add_number(100, 250)\n",
        "print(ans)\n",
        "\n",
        "text1='대한민국~'\n",
        "text2='만세!!'\n",
        "add_txt(text1,text2)\n"
      ],
      "metadata": {
        "colab": {
          "base_uri": "https://localhost:8080/"
        },
        "id": "Tc3Ipuxz5iTB",
        "outputId": "01b9bfed-be69-42f7-af53-b19dca5c5264"
      },
      "execution_count": null,
      "outputs": [
        {
          "output_type": "stream",
          "name": "stdout",
          "text": [
            "25\n",
            "350\n",
            "대한민국~만세!!\n"
          ]
        }
      ]
    },
    {
      "cell_type": "code",
      "source": [
        "print('hello')"
      ],
      "metadata": {
        "id": "BJ4VkbDkG7br",
        "colab": {
          "base_uri": "https://localhost:8080/"
        },
        "outputId": "fede24cd-6962-4d31-da1a-7350c180a6ef"
      },
      "execution_count": null,
      "outputs": [
        {
          "output_type": "stream",
          "name": "stdout",
          "text": [
            "hello\n"
          ]
        }
      ]
    },
    {
      "cell_type": "code",
      "source": [
        "def add_txt(t1,t2='파이썬'): #Unit041 함수 인자 이해하기\n",
        "  print(t1+':'+t2)  #덧셈 심볼 2 개가 없으면 에러. 왜 써야하는지 모름\n",
        "\n",
        "add_txt('베스트') #베스트:파이썬 출력\n",
        "add_txt(t2='대한민국', t1='1등') #1등:대한민국 출력\n",
        "\n",
        "def func1(*args):\n",
        "  print(args)\n",
        "\n",
        "def func2(width, height, **kwargs):\n",
        "  print(kwargs)\n",
        "\n",
        "func1() #빈 튜플 출력\n",
        "func1(3,5,1,5) #(3, 5, 1, 5)\n",
        "func2(10,20) #빈 사전 출력\n",
        "func2(10,20,depth=50,color='blue') #{'depth': 50, 'color': 'blue'}"
      ],
      "metadata": {
        "colab": {
          "base_uri": "https://localhost:8080/"
        },
        "id": "XugzjJEdP5U7",
        "outputId": "67300b7f-e239-4244-fba9-25b51e722938"
      },
      "execution_count": null,
      "outputs": [
        {
          "output_type": "stream",
          "name": "stdout",
          "text": [
            "베스트:파이썬\n",
            "1등:대한민국\n",
            "()\n",
            "(3, 5, 1, 5)\n",
            "{}\n",
            "{'depth': 50, 'color': 'blue'}\n"
          ]
        }
      ]
    },
    {
      "cell_type": "code",
      "source": [
        "param=10 #Unit041 지역변수와 전역변수 이해하기 (Global)\n",
        "strdata='전역변수'\n",
        "\n",
        "def func1():\n",
        "  strdata='지역변수'\n",
        "  print(strdata)\n",
        "\n",
        "def func2(param):\n",
        "  param=1\n",
        "\n",
        "def func3():\n",
        "  global param\n",
        "  param=50\n",
        "\n",
        "func1()\n",
        "print(strdata)\n",
        "print(param)\n",
        "func2(param) #param 이 Globally Locally 사용도지만, func2() 내에서만 유효한 지역변수로 취급 처리된다고 함. \n",
        "print(param) #그런데 왜!!! 1 이 아니고 10 이 출력될까? \n",
        "func3()\n",
        "print(param) #그런데 왜!!! 10 이 아니고 50 이 출력될까? "
      ],
      "metadata": {
        "colab": {
          "base_uri": "https://localhost:8080/"
        },
        "id": "RowFztSMvcnK",
        "outputId": "98831a7e-a93d-4abf-a51a-2a654c9c9a49"
      },
      "execution_count": null,
      "outputs": [
        {
          "output_type": "stream",
          "name": "stdout",
          "text": [
            "지역변수\n",
            "전역변수\n",
            "10\n",
            "10\n",
            "50\n"
          ]
        }
      ]
    },
    {
      "cell_type": "code",
      "source": [
        "def reverse(x,y,z):\n",
        "  return (z,y,x)\n",
        "\n",
        "ret=reverse(1,2,3)\n",
        "print(ret)\n",
        "\n",
        "r1,r2,r3=reverse('a','b','c')\n",
        "print(r1); print(r2); print(r3)"
      ],
      "metadata": {
        "colab": {
          "base_uri": "https://localhost:8080/"
        },
        "id": "NhJlZWl7Smep",
        "outputId": "ea9ecc96-7d16-4cb5-bbeb-f01886429cf3"
      },
      "execution_count": null,
      "outputs": [
        {
          "output_type": "stream",
          "name": "stdout",
          "text": [
            "(3, 2, 1)\n",
            "c\n",
            "b\n",
            "a\n"
          ]
        }
      ]
    },
    {
      "cell_type": "code",
      "source": [
        "import time\n",
        "\n",
        "print('5초간 프로그램을 정지합니다')\n",
        "time.sleep(5)\n",
        "print('5초가 지나갔습니다')"
      ],
      "metadata": {
        "colab": {
          "base_uri": "https://localhost:8080/"
        },
        "id": "JpsuaX99VAHx",
        "outputId": "f2b3c985-e246-4272-8406-768a9a552f54"
      },
      "execution_count": null,
      "outputs": [
        {
          "output_type": "stream",
          "name": "stdout",
          "text": [
            "5초간 프로그램을 정지합니다\n",
            "5초가 지나갔습니다\n"
          ]
        }
      ]
    },
    {
      "cell_type": "code",
      "source": [
        "def add_txt(t1,t2):\n",
        "  return t1+':'+t2\n",
        "\n",
        "def reverse(x,y,z):\n",
        "  return z,y,x\n",
        "\n",
        "ret1=add_txt('대한민국','1등')\n",
        "ret2=reverse(1,2,3)\n",
        "print(ret1)\n",
        "print(ret2)"
      ],
      "metadata": {
        "colab": {
          "base_uri": "https://localhost:8080/"
        },
        "id": "ovBnWs8TXCvY",
        "outputId": "e9477500-4875-411b-a751-b209aef9108f"
      },
      "execution_count": null,
      "outputs": [
        {
          "output_type": "stream",
          "name": "stdout",
          "text": [
            "대한민국:1등\n",
            "(3, 2, 1)\n"
          ]
        }
      ]
    },
    {
      "cell_type": "code",
      "source": [
        "def add_txt(t1,t2):\n",
        "  return t1+':'+t2\n",
        "\n",
        "def reverse(x,y,z):\n",
        "  return z,y,x\n",
        "\n",
        "ret1=add_txt('대한민국','1등')\n",
        "ret2=reverse(1,2,3)\n",
        "print(ret1)\n",
        "print(ret2)"
      ],
      "metadata": {
        "colab": {
          "base_uri": "https://localhost:8080/"
        },
        "id": "i-YE7mgZZz8A",
        "outputId": "3a2aa48c-5609-49d5-d05d-57cd1a22d778"
      },
      "execution_count": null,
      "outputs": [
        {
          "output_type": "stream",
          "name": "stdout",
          "text": [
            "대한민국:1등\n",
            "(3, 2, 1)\n"
          ]
        }
      ]
    },
    {
      "cell_type": "code",
      "source": [
        "from time import sleep\n",
        "from mypackage import mylib\n",
        "from mypackage.mylib import reverse\n",
        "\n",
        "sleep(1)\n",
        "mylib.add_txt('나는','파이썬이다')\n",
        "reverse(1,2,3)\n",
        "\n",
        "import mypackage as mp\n",
        "import mypackage.mylib as ml\n",
        "\n",
        "ret1=mp.add_txt('ROK','#1') #꼭 페키지만 받고, 하위는 설정 안해도 되지 않나요? 꼭 디렉토리를 쓰면서 함수를 사용해야 하나요? \n",
        "ret2=ml.reverse(1,2,3)\n"
      ],
      "metadata": {
        "colab": {
          "base_uri": "https://localhost:8080/",
          "height": 368
        },
        "id": "LF3UC5FThzYI",
        "outputId": "2afe9ba8-5b63-41b2-a604-df744789ffd9"
      },
      "execution_count": null,
      "outputs": [
        {
          "output_type": "error",
          "ename": "ModuleNotFoundError",
          "evalue": "ignored",
          "traceback": [
            "\u001b[0;31m---------------------------------------------------------------------------\u001b[0m",
            "\u001b[0;31mModuleNotFoundError\u001b[0m                       Traceback (most recent call last)",
            "\u001b[0;32m<ipython-input-31-fc320dc19069>\u001b[0m in \u001b[0;36m<module>\u001b[0;34m()\u001b[0m\n\u001b[1;32m      1\u001b[0m \u001b[0;32mfrom\u001b[0m \u001b[0mtime\u001b[0m \u001b[0;32mimport\u001b[0m \u001b[0msleep\u001b[0m\u001b[0;34m\u001b[0m\u001b[0;34m\u001b[0m\u001b[0m\n\u001b[0;32m----> 2\u001b[0;31m \u001b[0;32mfrom\u001b[0m \u001b[0mmypackage\u001b[0m \u001b[0;32mimport\u001b[0m \u001b[0mmylib\u001b[0m\u001b[0;34m\u001b[0m\u001b[0;34m\u001b[0m\u001b[0m\n\u001b[0m\u001b[1;32m      3\u001b[0m \u001b[0;32mfrom\u001b[0m \u001b[0mmypackage\u001b[0m\u001b[0;34m.\u001b[0m\u001b[0mmylib\u001b[0m \u001b[0;32mimport\u001b[0m \u001b[0mreverse\u001b[0m\u001b[0;34m\u001b[0m\u001b[0;34m\u001b[0m\u001b[0m\n\u001b[1;32m      4\u001b[0m \u001b[0;34m\u001b[0m\u001b[0m\n\u001b[1;32m      5\u001b[0m \u001b[0msleep\u001b[0m\u001b[0;34m(\u001b[0m\u001b[0;36m1\u001b[0m\u001b[0;34m)\u001b[0m\u001b[0;34m\u001b[0m\u001b[0;34m\u001b[0m\u001b[0m\n",
            "\u001b[0;31mModuleNotFoundError\u001b[0m: No module named 'mypackage'",
            "",
            "\u001b[0;31m---------------------------------------------------------------------------\u001b[0;32m\nNOTE: If your import is failing due to a missing package, you can\nmanually install dependencies using either !pip or !apt.\n\nTo view examples of installing some common dependencies, click the\n\"Open Examples\" button below.\n\u001b[0;31m---------------------------------------------------------------------------\u001b[0m\n"
          ],
          "errorDetails": {
            "actions": [
              {
                "action": "open_url",
                "actionText": "Open Examples",
                "url": "/notebooks/snippets/importing_libraries.ipynb"
              }
            ]
          }
        }
      ]
    },
    {
      "cell_type": "code",
      "source": [
        "f1=open('text.txt','r') # open () 함수를 사용해서, 첫번째 인자는 파일이름, 두번째 인자는 모드를 넣는다.\n",
        "f2=open('d:/myimages/mypicture1.jpg'.'rb')\n",
        "#----\n",
        "#open files 를 처리하는 코드를 작성함\n",
        "#---\n",
        "\n",
        "f1.close()\n",
        "f2.close()"
      ],
      "metadata": {
        "id": "7ULIxaAACI6e"
      },
      "execution_count": null,
      "outputs": []
    },
    {
      "cell_type": "code",
      "source": [
        "class MyClass: #Unit049 클래스 이해하기\n",
        "  var='안녕하세요'\n",
        "  def sayHello(self): #self 가 무슨 의미인가요? MyClass 선언부 내 클래스 멤버를 지시할 때에는 (self.클래스멤버)\n",
        "    print(self.var)\n",
        "  \n",
        "obj=MyClass() #MyClass 인스턴스 객체 생성\n",
        "print(obj.var)\n",
        "obj.sayHello()"
      ],
      "metadata": {
        "colab": {
          "base_uri": "https://localhost:8080/"
        },
        "id": "l2VW4UAIQ_UL",
        "outputId": "6b3cf65c-44f9-4fac-a1db-6e9e224863ed"
      },
      "execution_count": null,
      "outputs": [
        {
          "output_type": "stream",
          "name": "stdout",
          "text": [
            "안녕하세요\n",
            "안녕하세요\n"
          ]
        }
      ]
    },
    {
      "cell_type": "code",
      "source": [
        "class MyClass:\n",
        "  var = '안녕하세요'\n",
        "  def sayHello(self):\n",
        "    param1='안녕'\n",
        "    self.param1='하이'\n",
        "    print(param1)\n",
        "    print(self.var)\n",
        "\n",
        "obj=MyClass()\n",
        "print(obj.var)\n",
        "obj.sayHello()\n",
        "#obj.param1\n",
        "    "
      ],
      "metadata": {
        "colab": {
          "base_uri": "https://localhost:8080/"
        },
        "id": "3WwA9-kJWifT",
        "outputId": "48a915c5-3b02-45ad-94bf-fac3bae8ccf9"
      },
      "execution_count": null,
      "outputs": [
        {
          "output_type": "stream",
          "name": "stdout",
          "text": [
            "안녕하세요\n",
            "안녕\n",
            "안녕하세요\n"
          ]
        }
      ]
    },
    {
      "cell_type": "code",
      "source": [
        "class MyClass: #MyClass 의 클래스 객체 생성하기\n",
        "  def sayHello(self):\n",
        "    print('안녕하세요')\n",
        "  \n",
        "  def sayBye(self,name):\n",
        "    print('%s! 다음에 보자!' %name)\n",
        "\n",
        "obj=MyClass() #위에 생성한 MyClass 를 obj 지정 \n",
        "obj.sayHello() #MyClass의 인스턴트??? 객체를 생성하고 obj 로 지정.?????? 왜 헷갈리냐 하면 obj=MyClass()이 obj 지정이라고 이해했기 때문.\n",
        "obj.sayBye('영희')"
      ],
      "metadata": {
        "colab": {
          "base_uri": "https://localhost:8080/"
        },
        "id": "EryM_fJPkVJD",
        "outputId": "fc7204f6-f4db-45a1-8598-ea9a7d79cbcb"
      },
      "execution_count": null,
      "outputs": [
        {
          "output_type": "stream",
          "name": "stdout",
          "text": [
            "안녕하세요\n",
            "영희! 다음에 보자!\n"
          ]
        }
      ]
    },
    {
      "cell_type": "code",
      "source": [
        "class MyClass: #Unit052 클래스 생성자 이해하기: 클래스의 인스턴트 객체가 생성될 때 자동적으로 호출되는 메소드\n",
        "  def __init__(self): #클래스 생성자 형태 def__init__(self,*args). 뜻은 MyClass 의 클래스 생성자는 인자가 없으며-> \n",
        "    self.var='안녕하세요!' #self.var 인스턴트 멤버를 '안녕하세요?'라는 string 으로 초기화하고->\n",
        "    print('MyClass 인스턴트 객체가 생성되었습니다') #MyClass 인스턴트 객체가 생성되었습니다라는 메세지를 출력한다\n",
        "\n",
        "obj = MyClass()\n",
        "print(obj.var)\n",
        "\n"
      ],
      "metadata": {
        "colab": {
          "base_uri": "https://localhost:8080/"
        },
        "id": "9Ew5cfSXBmwS",
        "outputId": "a4c99281-e4ea-40b4-ea7c-2b21c472ccb7"
      },
      "execution_count": null,
      "outputs": [
        {
          "output_type": "stream",
          "name": "stdout",
          "text": [
            "MyClass 인스턴트 객체가 생성되었습니다\n",
            "안녕하세요!\n"
          ]
        }
      ]
    },
    {
      "cell_type": "code",
      "source": [
        "class MyClass:\n",
        "  def __init__(self,txt):\n",
        "    self.var=txt\n",
        "    print('생성자 인자로 전달받은 값은 <'+self.var+'>입니다')\n",
        "\n",
        "obj=MyClass('영희') # 결과: 생성자 인자로 전달받은 값은 <영희>입니다"
      ],
      "metadata": {
        "colab": {
          "base_uri": "https://localhost:8080/"
        },
        "id": "ncHyiyTEMWTG",
        "outputId": "deb8087b-f2a6-47f7-cc4f-e09664ebe3c1"
      },
      "execution_count": null,
      "outputs": [
        {
          "output_type": "stream",
          "name": "stdout",
          "text": [
            "생성자 인자로 전달받은 값은 <영희>입니다\n"
          ]
        }
      ]
    },
    {
      "cell_type": "code",
      "source": [
        "class MyClass:\n",
        "  def __del__(self):\n",
        "    print('MyClass 인스턴트 객체가 메모리에서 제거됩니다')\n",
        "\n",
        "obj=MyClass() #따로 미리 코드 넣고 실행하면 -> 출력: MyClass 인스턴트 객체가 메모리에서 제거됩니다\n",
        "del obj #출력: MyClass 인스턴트 객체가 메모리에서 제거됩니다"
      ],
      "metadata": {
        "colab": {
          "base_uri": "https://localhost:8080/"
        },
        "id": "s_8QP_YINInl",
        "outputId": "91be4e78-e8b4-4f2b-c81a-cb8fce05488b"
      },
      "execution_count": null,
      "outputs": [
        {
          "output_type": "stream",
          "name": "stdout",
          "text": [
            "MyClass 인스턴트 객체가 메모리에서 제거됩니다\n"
          ]
        }
      ]
    },
    {
      "cell_type": "code",
      "source": [
        "class Add:\n",
        "  def add(self, n1, n2):\n",
        "    return n1 + n2\n",
        "\n",
        "class Calculator(Add):\n",
        "  def sub(self, n1, n2):\n",
        "    return n1 - n2\n",
        "\n",
        "obj=Calculator()\n",
        "print(obj.add(1,2))\n",
        "print(obj.sub(1,2))"
      ],
      "metadata": {
        "colab": {
          "base_uri": "https://localhost:8080/"
        },
        "id": "RikpydnqN-kQ",
        "outputId": "413dfb85-5958-427c-c78b-8325a41915bb"
      },
      "execution_count": null,
      "outputs": [
        {
          "output_type": "stream",
          "name": "stdout",
          "text": [
            "3\n",
            "-1\n"
          ]
        }
      ]
    },
    {
      "cell_type": "code",
      "source": [
        "class Add:\n",
        "  def add(self,n1,n2):\n",
        "    return n1+n2\n",
        "\n",
        "class Multiply:\n",
        "  def multiply(self,n1,n2):\n",
        "    return n1*n2\n",
        "\n",
        "class Calculator(Add, Multiply):\n",
        "  def sub(self,n1,n2):\n",
        "    return n1-n2\n",
        "\n",
        "obj=Calculator()\n",
        "print(obj.add(1,2))\n",
        "print(obj.multiply(3,2))"
      ],
      "metadata": {
        "colab": {
          "base_uri": "https://localhost:8080/"
        },
        "id": "SYwMIeTMSR0a",
        "outputId": "25128b16-a003-41b0-ae26-134bdf8c6403"
      },
      "execution_count": null,
      "outputs": [
        {
          "output_type": "stream",
          "name": "stdout",
          "text": [
            "3\n",
            "6\n"
          ]
        }
      ]
    },
    {
      "cell_type": "code",
      "source": [
        "try:\n",
        "  print('안녕하세요')\n",
        "  print(param)\n",
        "except:\n",
        "  print('예외가 발생했습니다')"
      ],
      "metadata": {
        "colab": {
          "base_uri": "https://localhost:8080/"
        },
        "id": "5tyyCrp1UPI4",
        "outputId": "179535df-c9ef-4c08-a5c7-956b1c16a43f"
      },
      "execution_count": null,
      "outputs": [
        {
          "output_type": "stream",
          "name": "stdout",
          "text": [
            "안녕하세요\n",
            "예외가 발생했습니다\n"
          ]
        }
      ]
    },
    {
      "cell_type": "code",
      "source": [
        "try:\n",
        "  print('안녕하세요')\n",
        "  print(param)\n",
        "\n",
        "except:\n",
        "  print('예외가 발생하였습니다')\n",
        "\n",
        "else:\n",
        "  print('예외가 발생하지 않았습니다')"
      ],
      "metadata": {
        "colab": {
          "base_uri": "https://localhost:8080/"
        },
        "id": "kI1ZIyzTbd4N",
        "outputId": "2779befa-c43f-4f51-9c0b-4f04a1d928dd"
      },
      "execution_count": null,
      "outputs": [
        {
          "output_type": "stream",
          "name": "stdout",
          "text": [
            "안녕하세요\n",
            "예외가 발생하였습니다\n"
          ]
        }
      ]
    },
    {
      "cell_type": "code",
      "source": [
        "try:\n",
        "  print('안녕하세요')\n",
        "  #print(param)\n",
        "\n",
        "except:\n",
        "  print('예외가 발생하였습니다')\n",
        "\n",
        "else:\n",
        "  print('예외가 발생하지 않았습니다')"
      ],
      "metadata": {
        "colab": {
          "base_uri": "https://localhost:8080/"
        },
        "id": "ob-NxLApb8et",
        "outputId": "fb7307fd-550d-4e35-fe7b-19df145ac5d9"
      },
      "execution_count": null,
      "outputs": [
        {
          "output_type": "stream",
          "name": "stdout",
          "text": [
            "안녕하세요\n",
            "예외가 발생하지 않았습니다\n"
          ]
        }
      ]
    },
    {
      "cell_type": "code",
      "source": [
        "try:\n",
        "  print('hi')\n",
        "  print(param)\n",
        "\n",
        "except:\n",
        "  print('an exception has occurred')\n",
        "\n",
        "finally:\n",
        "  print('a code enforced')"
      ],
      "metadata": {
        "colab": {
          "base_uri": "https://localhost:8080/"
        },
        "id": "GOgRldczcIvK",
        "outputId": "1c0c5987-1afa-47b7-a8e3-3fb5137c89dd"
      },
      "execution_count": null,
      "outputs": [
        {
          "output_type": "stream",
          "name": "stdout",
          "text": [
            "hi\n",
            "an exception has occurred\n",
            "a code enforced\n"
          ]
        }
      ]
    },
    {
      "cell_type": "code",
      "source": [
        "try:\n",
        "  print('hi')\n",
        "  #print(param)\n",
        "\n",
        "except:\n",
        "  print('an exception has occurred')\n",
        "\n",
        "finally:\n",
        "  print('a code enforced')"
      ],
      "metadata": {
        "colab": {
          "base_uri": "https://localhost:8080/"
        },
        "id": "BiNGIZCsddvv",
        "outputId": "0f481e7f-fc95-4bea-e29b-54e2fc1c1636"
      },
      "execution_count": null,
      "outputs": [
        {
          "output_type": "stream",
          "name": "stdout",
          "text": [
            "hi\n",
            "a code enforced\n"
          ]
        }
      ]
    },
    {
      "cell_type": "code",
      "source": [
        "try:\n",
        "  print(param)\n",
        "except Exception as e:\n",
        "  print(e) #name 'param' is not defined가 출력됨"
      ],
      "metadata": {
        "colab": {
          "base_uri": "https://localhost:8080/"
        },
        "id": "8EEdM-8Ddw0B",
        "outputId": "415a7e5c-8767-480a-b067-285584598a1d"
      },
      "execution_count": null,
      "outputs": [
        {
          "output_type": "stream",
          "name": "stdout",
          "text": [
            "name 'param' is not defined\n"
          ]
        }
      ]
    },
    {
      "cell_type": "code",
      "source": [
        "import time\n",
        "count=1\n",
        "try:\n",
        "  while True:\n",
        "    print(count)\n",
        "    count+=1\n",
        "    time.sleep(0.5)\n",
        "except KeyboadInterrupt: #Ctrl+C 가 입력되면 발생하는 오류\n",
        "  print('사용자에 의해 프로그램이 중단되었습니다')"
      ],
      "metadata": {
        "id": "SCYqDOz9hFlA"
      },
      "execution_count": null,
      "outputs": []
    },
    {
      "cell_type": "code",
      "source": [
        "k=input('<값>을 입력하세요:')\n",
        "print('당신이 입력한 값은 <'+k+'>입니다.') #변수 k 를 프린트 하는데 왜 '' 이 들어가야하나요?\n"
      ],
      "metadata": {
        "colab": {
          "base_uri": "https://localhost:8080/"
        },
        "id": "EPjzq3b_iQo8",
        "outputId": "74ba188a-fcad-4679-e3da-51841e12dc85"
      },
      "execution_count": null,
      "outputs": [
        {
          "output_type": "stream",
          "name": "stdout",
          "text": [
            "<값>을 입력하세요:Why\n",
            "당신이 입력한 값은 <Why>입니다.\n"
          ]
        }
      ]
    },
    {
      "cell_type": "code",
      "source": [
        "numdata=57\n",
        "strdata='Python'\n",
        "listdata=[1,2,3]\n",
        "dictdata={'a':1, 'b':2}\n",
        "\n",
        "def func():\n",
        "  print ('hi')\n",
        "\n",
        "print(type(numdata))\n",
        "print(type(strdata))\n",
        "print(type(listdata))\n",
        "print(type(dictdata))\n",
        "print(type(func))"
      ],
      "metadata": {
        "colab": {
          "base_uri": "https://localhost:8080/"
        },
        "id": "5Ebv_tNAkwu0",
        "outputId": "b45735bc-35c3-4c20-b98d-bdb85df00210"
      },
      "execution_count": null,
      "outputs": [
        {
          "output_type": "stream",
          "name": "stdout",
          "text": [
            "<class 'int'>\n",
            "<class 'str'>\n",
            "<class 'list'>\n",
            "<class 'dict'>\n",
            "<class 'function'>\n"
          ]
        }
      ]
    },
    {
      "cell_type": "code",
      "source": [
        "import builtins\n",
        "a=11113\n",
        "b=23\n",
        "ret=a%b\n",
        "print('<%d>를 <%d>로 나누면 <%d>가 나머지로 남습니다.'%(a,b,ret))\n",
        "a=12\n",
        "b=3\n",
        "result=a%b\n",
        "print(result)"
      ],
      "metadata": {
        "colab": {
          "base_uri": "https://localhost:8080/"
        },
        "id": "GigSUvdsFxhW",
        "outputId": "ca01523f-35f5-443d-a3ac-c566a26deffe"
      },
      "execution_count": null,
      "outputs": [
        {
          "output_type": "stream",
          "name": "stdout",
          "text": [
            "<11113>를 <23>로 나누면 <4>가 나머지로 남습니다.\n",
            "0\n"
          ]
        }
      ]
    },
    {
      "cell_type": "code",
      "source": [
        "a=11113\n",
        "b=23\n",
        "ret1,ret2=divmod(a,b)\n",
        "print('<%d/ %d>는 몫이 <%d>, 나머지가 <%d> 입니다.' %(a, b, ret1, ret2))"
      ],
      "metadata": {
        "colab": {
          "base_uri": "https://localhost:8080/"
        },
        "id": "anrtg_gqLLBM",
        "outputId": "28dad62f-9079-4ed3-f0e0-0f0c099b8d0e"
      },
      "execution_count": null,
      "outputs": [
        {
          "output_type": "stream",
          "name": "stdout",
          "text": [
            "<11113/ 23>는 몫이 <483>, 나머지가 <4> 입니다.\n"
          ]
        }
      ]
    },
    {
      "cell_type": "code",
      "source": [
        "h1=hex(97) #Unit 06410진수를 16 진수로 변환하기\n",
        "h2=hex(98)\n",
        "ret1=h1+h2\n",
        "print(ret1)\n",
        "a=int(h1,16)\n",
        "b=int(h2,16)\n",
        "ret2=a+b\n",
        "print(ret2)\n",
        "print(hex(ret2))"
      ],
      "metadata": {
        "colab": {
          "base_uri": "https://localhost:8080/"
        },
        "id": "2EBg1bhqN7by",
        "outputId": "0d106ddc-a984-4449-d98a-de00ad46f460"
      },
      "execution_count": null,
      "outputs": [
        {
          "output_type": "stream",
          "name": "stdout",
          "text": [
            "0x610x62\n",
            "195\n",
            "0xc3\n"
          ]
        }
      ]
    },
    {
      "cell_type": "code",
      "source": [
        "b1=bin(97) #Unit 065.  10진수를 2 진수로 변환하기\n",
        "b2=bin(98)\n",
        "ret1=a+b\n",
        "print(ret1)\n",
        "a=int(b1, 2)\n",
        "b=int(b2,2)\n",
        "ret2=a+b\n",
        "print(ret2)\n",
        "print(bin(ret2))\n"
      ],
      "metadata": {
        "colab": {
          "base_uri": "https://localhost:8080/"
        },
        "id": "uIbfvPIdTh3p",
        "outputId": "dafdff8d-2e14-4125-c4bf-854862d73366"
      },
      "execution_count": null,
      "outputs": [
        {
          "output_type": "stream",
          "name": "stdout",
          "text": [
            "0b11000010b1100010\n",
            "195\n",
            "0b11000011\n"
          ]
        }
      ]
    },
    {
      "cell_type": "code",
      "source": [
        "bnum=0b11110000; bstr='0b11110000'\n",
        "onum=0o360; ostr='0o360'\n",
        "hnum=0xf0; hstr='0xf0'\n",
        "b1=int(bnum);b2=int(bstr,2)\n",
        "o1=int(onum); o2=int(ostr,8)\n",
        "h1=int(hnum); h2=(hstr,16)\n",
        "print(b1); print(b2)\n",
        "print(o1); print(o2)\n",
        "print(h1); print(h2)"
      ],
      "metadata": {
        "colab": {
          "base_uri": "https://localhost:8080/"
        },
        "id": "2uZiIoiTUSwC",
        "outputId": "2c0c3ca3-4d57-4b72-e9eb-8907f6bcee9d"
      },
      "execution_count": null,
      "outputs": [
        {
          "output_type": "stream",
          "name": "stdout",
          "text": [
            "240\n",
            "240\n",
            "240\n",
            "240\n",
            "240\n",
            "('0xf0', 16)\n"
          ]
        }
      ]
    },
    {
      "cell_type": "code",
      "source": [
        "abs1=abs(-3)\n",
        "abs2=abs(-5.72)\n",
        "abs3=abs(3+4j) # Compx 복소수가 함수의 인자로 입력되면 복소소의 크기를 리턴함. 복소수 a + bj 의 크기는 루트 ae2 + be2 이다.  \n",
        "print(abs1)\n",
        "print(abs2)\n",
        "print(abs3)"
      ],
      "metadata": {
        "colab": {
          "base_uri": "https://localhost:8080/"
        },
        "id": "PBdyjbvyWC9p",
        "outputId": "95589d79-b13b-42ea-de5a-56089b8c6ea7"
      },
      "execution_count": null,
      "outputs": [
        {
          "output_type": "stream",
          "name": "stdout",
          "text": [
            "3\n",
            "5.72\n",
            "5.0\n"
          ]
        }
      ]
    },
    {
      "cell_type": "code",
      "source": [
        "ret1=round(1118) #Unit068 반올림하기: 소수점 0 째자리에서 반올림 (디폴트값 0 째 자리)\n",
        "ret2=round(16.554) #소수점 0 째자리에서 반올림\n",
        "ret3=round(1118,-1) #1 자리에서 반올림\n",
        "ret4=round(16.554,2) #소수점 셋째자리에서 반올림\n",
        "print(ret1)\n",
        "print(ret2)\n",
        "print(ret3)\n",
        "print(ret4)"
      ],
      "metadata": {
        "colab": {
          "base_uri": "https://localhost:8080/"
        },
        "id": "LsLf1wUfYC5v",
        "outputId": "fdcb289e-699b-4072-9d1d-8452544de5a1"
      },
      "execution_count": null,
      "outputs": [
        {
          "output_type": "stream",
          "name": "stdout",
          "text": [
            "1118\n",
            "17\n",
            "1120\n",
            "16.55\n"
          ]
        }
      ]
    },
    {
      "cell_type": "code",
      "source": [
        "idata1=int(-5.4) #Unit069 실수형 자료를 정수형 자료로 변환하기: 코드 작성시 정수끼리만 연산을 수행해야 하는 경우, 정수형으로 변환한 후에 연산. 파이썬 내장함수 int()\n",
        "idata2=int(1.78e1)\n",
        "idata3=int(171.56)\n",
        "print(idata1)\n",
        "print(idata2)\n",
        "print(idata3)"
      ],
      "metadata": {
        "colab": {
          "base_uri": "https://localhost:8080/"
        },
        "id": "Q5jVOdIJZkVd",
        "outputId": "09776bd0-6b16-4c61-975b-b85e83e7923a"
      },
      "execution_count": null,
      "outputs": [
        {
          "output_type": "stream",
          "name": "stdout",
          "text": [
            "-5\n",
            "17\n",
            "171\n"
          ]
        }
      ]
    },
    {
      "cell_type": "code",
      "source": [
        "fdata=float(10) #Unit 070 정수형 (int) 자료를 실수형 (float (분수와 루트 등등)) 자료로 변환하기\n",
        "print(fdata)"
      ],
      "metadata": {
        "colab": {
          "base_uri": "https://localhost:8080/"
        },
        "id": "tOLgKp3daj25",
        "outputId": "8744de7a-f507-41f5-e565-379473c66e7d"
      },
      "execution_count": null,
      "outputs": [
        {
          "output_type": "stream",
          "name": "stdout",
          "text": [
            "10.0\n"
          ]
        }
      ]
    },
    {
      "cell_type": "code",
      "source": [
        "def getPrime(x): #정수 리스트에서 소수만 걸러내기\n",
        "  for i in range(2, x-1): #여기에서 range는 순차적인 정수 리스트를 만드는 함수 (-> 예제 Unit099)\n",
        "    if x%i==0: #인자로 입력된 x 값이 소수인지 체크하고 소수일 경우에만 값을 리턴. \n",
        "      break. # break 안 적어 놓으면 없으면 else INDENt 에 에러 발생\n",
        "  else:\n",
        "    return x #인자로 입력된 x 값이 소수인지 체크하고 소수일 경우에만 값을 리턴. \n",
        "\n",
        "listdata=[117, 119, 1113, 11113, 11119]\n",
        "ret=filter(getPrime, listdata) # filter 내장 함수에 첫번째 인자 getPrime 함수, 두번째 인자 리스트\n",
        "print(list(ret)) #list () 함수를 이용하여 filter 객체에 담긴 내용을 리스트로 변환하여 출력한다. "
      ],
      "metadata": {
        "colab": {
          "base_uri": "https://localhost:8080/"
        },
        "id": "iF9jJtgNa7k_",
        "outputId": "341d2eee-349a-4b20-e6d6-0ed65bc080eb"
      },
      "execution_count": null,
      "outputs": [
        {
          "output_type": "stream",
          "name": "stdout",
          "text": [
            "[11113, 11119]\n"
          ]
        }
      ]
    },
    {
      "cell_type": "code",
      "source": [
        "def getPrime(n): #Unit 071 아래는 정수 n 이하의 모든 소수를 구하는 함수를 구현하는 코드 예시\n",
        "  ret = [2,3]\n",
        "  if n<=3:\n",
        "    return ret\n",
        "  for i in range (4, n+1):\n",
        "    for k in range (2, i-1):\n",
        "      a=i%k\n",
        "      if a==0:\n",
        "        isPrime = Flase\n",
        "        break\n",
        "      else:\n",
        "        ret.append(1)\n",
        "\n",
        "  return ret # 책에는 결과값이 [2,3,5,7] 나온다는데 내 코드는 결과값 return 안됩니다\n",
        "  \n",
        "  "
      ],
      "metadata": {
        "id": "SbQvfHOHejfy"
      },
      "execution_count": null,
      "outputs": []
    },
    {
      "cell_type": "code",
      "source": [
        "listdata=[0.96, 1.27, 5.07, 6.45, 8.38, 9.29, 4.93, 7.73, 3.71, 0.93]\n",
        "maxval=max(listdata)\n",
        "minval=min(listdata)\n",
        "print(maxval)\n",
        "print(minval)\n",
        "\n",
        "txt='Alotofthingsoccurearchday'\n",
        "maxval=max(txt)\n",
        "minval=min(txt)\n",
        "print(maxval)\n",
        "print(minval)\n",
        "\n",
        "maxval=max(2+3, 2*3, 2**3,3**2)\n",
        "minval=min('abz','a12')\n",
        "print(maxval)\n",
        "print(minval)"
      ],
      "metadata": {
        "colab": {
          "base_uri": "https://localhost:8080/"
        },
        "id": "R1xblnafinUT",
        "outputId": "353398ec-20f5-4b3e-fc38-5c5c2b2b8f1e"
      },
      "execution_count": null,
      "outputs": [
        {
          "output_type": "stream",
          "name": "stdout",
          "text": [
            "9.29\n",
            "0.93\n",
            "y\n",
            "A\n",
            "9\n",
            "a12\n"
          ]
        }
      ]
    },
    {
      "cell_type": "code",
      "source": [
        "a=107 #107은 16진수로 0x6b 와 같다 # 073 1 바이트에서 하위 4 비트 추출하기 (그런데 이걸 무슨 목적으로 해야하는 거지?)\n",
        "b = a & 0x0f #& 심볼은 2진수에서 덧셈 연산자 (이런 연산으로 하위 4 비트를 추출한다는 건가?)\n",
        "print(b) #11 이 출력됨. 11은 16 진수로 b 임"
      ],
      "metadata": {
        "colab": {
          "base_uri": "https://localhost:8080/"
        },
        "id": "dULyHs8hjtq7",
        "outputId": "a4bcbc5b-f5cb-4a6e-cf53-4f2cf9ce22bf"
      },
      "execution_count": null,
      "outputs": [
        {
          "output_type": "stream",
          "name": "stdout",
          "text": [
            "11\n"
          ]
        }
      ]
    },
    {
      "cell_type": "code",
      "source": [
        "a=107\n",
        "b=(a>>4) & 0x0f (>> 모든 비트를 왼쪽으로 시프트하는 연산자 >> 사용한 다음 하위 4 비트 연산방법을 통해 상위 4 비트 추출한다)\n",
        "print(b)"
      ],
      "metadata": {
        "colab": {
          "base_uri": "https://localhost:8080/"
        },
        "id": "IcHmRf_xrmAn",
        "outputId": "5b21b25c-d406-4140-a95d-b96fad8780f4"
      },
      "execution_count": null,
      "outputs": [
        {
          "output_type": "stream",
          "name": "stdout",
          "text": [
            "6\n"
          ]
        }
      ]
    },
    {
      "cell_type": "code",
      "source": [
        "txt1='A tale that was not right'\n",
        "txt2='이 또한 지나가리라'\n",
        "print(txt1[5])\n",
        "print(txt2[-2])"
      ],
      "metadata": {
        "colab": {
          "base_uri": "https://localhost:8080/"
        },
        "id": "J9HqxewjsfmH",
        "outputId": "46910574-86a5-45e4-8298-bcfb416c179a"
      },
      "execution_count": null,
      "outputs": [
        {
          "output_type": "stream",
          "name": "stdout",
          "text": [
            "e\n",
            "리\n"
          ]
        }
      ]
    },
    {
      "cell_type": "code",
      "source": [
        "txt1='A tale that was not right' #Unit076 슬라이싱, 제어문 for ~ in range(len()) 사용하여 순차적 슬라이싱 결과 얻기\n",
        "txt2='이 또한 지나가리라'\n",
        "print(txt1[3:7])\n",
        "print(txt1[:6])\n",
        "print(txt2[-4:])\n",
        "txt3='python'\n",
        "for i in range(len(txt3)):\n",
        "  print(txt3[:i+1])"
      ],
      "metadata": {
        "colab": {
          "base_uri": "https://localhost:8080/"
        },
        "id": "NAtIihLjs8V4",
        "outputId": "46093f61-860f-4f7a-8a91-0c047c74737f"
      },
      "execution_count": null,
      "outputs": [
        {
          "output_type": "stream",
          "name": "stdout",
          "text": [
            "ale \n",
            "A tale\n",
            "나가리라\n",
            "p\n",
            "py\n",
            "pyt\n",
            "pyth\n",
            "pytho\n",
            "python\n"
          ]
        }
      ]
    },
    {
      "cell_type": "code",
      "source": [
        "txt='aAbBcCdDeEfFgGhHiIjJkK'\n",
        "ret=txt[::2] #홀수 글자만 도출. 스텝 2 로 슬라이싱 하는 법\n",
        "print(ret)\n",
        "ret2=txt[1::2] #짝수 글자만 도출. 스텝 2 로 슬라이싱 응용. 즉 시작은 AbBcC... 로 해서 스텝 2 로 슬라이싱하면 원래 텍스트의 짝수만 남게됨\n",
        "print(ret2)"
      ],
      "metadata": {
        "colab": {
          "base_uri": "https://localhost:8080/"
        },
        "id": "nhD-DD9AujvO",
        "outputId": "62a6332e-3e69-4750-a1ee-ce739acf2f50"
      },
      "execution_count": null,
      "outputs": [
        {
          "output_type": "stream",
          "name": "stdout",
          "text": [
            "abcdefghijk\n",
            "ABCDEFGHIJK\n"
          ]
        }
      ]
    },
    {
      "cell_type": "code",
      "source": [
        "txt='abcdefghijk'\n",
        "ret=txt[::-1]\n",
        "print(ret)\n",
        "ret2=txt[::-2]\n",
        "print(ret2)\n",
        "ret3=txt[-2::-2]\n",
        "print(ret3)"
      ],
      "metadata": {
        "colab": {
          "base_uri": "https://localhost:8080/"
        },
        "id": "XXdkSMBRwYKn",
        "outputId": "9a13a754-7f29-4244-a1f8-bd6510e1ef2b"
      },
      "execution_count": null,
      "outputs": [
        {
          "output_type": "stream",
          "name": "stdout",
          "text": [
            "kjihgfedcba\n",
            "kigeca\n",
            "jhfdb\n"
          ]
        }
      ]
    },
    {
      "cell_type": "code",
      "source": [
        "filename=input('파일에 저장할 이름을 입력하세요:') #사용자에게 파일명을 입력 받고 \n",
        "filename=filename+'.jpg' #확장자를 자동으로 붙여주는 코드입니다.\n",
        "display_msg='당신이 저장한 파일은 <'+filename+'>입니다.'\n",
        "print(display_msg)\n",
        "\n",
        "filename1=input('Enter your keyword')\n",
        "filename2=filename1 + '.pdf'\n",
        "display_msg2='You have entered <'+filename2+'>, is this right?'\n",
        "print(display_msg2)"
      ],
      "metadata": {
        "colab": {
          "base_uri": "https://localhost:8080/"
        },
        "id": "l6A0Gm_G4vRR",
        "outputId": "a65d7555-f768-4904-b47a-14b2dc1a0eeb"
      },
      "execution_count": null,
      "outputs": [
        {
          "output_type": "stream",
          "name": "stdout",
          "text": [
            "파일에 저장할 이름을 입력하세요:nope\n",
            "당신이 저장한 파일은 <nope.jpg>입니다.\n",
            "Enter your keywordyeh\n",
            "You have entered <yeh.pdf>, is this right?\n"
          ]
        }
      ]
    },
    {
      "cell_type": "code",
      "source": [
        "filename0=input('파일에 저장할 이름을 입력하세요:') #Lines 1~2 에 변수명은 꼭 일치해야 하나? 꼭 그럴필요 없더라. \n",
        "filename=filename0+'.jpg'\n",
        "display_msg='당신이 저장한 파일은 <'+filename+'>입니다.'\n",
        "print(display_msg)"
      ],
      "metadata": {
        "colab": {
          "base_uri": "https://localhost:8080/"
        },
        "id": "p9uAFmF56eXB",
        "outputId": "abb1beda-14cd-4215-c8ab-dcbc4407b685"
      },
      "execution_count": null,
      "outputs": [
        {
          "output_type": "stream",
          "name": "stdout",
          "text": [
            "파일에 저장할 이름을 입력하세요:테스트\n",
            "당신이 저장한 파일은 <테스트.jpg>입니다.\n"
          ]
        }
      ]
    },
    {
      "cell_type": "code",
      "source": [
        "msg1='여러분'\n",
        "msg2=' 파이팅!'\n",
        "display_msg=msg1 + ',' + msg2*5 + '~!!'\n",
        "print(display_msg)"
      ],
      "metadata": {
        "colab": {
          "base_uri": "https://localhost:8080/"
        },
        "id": "U91PpWzT8r4r",
        "outputId": "c0e8a3f2-a940-4778-f46b-40e303c6c0d4"
      },
      "execution_count": null,
      "outputs": [
        {
          "output_type": "stream",
          "name": "stdout",
          "text": [
            "여러분, 파이팅! 파이팅! 파이팅! 파이팅! 파이팅!~!!\n"
          ]
        }
      ]
    },
    {
      "cell_type": "code",
      "source": [
        "msg=input('메세지를 입력하세요')\n",
        "\n",
        "if 'i' in msg: #string i 가 있나 확인하려고 '' 심볼 안에 i 를 넣은것임\n",
        "  print('당신이 프린트한 문장에는 i 가 있습니다.')\n",
        "\n",
        "else:\n",
        "   print('당신이 프린트한 문장에는 i 가 없습니다.')"
      ],
      "metadata": {
        "colab": {
          "base_uri": "https://localhost:8080/"
        },
        "id": "9J5q5ghW9bcY",
        "outputId": "beac8920-dd74-4814-b5bc-b4ac58616a7f"
      },
      "execution_count": null,
      "outputs": [
        {
          "output_type": "stream",
          "name": "stdout",
          "text": [
            "메세지를 입력하세요Ye, that was wrong!\n",
            "당신이 프린트한 문장에는 i 가 없습니다.\n"
          ]
        }
      ]
    },
    {
      "cell_type": "code",
      "source": [
        "msg=input('임의의 문장을 입력하세요:')\n",
        "msglen=len(msg) #Unicode 처리하여 \n",
        "msglen1=len(msg.encode()) #바이트 객체 크기를 알고 싶을 때\n",
        "print('당신이 입력한 문장의 길이는 <%d> 입니다' %msglen1)"
      ],
      "metadata": {
        "id": "47ux1iPJgwKQ",
        "colab": {
          "base_uri": "https://localhost:8080/"
        },
        "outputId": "38d0b733-c418-4992-8543-e7159b100ffc"
      },
      "execution_count": null,
      "outputs": [
        {
          "output_type": "stream",
          "name": "stdout",
          "text": [
            "임의의 문장을 입력하세요:안녕하세요.\n",
            "당신이 입력한 문장의 길이는 <16> 입니다\n"
          ]
        }
      ]
    },
    {
      "cell_type": "code",
      "source": [
        "txt1='A' \n",
        "txt2='안녕'\n",
        "txt3='Warcraft Three'\n",
        "txt4='3PO'\n",
        "ret1=txt1.isalpha() #문자열을 구성하는 요소가 모두 알파벳인지 (사람의 언어를 표현하기 위해 사용되는 문자만)검사. 문자열 객체의 isalpha() 메소드\n",
        "ret2=txt2.isalpha()\n",
        "ret3=txt3.isalpha()\n",
        "ret4=txt4.isalpha()\n",
        "print(ret1)\n",
        "print(ret2)\n",
        "print(ret3)\n",
        "print(ret4)"
      ],
      "metadata": {
        "colab": {
          "base_uri": "https://localhost:8080/"
        },
        "id": "KGPfE-JerkIW",
        "outputId": "5b697d47-a8de-45de-88ec-dc220598e0df"
      },
      "execution_count": null,
      "outputs": [
        {
          "output_type": "stream",
          "name": "stdout",
          "text": [
            "True\n",
            "True\n",
            "False\n",
            "False\n"
          ]
        }
      ]
    },
    {
      "cell_type": "code",
      "source": [
        "txt1='010-1234-5678'\n",
        "txt2='R2D2'\n",
        "txt3='1212'\n",
        "ret1=txt1.isdigit()##문자열을 구성하는 요소가 모두 숫자인지 검사. 문자열 객체의 isdigit() 메소드\n",
        "ret2=txt2.isdigit()\n",
        "ret3=txt3.isdigit()\n",
        "print(ret1)\n",
        "print(ret2)\n",
        "print(ret3)"
      ],
      "metadata": {
        "colab": {
          "base_uri": "https://localhost:8080/"
        },
        "id": "pGVq3tW_s0Uh",
        "outputId": "26932730-568b-430c-ca66-86cd552125c2"
      },
      "execution_count": null,
      "outputs": [
        {
          "output_type": "stream",
          "name": "stdout",
          "text": [
            "False\n",
            "False\n",
            "True\n"
          ]
        }
      ]
    },
    {
      "cell_type": "code",
      "source": [
        "txt1='안녕하세요?'\n",
        "txt2='1. Title-제목을 넣으세요'\n",
        "txt3='3피오R2D2'\n",
        "ret1=txt1.isalnum() #문자열 객체의 isalnum() 메소드는 문자열을 구성하는 요소가 모두 언어 문자 또는 숫자인지 체크\n",
        "ret2=txt2.isalnum()\n",
        "ret3=txt3.isalnum()\n",
        "print(ret1)\n",
        "print(ret2)\n",
        "print(ret3)"
      ],
      "metadata": {
        "colab": {
          "base_uri": "https://localhost:8080/"
        },
        "id": "dUjmmceKttwh",
        "outputId": "df52af80-84ec-49cb-c48f-ca7c6681d9e9"
      },
      "execution_count": null,
      "outputs": [
        {
          "output_type": "stream",
          "name": "stdout",
          "text": [
            "False\n",
            "False\n",
            "True\n"
          ]
        }
      ]
    },
    {
      "cell_type": "code",
      "source": [
        "txt='A lot of Things occur each day.'\n",
        "ret1=txt.upper()\n",
        "ret2=txt.lower()\n",
        "print(ret1)\n",
        "print(ret2)"
      ],
      "metadata": {
        "colab": {
          "base_uri": "https://localhost:8080/"
        },
        "id": "Tzn1xyxIubGY",
        "outputId": "53b384e7-f3b4-4660-a696-07cf811f8fca"
      },
      "execution_count": null,
      "outputs": [
        {
          "output_type": "stream",
          "name": "stdout",
          "text": [
            "A LOT OF THINGS OCCUR EACH DAY.\n",
            "a lot of things occur each day.\n"
          ]
        }
      ]
    },
    {
      "cell_type": "code",
      "source": [
        "txt=' 양쪽에 공백이 있는 문자열입니다. '\n",
        "ret1=txt.lstrip()\n",
        "ret2=txt.rstrip()\n",
        "ret3=txt.strip()\n",
        "print('<'+txt+'>') #왜 '<'+txt+'>'?????\n",
        "print('<'+ret1+'>')\n",
        "print('<'+ret2+'>')\n",
        "print('<'+ret3+'>')"
      ],
      "metadata": {
        "colab": {
          "base_uri": "https://localhost:8080/"
        },
        "id": "LFKK51mdwNJP",
        "outputId": "5822cf54-da8c-4c7e-a2fa-4cc53015bef6"
      },
      "execution_count": null,
      "outputs": [
        {
          "output_type": "stream",
          "name": "stdout",
          "text": [
            "< 양쪽에 공백이 있는 문자열입니다. >\n",
            "<양쪽에 공백이 있는 문자열입니다. >\n",
            "< 양쪽에 공백이 있는 문자열입니다.>\n",
            "<양쪽에 공백이 있는 문자열입니다.>\n"
          ]
        }
      ]
    },
    {
      "cell_type": "code",
      "source": [
        "numstr=input('숫자를 입력하세요:')\n",
        "try:\n",
        "  num=int(numstr)\n",
        "  print('당신이 입력한 숫자는 정수 <%d> 입니다.' %num) #정수만 출력\n",
        "except:\n",
        "  try:\n",
        "    num=float(numstr)\n",
        "    print('당신이 입력한 숫자는 실수 <%f> 입니다' %num) #실수만 출력, 따라서 3+2j 와 같은 복소수는 에러\n",
        "  except:\n",
        "    print('+++ 숫자를 입력하세요~ +++') "
      ],
      "metadata": {
        "colab": {
          "base_uri": "https://localhost:8080/"
        },
        "id": "5MJe9pmfyCoE",
        "outputId": "5489cc61-914e-4b01-c0ee-23d5fb710cee"
      },
      "execution_count": null,
      "outputs": [
        {
          "output_type": "stream",
          "name": "stdout",
          "text": [
            "숫자를 입력하세요:1\n",
            "당신이 입력한 숫자는 정수 <1> 입니다.\n"
          ]
        }
      ]
    },
    {
      "cell_type": "code",
      "source": [
        "num1=1234 #Unit090 숫자열을 문자열로 변환하기 \n",
        "num2=3.14\n",
        "\n",
        "numstr1=str(num1)\n",
        "numstr2=str(num2)\n",
        "print('num1을 문자열로 변환한 값은 \"%s\" 입니다' %numstr1) #왜 num1 변수를 쓸 수 없나?\n",
        "print('num2을 문자열로 변환한 값은 \"%s\" 입니다' %numstr2)\n",
        "print('num1을 문자열로 변환한 값은 \"%s\" 입니다' %num1) #왜 굳이 number를 string 으로 바꿔야하나? num1 변수로 써도 같은 결과가 나옴 "
      ],
      "metadata": {
        "colab": {
          "base_uri": "https://localhost:8080/"
        },
        "id": "vmMoFXjZRT19",
        "outputId": "d69614da-7bce-4150-c07b-d8c4b1312baa"
      },
      "execution_count": null,
      "outputs": [
        {
          "output_type": "stream",
          "name": "stdout",
          "text": [
            "num1을 문자열로 변환한 값은 \"1234\" 입니다\n",
            "num2을 문자열로 변환한 값은 \"3.14\" 입니다\n",
            "num1을 문자열로 변환한 값은 \"1234\" 입니다\n"
          ]
        }
      ]
    },
    {
      "cell_type": "code",
      "source": [
        "txt='A lot of things occur each day, every day.' #문자열에 있는 문자(혹은 문자열) 개수 구하기 (count())\n",
        "word_count1=txt.count('o')\n",
        "word_count2=txt.count('day')\n",
        "word_count3=txt.count('')\n",
        "print(word_count1)\n",
        "print(word_count2)\n",
        "print(word_count3) #text에 있는 공백의 개수 구하기. <공백개수 + 1= 문자열에 존재하는 단어개수> 구할 수 있다. 책에 답은 8 개 공백 답이 나오는데, 나는 43개라고 나옴???????"
      ],
      "metadata": {
        "colab": {
          "base_uri": "https://localhost:8080/"
        },
        "id": "U2V0vRB46ce0",
        "outputId": "3b50f7d5-a37b-4786-ca62-d8651e533390"
      },
      "execution_count": null,
      "outputs": [
        {
          "output_type": "stream",
          "name": "stdout",
          "text": [
            "3\n",
            "2\n",
            "43\n"
          ]
        }
      ]
    },
    {
      "cell_type": "code",
      "source": [
        "txt='A lot of things occur each day, every day.' #문자열에서 특정 문자 혹은 문자열이 최초로 나타나는 위치 찾기 (i.e., 최초 위치의 인덱스). 함수는 find()를 사용한다\n",
        "offset1=txt.find('e')\n",
        "offset2=txt.find('day')\n",
        "offset3=txt.find('day',30) # 30번 인덱스 이후부터 'day'의 문자열 찾아 위치 찾기.30 이전에 나오는 day 의 위치는 찾지 않음.\n",
        "offset_test=txt.find('little')\n",
        "print(offset1) #답은 22, 하지만 0부터 카운팅하면 21이 답이어야 함 (ask Hosung)\n",
        "print(offset2) #답은 27, 하지만 0부터 카운팅하면 26이 답이어야 함 (ask Hosung)\n",
        "print(offset3) #답은 38, 하지만 0부터 카운팅하면 37이 답이어야 함 (ask Hosung)\n",
        "print(offset_test) #답은 -1. 해당 문자나 문자열을 찾을 수 없으면 -1 리턴"
      ],
      "metadata": {
        "colab": {
          "base_uri": "https://localhost:8080/"
        },
        "id": "vfdxkfTU8beV",
        "outputId": "ed69a071-d2b7-4b46-c2b8-b39904e69bf5"
      },
      "execution_count": null,
      "outputs": [
        {
          "output_type": "stream",
          "name": "stdout",
          "text": [
            "22\n",
            "27\n",
            "38\n",
            "-1\n"
          ]
        }
      ]
    },
    {
      "cell_type": "code",
      "source": [
        "#문자열 특정 문자(열)로 분리하기 (split); 구분자(separator)로 구분되어 있는 문자열을 파싱(parsing)\n",
        "url='http://www.naver.com/news/today=20160831'\n",
        "log='name:홍길동 age:17 sex:남자 nation:조선' \n",
        "\n",
        "ret1=url.split('/')\n",
        "print(ret1)\n",
        "\n",
        "ret2=log.split()\n",
        "for data in ret2:\n",
        "  d1,d2=data.split(':')\n",
        "  print('%s->%s'%(d1,d2))"
      ],
      "metadata": {
        "colab": {
          "base_uri": "https://localhost:8080/"
        },
        "id": "sRCQ1yI2_sVU",
        "outputId": "513807e9-0b8c-4e22-acb8-15735ad389f1"
      },
      "execution_count": null,
      "outputs": [
        {
          "output_type": "stream",
          "name": "stdout",
          "text": [
            "['http:', '', 'www.naver.com', 'news', 'today=20160831']\n",
            "name->홍길동\n",
            "age->17\n",
            "sex->남자\n",
            "nation->조선\n"
          ]
        }
      ]
    },
    {
      "cell_type": "code",
      "source": [
        "url='http://www.naver.com/news/today=20160831' #문자열을 특정 문자(열)로 분리하기 (split); 구분자(separator)로 구분되어 있는 문자열을 파싱(parsing)\n",
        "log='name:홍길동 age:17 sex:남자 nation:조선'\n",
        "\n",
        "ret1=url.split('/') #Split 함수 안에 기호 (예시는 / : 등등)를 넣을 때 ' ' 를 사용해야 함. 뜻은 / 기호를 구분자로 사용하여 문자열 파싱한다는 뜻\n",
        "print(ret1)\n",
        "\n",
        "ret2=log.split() #디폴트로 공백을 구분자로 해서 문자열 파싱\n",
        "for data in ret2: #ret2에서 첫번째 요소가 data 변수에 대입되고 나서라는 뜻 (이 해석은 JUMP to PYTHON 책 for 제어문 참조해서 내가 해석)\n",
        "  d1,d2=data.split(':') #d1 과 d2 로 순열로 정렬한건가???\n",
        "  print('%s->%s' %(d1,d2)) #프린트 할 때 '%s->%s' %(d1,d2) 포매팅 할 때 중간에 comma 없음"
      ],
      "metadata": {
        "colab": {
          "base_uri": "https://localhost:8080/"
        },
        "id": "nxSITFnoqY4P",
        "outputId": "f453ecd1-21f9-4857-8eb2-28713a477f75"
      },
      "execution_count": null,
      "outputs": [
        {
          "output_type": "stream",
          "name": "stdout",
          "text": [
            "['http:', '', 'www.naver.com', 'news', 'today=20160831']\n",
            "name->홍길동\n",
            "age->17\n",
            "sex->남자\n",
            "nation->조선\n"
          ]
        }
      ]
    },
    {
      "cell_type": "code",
      "source": [
        "#문자열을 특정 문자(열)로 결합하기 Join\n",
        "loglist=['2022/02/20 12:12:12', '200', 'OK', '이 또한 지나가리라'] \n",
        "bond=';' #리스트 요소를 연결할 문자를 semicolon으로 한다\n",
        "log=bond.join(loglist) #loglist 의 모든 요소를 bond 로 연결하여 하나의 문자열을 만든다. 이 때 사용하는 JOIN() 함수의 인자는 문자열이 아니고, 문자열을 요소로 가지는 리스트라는 것을 기억하라!!!\n",
        "print(log)"
      ],
      "metadata": {
        "colab": {
          "base_uri": "https://localhost:8080/"
        },
        "id": "7QUrazsovFYW",
        "outputId": "fb3ac3bd-0e16-4f65-ed3f-c381cda46c5d"
      },
      "execution_count": null,
      "outputs": [
        {
          "output_type": "stream",
          "name": "stdout",
          "text": [
            "2022/02/20 12:12:12;200;OK;이 또한 지나가리라\n"
          ]
        }
      ]
    },
    {
      "cell_type": "code",
      "source": [
        "#문자열에서 특정 문자(열)을 다른 문자(열)로 바꾸기 REPLACE\n",
        "\n",
        "txt='My password is 1234'\n",
        "ret1=txt.replace('1','0')\n",
        "ret2=txt.replace('1', 'python')\n",
        "print(ret1)\n",
        "print(ret2)\n",
        "\n",
        "txt='매일 많은 일들이 일어납니다'\n",
        "ret3=txt.replace('매일', '항상'). # 위에 text 가 2 번 다르게 할당되었다. 하나는 '1234' 하나는 '매일 많은 일들이 일어납니다.' 그런데 여기서 사용하는 변수 txt 가 두번째 한글 문자열로 되는 것을 보니, 변수는 가장 나중에 설정된 것이 사용되는 것인가????\n",
        "ret4=ret3.replace('일','사건')\n",
        "print(ret3)\n",
        "print(ret4)"
      ],
      "metadata": {
        "colab": {
          "base_uri": "https://localhost:8080/"
        },
        "id": "ddqkTIKlwp3u",
        "outputId": "70e252f4-e654-4cc9-973f-94d05db5dd82"
      },
      "execution_count": null,
      "outputs": [
        {
          "output_type": "stream",
          "name": "stdout",
          "text": [
            "My password is 0234\n",
            "My password is python234\n",
            "항상 많은 일들이 일어납니다\n",
            "항상 많은 사건들이 사건어납니다\n"
          ]
        }
      ]
    },
    {
      "cell_type": "code",
      "source": [
        "#문자열을 bite 객체로 바꾸기 (encode)--> \n",
        "\n",
        "u_txt='I love python'\n",
        "b_txt=u_txt.encode() #encode() 함수 결과값은 --> b'string'으로 나온다. 여기서는 디폴트로 UTF-8로 인코딩 한 바이트로 변환. 파이썬3은 모든 문자열을 유니코드로 취급하고, 철자 'I'는 정수 73 으로 처리된다 한다. \n",
        "print(u_txt)\n",
        "print(b_txt)\n",
        "\n",
        "ret1='I'==u_txt[0] #유니코드 문자열 vs. 바이트 객체 형식의 문자열 (encode 사용할 때는 바이트 객체 형식으로 변환한 후 해당 라이브러리 사용)\n",
        "ret2='I'==b_txt[0]\n",
        "print(ret1)\n",
        "print(ret2)"
      ],
      "metadata": {
        "colab": {
          "base_uri": "https://localhost:8080/"
        },
        "id": "rlfQwnc2yC5Y",
        "outputId": "bea9af8c-a9e4-4524-924a-fbca124af2ed"
      },
      "execution_count": null,
      "outputs": [
        {
          "output_type": "stream",
          "name": "stdout",
          "text": [
            "I love python\n",
            "b'I love python'\n",
            "True\n",
            "False\n"
          ]
        }
      ]
    },
    {
      "cell_type": "code",
      "source": [
        "#Unit097 바이트 객체를 문자열로 바꾸기: 파일을 바이너리 모드로 읽거나 네트워크를 통해 읽어들인 데이터는 대부분 2진 데이터 스트림인 바이트 객체이다. 파이선3에서 이 데이터를 문자열로 활용하려면 decode() 함수를 사용해야 한다.\n",
        "\n",
        "b_txt=b'A lot of things occur each day'\n",
        "u_txt=b_txt.decode()\n",
        "print(u_txt)"
      ],
      "metadata": {
        "colab": {
          "base_uri": "https://localhost:8080/"
        },
        "id": "zFwyOlDh9vHO",
        "outputId": "7d8a6d85-09aa-4bde-972d-a6735237c958"
      },
      "execution_count": null,
      "outputs": [
        {
          "output_type": "stream",
          "name": "stdout",
          "text": [
            "A lot of things occur each day\n"
          ]
        }
      ]
    },
    {
      "cell_type": "code",
      "source": [
        "#Unit098-1of2 문자열을 정리하기 (sorted, join) #정렬한 결과인 리스트를 문자열로 생성하려면 문자열 객체의 join() 함수를 사용하면 된다.\n",
        "\n",
        "strdata=input('사용할 문자열을 입력하세요:')\n",
        "ret1=sorted(strdata) #sorted() 는 인자로 입력된 모든 문자를 오름차순으로 정렬하고 각 문자 요소를 리스트로 리턴합니다  \n",
        "ret2=sorted(strdata,reverse=True) #정렬된 문자 요소를 역 순으로 보여주려면 sorted(입력된 문자열, reverse=True)라고 입력하면 내림차순으로 정렬된 리스트가 출력된다\n",
        "print(ret1)\n",
        "print(ret2)\n",
        "ret1=''.join(ret1) # '' 두개로도 해야함. double quotation 하나 쓰면 X. 여기서 ret1 이 위에도, 함수 인자로도, 함수를 할당하는 변수에도 ret1 다 같이 사용해도 되는 게 신기함?????? \n",
        "ret2=''.join(ret2)\n",
        "print('오름차순으로 정렬된 문자열은 <'+ret1+'>입니다.')\n",
        "print('오름차순으로 정렬된 문자열은 <'+ret2+'>입니다.')"
      ],
      "metadata": {
        "colab": {
          "base_uri": "https://localhost:8080/"
        },
        "id": "mgJIv9iY_5zd",
        "outputId": "d8f1d455-3f18-41f2-fa49-6cac0a0f5a22"
      },
      "execution_count": null,
      "outputs": [
        {
          "output_type": "stream",
          "name": "stdout",
          "text": [
            "사용할 문자열을 입력하세요:abc가나다\n",
            "['a', 'b', 'c', '가', '나', '다']\n",
            "['다', '나', '가', 'c', 'b', 'a']\n",
            "오름차순으로 정렬된 문자열은 <abc가나다>입니다.\n",
            "오름차순으로 정렬된 문자열은 <다나가cba>입니다.\n"
          ]
        }
      ]
    },
    {
      "cell_type": "code",
      "source": [
        ""
      ],
      "metadata": {
        "id": "IFSQdO9ULJ7l"
      },
      "execution_count": null,
      "outputs": []
    },
    {
      "cell_type": "code",
      "source": [
        "#Unit098-2of2 문자열을 정리하기 (sorted, join) #정렬한 결과인 리스트를 문자열로 생성하려면 문자열 객체의 join() 함수를 사용하면 된다.\n",
        "strdata=input('정렬할 문자열을 입력하세욜:')\n",
        "ret1=sorted(strdata)\n",
        "ret2=sorted(strdata,reverse=True)\n",
        "print(ret1)\n",
        "print(ret2)\n",
        "ret1=''.join(ret1)\n",
        "ret2=''.join(ret2)\n",
        "print(ret1)\n",
        "print(ret2)"
      ],
      "metadata": {
        "colab": {
          "base_uri": "https://localhost:8080/"
        },
        "id": "y_LuFbckLRYj",
        "outputId": "6a61a4ce-392f-44f6-b605-8e0fd8d96cbf"
      },
      "execution_count": null,
      "outputs": [
        {
          "output_type": "stream",
          "name": "stdout",
          "text": [
            "정렬할 문자열을 입력하세욜:qwertyuiop34189\n",
            "['1', '3', '4', '8', '9', 'e', 'i', 'o', 'p', 'q', 'r', 't', 'u', 'w', 'y']\n",
            "['y', 'w', 'u', 't', 'r', 'q', 'p', 'o', 'i', 'e', '9', '8', '4', '3', '1']\n",
            "13489eiopqrtuwy\n",
            "ywutrqpoie98431\n"
          ]
        }
      ]
    },
    {
      "cell_type": "code",
      "source": [
        "#099순차적인 정수 리스트 만들기\n",
        "\n",
        "range1=range(10) #[0,1,2,3,4,5,6,7,8,9] 출력됨\n",
        "range2=range(10,20) #[10,11,12,13,14,15,16,17,18,19] 출력됨\n",
        "print(list(range1))\n",
        "print(list(range2))\n",
        "\n",
        "ret=0\n",
        "for i in range(10):\n",
        "  ret+=(i+1) # 괄호 ( ) 없이도 같은 결과가 나옴 ret+=i+1\n",
        "print(ret)"
      ],
      "metadata": {
        "colab": {
          "base_uri": "https://localhost:8080/"
        },
        "id": "LjCmOWlKMoDq",
        "outputId": "c082d8c1-5db0-44a7-9229-24c287b9be9c"
      },
      "execution_count": null,
      "outputs": [
        {
          "output_type": "stream",
          "name": "stdout",
          "text": [
            "[0, 1, 2, 3, 4, 5, 6, 7, 8, 9]\n",
            "[10, 11, 12, 13, 14, 15, 16, 17, 18, 19]\n",
            "55\n"
          ]
        }
      ]
    },
    {
      "cell_type": "code",
      "source": [
        "#Unit100라스트에서 특정 위치의 요소 얻기\n",
        "\n",
        "listdata=[1,2,'a','b', 'c', [4,5,6]]\n",
        "val1=listdata[1] ##리스트에서 3번 째 요소 --> 2\n",
        "val2=listdata[3] #리스트에서 3번 째 요소 --> b\n",
        "val3=listdata[5][1] #리스트 5 번째 요소에서 1번째 요소 --> 5\n",
        "print(val1)\n",
        "print(val2)\n",
        "print(val3)"
      ],
      "metadata": {
        "colab": {
          "base_uri": "https://localhost:8080/"
        },
        "id": "hEm-qnrEQztN",
        "outputId": "3c63456b-64c4-46c9-bb67-4cee15806f90"
      },
      "execution_count": null,
      "outputs": [
        {
          "output_type": "stream",
          "name": "stdout",
          "text": [
            "2\n",
            "b\n",
            "5\n"
          ]
        }
      ]
    },
    {
      "cell_type": "code",
      "source": [
        "#Unit101 리스트에서 특정 요소의 위치 구하기 (index)\n",
        "\n",
        "solarsys=['태양','수성','금성','지구','화성', '목성','토성','천왕성','해왕성','지구']\n",
        "planet='지구'\n",
        "pos=solarsys.index(planet)\n",
        "print('%s은(는) 태양계에서 %d 번 째에 위치하고 있습니다.' %(planet,pos))\n",
        "pos=solarsys.index(planet,5) # 인덱스가 5 이상인 요소부터 검색. syntax 외워. \n",
        "print('%s은(는) 태양계에서 %d 번 째에 위치하고 있습니다.' %(planet,pos))\n"
      ],
      "metadata": {
        "colab": {
          "base_uri": "https://localhost:8080/"
        },
        "id": "SmZsxvB0RwB3",
        "outputId": "86f5d928-d406-4673-f387-e766bae3be2a"
      },
      "execution_count": null,
      "outputs": [
        {
          "output_type": "stream",
          "name": "stdout",
          "text": [
            "지구은(는) 태양계에서 3 번 째에 위치하고 있습니다.\n",
            "지구은(는) 태양계에서 9 번 째에 위치하고 있습니다.\n"
          ]
        }
      ]
    },
    {
      "cell_type": "code",
      "source": [
        "#Unit102 리스트에서 특정 위치의 요소를 변경하기\n",
        "\n",
        "solarsys=['태양','수성','금성','지구','화성', '목성','토성','천왕성','해왕성','지구']\n",
        "planet='화성'\n",
        "pos=solarsys.index(planet)\n",
        "solarsys[pos]='Mars' #리스틔의 인덱싱된 위치/포지션은 대괄호 [ ]를 써서 안에 indexed position을 입력해야 결과가 나오고 괄호( ) 사용하면 에러메세지\n",
        "print(solarsys)\n",
        "planet='금성'\n",
        "pos=solarsys.index(planet)\n",
        "solarsys[pos]='Venus'\n",
        "print(solarsys)\n",
        "planet='지구'\n",
        "pos=solarsys.index(planet)\n",
        "solarsys[pos]='Earth'\n",
        "print(solarsys)"
      ],
      "metadata": {
        "colab": {
          "base_uri": "https://localhost:8080/"
        },
        "id": "qp0jIMUiU5Vo",
        "outputId": "defad071-9dbd-4064-c5de-715da826f3b9"
      },
      "execution_count": null,
      "outputs": [
        {
          "output_type": "stream",
          "name": "stdout",
          "text": [
            "['태양', '수성', '금성', '지구', 'Mars', '목성', '토성', '천왕성', '해왕성', '지구']\n",
            "['태양', '수성', 'Venus', '지구', 'Mars', '목성', '토성', '천왕성', '해왕성', '지구']\n",
            "['태양', '수성', 'Venus', 'Earth', 'Mars', '목성', '토성', '천왕성', '해왕성', '지구']\n"
          ]
        }
      ]
    },
    {
      "cell_type": "code",
      "source": [
        "#Unit103 리스트에서 특정 구간에 있는 요소 추출하기\n",
        "\n",
        "solarsys=['태양','수성','금성','지구','화성', '목성','토성','천왕성','해왕성','지구']\n",
        "rock_planets=solarsys[1:4]\n",
        "gas_planets=solarsys[4:]\n",
        "print('태양계의 암석계 행성:', end=''); print(rock_planets) #print('string', end=''); syntax 잘 못 외웠음. 앞에거 다시 참조\n",
        "print('태양계의 가스형 행성:', end=''); print(gas_planets)"
      ],
      "metadata": {
        "colab": {
          "base_uri": "https://localhost:8080/"
        },
        "id": "oDHi_BkcaZ-t",
        "outputId": "a955821b-9104-49cd-b227-1468518b16ab"
      },
      "execution_count": null,
      "outputs": [
        {
          "output_type": "stream",
          "name": "stdout",
          "text": [
            "태양계의 암석계 행성:['수성', '금성', '지구']\n",
            "태양계의 가스형 행성:['화성', '목성', '토성', '천왕성', '해왕성', '지구']\n"
          ]
        }
      ]
    },
    {
      "cell_type": "code",
      "source": [
        "#Unit104 리스트에서 짜수 번 째 요소만 추출하기/슬라이싱\n",
        "\n",
        "listdata=list(range(1,21)) #list 다음에 함수를 넣으면 그것을 둘러싼 것이 대괄호가 아니고 중괄호네... 희한함.\n",
        "evenlist=listdata[1::2]\n",
        "print(evenlist)\n",
        "\n",
        "#List에서 홀수 번 째 슬라이싱\n",
        "\n",
        "listdata=list(range(1,21)) #list 다음에 함수를 넣으면 그것을 둘러싼 것이 대괄호가 아니고 중\n",
        "oddlist=listdata[::2]\n",
        "print(oddlist)\n"
      ],
      "metadata": {
        "colab": {
          "base_uri": "https://localhost:8080/"
        },
        "id": "BZ8H_FDrt5_z",
        "outputId": "e1ae10f9-6f57-4276-b355-91987a480e37"
      },
      "execution_count": null,
      "outputs": [
        {
          "output_type": "stream",
          "name": "stdout",
          "text": [
            "[2, 4, 6, 8, 10, 12, 14, 16, 18, 20]\n",
            "[1, 3, 5, 7, 9, 11, 13, 15, 17, 19]\n"
          ]
        }
      ]
    },
    {
      "cell_type": "code",
      "source": [
        "#Unit105 리스트 요소 순서를 역순으로 만들기\n",
        "\n",
        "listdata=list(range(1,11))\n",
        "listdata.reverse() #List 객체의 reverse() 메소드\n",
        "print(listdata)"
      ],
      "metadata": {
        "colab": {
          "base_uri": "https://localhost:8080/"
        },
        "id": "Z8xKa0yyvZgy",
        "outputId": "84e6f036-f85d-4078-8e68-53fd8fbe7500"
      },
      "execution_count": null,
      "outputs": [
        {
          "output_type": "stream",
          "name": "stdout",
          "text": [
            "[10, 9, 8, 7, 6, 5, 4, 3, 2, 1]\n"
          ]
        }
      ]
    },
    {
      "cell_type": "code",
      "source": [
        "#Unit106 list 요소 순서를 역순으로 만들기 (reversed)\n",
        "\n",
        "listdata=list(range(5)) #range()는 range(정수인자1,정수인자2) 하거나 range(정수인자) 하면 0부터 N-1 까지 나옴. \n",
        "ret1=reversed(listdata)\n",
        "print('원본리스트',end=''); print(listdata)\n",
        "print('역순리스트',end=''); print(list(ret1)) #print(ret1) 하면 결과가 이상하게 이렇게 \"역순리스트<list_reverseiterator object at 0x7f85f47d07d0>\" 나와서 중괄호 시작을 (list..라고 해야함.)\n",
        "\n",
        "ret2=listdata[::-1]\n",
        "print('슬라이싱 이용',end=''); print(ret2)"
      ],
      "metadata": {
        "colab": {
          "base_uri": "https://localhost:8080/"
        },
        "id": "jomuL2Wrv4Pc",
        "outputId": "d8e6aa06-58bc-4b06-fd71-ee5951f3fc5a"
      },
      "execution_count": null,
      "outputs": [
        {
          "output_type": "stream",
          "name": "stdout",
          "text": [
            "원본리스트[0, 1, 2, 3, 4]\n",
            "역순리스트[4, 3, 2, 1, 0]\n",
            "슬라이싱 이용[4, 3, 2, 1, 0]\n"
          ]
        }
      ]
    },
    {
      "cell_type": "code",
      "source": [
        "#Unit107 리스트 합치기\n",
        "\n",
        "listdata1=['a','b','c','d','e']\n",
        "listdata2=['f','g','h','i','j']\n",
        "listdata3=listdata1+listdata2\n",
        "listdata4=listdata2+listdata1\n",
        "print(listdata3)\n",
        "print(listdata4)\n"
      ],
      "metadata": {
        "colab": {
          "base_uri": "https://localhost:8080/"
        },
        "id": "1-5Z5c3_ybwo",
        "outputId": "2361d618-7914-4a44-d3c9-100885b8fb9d"
      },
      "execution_count": null,
      "outputs": [
        {
          "output_type": "stream",
          "name": "stdout",
          "text": [
            "['a', 'b', 'c', 'd', 'e', 'f', 'g', 'h', 'i', 'j']\n",
            "['f', 'g', 'h', 'i', 'j', 'a', 'b', 'c', 'd', 'e']\n"
          ]
        }
      ]
    },
    {
      "cell_type": "code",
      "source": [
        "#Unit108 리스트 반복하기\n",
        "listdata=list(range(3))\n",
        "ret=listdata*3\n",
        "print(ret)\n",
        "listdata=list(range(1,11))\n",
        "ret=listdata*3\n",
        "print(ret)"
      ],
      "metadata": {
        "colab": {
          "base_uri": "https://localhost:8080/"
        },
        "id": "lBJkLi29Dk15",
        "outputId": "ebdc1bc6-3d83-48e9-a101-f57e9351764e"
      },
      "execution_count": null,
      "outputs": [
        {
          "output_type": "stream",
          "name": "stdout",
          "text": [
            "[0, 1, 2, 0, 1, 2, 0, 1, 2]\n",
            "[1, 2, 3, 4, 5, 6, 7, 8, 9, 10, 1, 2, 3, 4, 5, 6, 7, 8, 9, 10, 1, 2, 3, 4, 5, 6, 7, 8, 9, 10]\n"
          ]
        }
      ]
    },
    {
      "cell_type": "code",
      "source": [
        "#Unit109 리스트에 요소 추가하기\n",
        "\n",
        "listdata=[]\n",
        "for i in range(3):\n",
        "  txt=input('리스트에 추가할 값을 입력하세요[%d/3]'%(i+1)) #[%d/3] 사용자로부터 값을 세 번 받음. 따라는 했지만, [ ] / 사용법이 이해는 안됨.\n",
        "  listdata.append(txt)\n",
        "  print(listdata)"
      ],
      "metadata": {
        "colab": {
          "base_uri": "https://localhost:8080/"
        },
        "id": "nv0q_QsGDktC",
        "outputId": "db21c684-7950-4c5f-c9b9-89204f0fda68"
      },
      "execution_count": null,
      "outputs": [
        {
          "output_type": "stream",
          "name": "stdout",
          "text": [
            "리스트에 추가할 값을 입력하세요[1/3]11\n",
            "['11']\n",
            "리스트에 추가할 값을 입력하세요[2/3]22\n",
            "['11', '22']\n",
            "리스트에 추가할 값을 입력하세요[3/3]33\n",
            "['11', '22', '33']\n"
          ]
        }
      ]
    },
    {
      "cell_type": "code",
      "source": [
        "#Unit110 리스트의 특정 위치에 요소 삽입하기 (Insert): \n",
        "\n",
        "solarsys=['태양','수성','금성','지구','화성', '목성','토성','천왕성','해왕성','지구']\n",
        "pos=solarsys.index('목성') #Solarsys 에서 목성의 인덱스를 구하여 두기; 인덱스 메소드에 인자를 숫자로 (5) 혹은 [5] 넣으니까 에러\n",
        "solarsys.insert(pos, '소행성') #리스트 객체의 Insert () 메소드는 리스트의 특정 위치에 요소를 삽입합니다. \n",
        "print(solarsys)"
      ],
      "metadata": {
        "colab": {
          "base_uri": "https://localhost:8080/"
        },
        "id": "Qj0yoyrpFe_L",
        "outputId": "71e9b549-5b60-4633-9921-de309e62c5db"
      },
      "execution_count": null,
      "outputs": [
        {
          "output_type": "stream",
          "name": "stdout",
          "text": [
            "['태양', '수성', '금성', '지구', '화성', '소행성', '목성', '토성', '천왕성', '해왕성', '지구']\n"
          ]
        }
      ]
    },
    {
      "cell_type": "code",
      "source": [
        "solarsys=['태양','수성','금성','지구','화성', '목성','토성','천왕성','해왕성','지구']\n",
        "del solarsys[0] #DEL 을 먼저 쓰고 뒤에 리스트에 해당하는 변수 써주고 [] 안에 리스트의 인덱스를 번호로 써줌\n",
        "print(solarsys)\n",
        "del solarsys[-2]\n",
        "print(solarsys)"
      ],
      "metadata": {
        "colab": {
          "base_uri": "https://localhost:8080/"
        },
        "id": "dY6xxgICd5g0",
        "outputId": "f918ac20-4167-41ae-ebb9-fe2792c002cc"
      },
      "execution_count": null,
      "outputs": [
        {
          "output_type": "stream",
          "name": "stdout",
          "text": [
            "['수성', '금성', '지구', '화성', '목성', '토성', '천왕성', '해왕성', '지구']\n",
            "['수성', '금성', '지구', '화성', '목성', '토성', '천왕성', '지구']\n"
          ]
        }
      ]
    },
    {
      "cell_type": "code",
      "source": [
        "#REMOVE 메소드 사용하기: List에서 특정 요소의 값을 알고 있을 때 그 요소를 제거하는 방법으로 객체 내 remove() 메소드 사용한다\n",
        "solarsys=['태양','수성','금성','지구','화성', '목성','토성','천왕성','해왕성','지구']\n",
        "solarsys.remove('태양')\n",
        "print(solarsys)"
      ],
      "metadata": {
        "colab": {
          "base_uri": "https://localhost:8080/"
        },
        "id": "zl7Za9-4eplh",
        "outputId": "0b6ba1fb-cce6-4125-eec2-b77bd6326c19"
      },
      "execution_count": null,
      "outputs": [
        {
          "output_type": "stream",
          "name": "stdout",
          "text": [
            "['수성', '금성', '지구', '화성', '목성', '토성', '천왕성', '해왕성', '지구']\n"
          ]
        }
      ]
    },
    {
      "cell_type": "code",
      "source": [
        "#Unit113 List 특정 구간 안에 있는 모든 요소 제거하기\n",
        "solarsys=['태양','수성','금성','지구','화성', '목성','토성','천왕성','해왕성','지구']\n",
        "del solarsys[1:3]\n",
        "print(solarsys)\n",
        "del solarsys[:-3]\n",
        "print(solarsys)\n",
        "solarsys1=['태양','수성','금성','지구','화성', '목성','토성','천왕성','해왕성','지구']\n",
        "del solarsys1[::2]\n",
        "print(solarsys1)\n",
        "solarsys2=['태양','수성','금성','지구','화성', '목성','토성','천왕성','해왕성','지구']\n",
        "del solarsys2[1::2]\n",
        "print(solarsys2)"
      ],
      "metadata": {
        "colab": {
          "base_uri": "https://localhost:8080/"
        },
        "id": "yi_jm46aiqPt",
        "outputId": "cfc50f99-9e2c-4228-cca1-708e86deef44"
      },
      "execution_count": null,
      "outputs": [
        {
          "output_type": "stream",
          "name": "stdout",
          "text": [
            "['태양', '지구', '화성', '목성', '토성', '천왕성', '해왕성', '지구']\n",
            "['천왕성', '해왕성', '지구']\n",
            "['수성', '지구', '목성', '천왕성', '지구']\n",
            "['태양', '금성', '화성', '토성', '해왕성']\n"
          ]
        }
      ]
    },
    {
      "cell_type": "code",
      "source": [
        "#Unit114 List에 있는 요소 갯수 구하기 (LEN)\n",
        "listdata=[2,2,1,3,8,5,7,6,3,6,2,3,9,4,4]\n",
        "listsize=len(listdata)\n",
        "print(listsize) "
      ],
      "metadata": {
        "colab": {
          "base_uri": "https://localhost:8080/"
        },
        "id": "2tymvwfbkDMl",
        "outputId": "3773f0d2-51db-43b2-cbd1-b4dd2237b39c"
      },
      "execution_count": null,
      "outputs": [
        {
          "output_type": "stream",
          "name": "stdout",
          "text": [
            "15\n"
          ]
        }
      ]
    },
    {
      "cell_type": "code",
      "source": [
        "#Unit115 List에서 특정 요소 개수 구하기\n",
        "listdata=[2,2,1,3,8,5,7,6,3,6,2,3,9,4,4]\n",
        "c1=listdata.count(2)\n",
        "c2=listdata.count(7)\n",
        "print(c1)\n",
        "print(c2)"
      ],
      "metadata": {
        "colab": {
          "base_uri": "https://localhost:8080/"
        },
        "id": "GaLuKk5ZeUS2",
        "outputId": "581c25f2-fa6d-45b4-e8a0-6c1e8fc9cb50"
      },
      "execution_count": null,
      "outputs": [
        {
          "output_type": "stream",
          "name": "stdout",
          "text": [
            "3\n",
            "1\n"
          ]
        }
      ]
    },
    {
      "cell_type": "code",
      "source": [
        "#Unit116 List 제거하기\n",
        "listdata=[2,2,1,3,8,5,7,6,3,6,2,3,9,4,4]\n",
        "del listdata\n",
        "print(listdata)\n"
      ],
      "metadata": {
        "colab": {
          "base_uri": "https://localhost:8080/",
          "height": 198
        },
        "id": "Mvjzu25YxBvK",
        "outputId": "e390301c-e69b-429a-b70b-ff4b428a3677"
      },
      "execution_count": null,
      "outputs": [
        {
          "output_type": "error",
          "ename": "NameError",
          "evalue": "ignored",
          "traceback": [
            "\u001b[0;31m---------------------------------------------------------------------------\u001b[0m",
            "\u001b[0;31mNameError\u001b[0m                                 Traceback (most recent call last)",
            "\u001b[0;32m<ipython-input-32-ddd14b0a01de>\u001b[0m in \u001b[0;36m<module>\u001b[0;34m()\u001b[0m\n\u001b[1;32m      2\u001b[0m \u001b[0mlistdata\u001b[0m\u001b[0;34m=\u001b[0m\u001b[0;34m[\u001b[0m\u001b[0;36m2\u001b[0m\u001b[0;34m,\u001b[0m\u001b[0;36m2\u001b[0m\u001b[0;34m,\u001b[0m\u001b[0;36m1\u001b[0m\u001b[0;34m,\u001b[0m\u001b[0;36m3\u001b[0m\u001b[0;34m,\u001b[0m\u001b[0;36m8\u001b[0m\u001b[0;34m,\u001b[0m\u001b[0;36m5\u001b[0m\u001b[0;34m,\u001b[0m\u001b[0;36m7\u001b[0m\u001b[0;34m,\u001b[0m\u001b[0;36m6\u001b[0m\u001b[0;34m,\u001b[0m\u001b[0;36m3\u001b[0m\u001b[0;34m,\u001b[0m\u001b[0;36m6\u001b[0m\u001b[0;34m,\u001b[0m\u001b[0;36m2\u001b[0m\u001b[0;34m,\u001b[0m\u001b[0;36m3\u001b[0m\u001b[0;34m,\u001b[0m\u001b[0;36m9\u001b[0m\u001b[0;34m,\u001b[0m\u001b[0;36m4\u001b[0m\u001b[0;34m,\u001b[0m\u001b[0;36m4\u001b[0m\u001b[0;34m]\u001b[0m\u001b[0;34m\u001b[0m\u001b[0;34m\u001b[0m\u001b[0m\n\u001b[1;32m      3\u001b[0m \u001b[0;32mdel\u001b[0m \u001b[0mlistdata\u001b[0m\u001b[0;34m\u001b[0m\u001b[0;34m\u001b[0m\u001b[0m\n\u001b[0;32m----> 4\u001b[0;31m \u001b[0mprint\u001b[0m\u001b[0;34m(\u001b[0m\u001b[0mlistdata\u001b[0m\u001b[0;34m)\u001b[0m\u001b[0;34m\u001b[0m\u001b[0;34m\u001b[0m\u001b[0m\n\u001b[0m",
            "\u001b[0;31mNameError\u001b[0m: name 'listdata' is not defined"
          ]
        }
      ]
    },
    {
      "cell_type": "code",
      "source": [
        "#Unit117 List 요소 정렬하기 (SORT)\n",
        "\n",
        "namelist=['Mary','Sam','Aimy', 'Tom', 'Michael', 'Bob', 'Kelly']\n",
        "namelist.sort()\n",
        "namelist.sort(reverse=True)\n",
        "print(namelist)\n",
        "\n",
        "namelist=['Mary','Sam','Aimy', 'Tom', 'Michael', 'Bob', 'Kelly']\n",
        "ret1=namelist.sort()\n",
        "ret2=namelist.sort(reverse=True)\n",
        "print(ret1) #namelist 객체에 sort 메소드를 사용하여 리스트 요소를 ascending 정리하라는 것을 변수 ret1 에 할당한 것을, 이 후 프린트 하면 NONE 이 나옴. 왜????\n",
        "print(ret2) #namelist 객체에 sort 메소드를 사용하여 리스트 요소를 descending 정리하라는 것을 변수 ret2 에 할당한 것을, 이 후 프린트 하면 NONE 이 나옴. 왜????\n"
      ],
      "metadata": {
        "colab": {
          "base_uri": "https://localhost:8080/"
        },
        "id": "9VnZjev8xeM1",
        "outputId": "ed7d7c59-4a86-477e-c934-08a6da18ac92"
      },
      "execution_count": null,
      "outputs": [
        {
          "output_type": "stream",
          "name": "stdout",
          "text": [
            "['Tom', 'Sam', 'Michael', 'Mary', 'Kelly', 'Bob', 'Aimy']\n",
            "None\n",
            "None\n"
          ]
        }
      ]
    },
    {
      "cell_type": "code",
      "source": [
        "#Unit118 List 요소 정렬하기 (SORTED)\n",
        "namelist=['Mary','Sam','Aimy', 'Tom', 'Michael', 'Bob', 'Kelly']\n",
        "ret1=sorted(namelist) #namelist 객체에 sorted 메소드를 사용하여 리스트 요소를 ascending 정리한 것을 변수 ret1 에 할당하면, 이 후 프린트 하면 ascending 결과가 나옴 \n",
        "ret2=sorted(namelist,reverse=True) #namelist 객체에 sorted 메소드를 사용하여 리스트 요소를 ascending 정리한 것을 변수 ret1 에 할당하면, 이 후 프린트 하면 descending 결과가 나옴 \n",
        "print(ret1)\n",
        "print(ret2)"
      ],
      "metadata": {
        "colab": {
          "base_uri": "https://localhost:8080/"
        },
        "id": "TjbXLyG_y2BJ",
        "outputId": "e01ea5ea-af2d-42e9-c1fb-cda1f1390eba"
      },
      "execution_count": null,
      "outputs": [
        {
          "output_type": "stream",
          "name": "stdout",
          "text": [
            "['Aimy', 'Bob', 'Kelly', 'Mary', 'Michael', 'Sam', 'Tom']\n",
            "['Tom', 'Sam', 'Michael', 'Mary', 'Kelly', 'Bob', 'Aimy']\n"
          ]
        }
      ]
    },
    {
      "cell_type": "code",
      "source": [
        "#Unit119 List 요소 무작위로 섞기\n",
        "\n",
        "from random import shuffle #random 은 파인썬 기본 모듈. Pseudo random number 발생기를 구현한 모듈. 이 모듈은 shuffle() 메소드 제공하는데 List의 요소를 무작위로 섞는 기능을 수행\n",
        "\n",
        "listdata=list(range(1,11))\n",
        "for i in range(3): #for 제어문을 이용하여 shuffle 을 이용하여 무작위로 섞은 결과를 3번 출력 \n",
        "  shuffle(listdata)\n",
        "  print(listdata)\n",
        "\n"
      ],
      "metadata": {
        "colab": {
          "base_uri": "https://localhost:8080/"
        },
        "id": "UDT6XIKFzoLK",
        "outputId": "e25c6de6-0e61-46f5-d0fc-c540f06ee4ae"
      },
      "execution_count": null,
      "outputs": [
        {
          "output_type": "stream",
          "name": "stdout",
          "text": [
            "[4, 8, 1, 9, 10, 3, 6, 7, 5, 2]\n",
            "[5, 6, 8, 4, 2, 10, 7, 9, 1, 3]\n",
            "[5, 2, 9, 10, 1, 6, 7, 3, 4, 8]\n"
          ]
        }
      ]
    },
    {
      "cell_type": "code",
      "source": [
        "from random import shuffle #여기는 내 스스로 연습\n",
        "listdata=list(range(1,11))\n",
        "\n",
        "for i in range (3):\n",
        "  shuffle(listdata)\n",
        "  print(listdata)"
      ],
      "metadata": {
        "colab": {
          "base_uri": "https://localhost:8080/"
        },
        "id": "ApcLpa8S5TAF",
        "outputId": "55e814d7-451b-4c56-e26e-49c4c247f7cf"
      },
      "execution_count": null,
      "outputs": [
        {
          "output_type": "stream",
          "name": "stdout",
          "text": [
            "[6, 4, 10, 7, 5, 2, 9, 8, 1, 3]\n",
            "[2, 5, 10, 1, 8, 7, 6, 3, 9, 4]\n",
            "[7, 3, 10, 5, 1, 6, 8, 4, 9, 2]\n"
          ]
        }
      ]
    },
    {
      "cell_type": "code",
      "source": [
        "#Unit120 List 의 모든 요소를 인덱스와 쌍으로 추출하기 (파이썬 내장함수 ENUMERATE) \n",
        "\n",
        "solarsys=['태양','수성','금성','지구','화성', '목성','토성','천왕성','해왕성','지구']\n",
        "ret=list(enumerate(solarsys)) #List 구성요소 안에 함수를 넣는다. 예시: liist(range(1,11); list(enumerate(solarsys)\n",
        "print(ret)\n",
        "\n",
        "for i, body in enumerate(solarsys):\n",
        "  print('태양계의 %d 번째 천체: %s' %(i, body))"
      ],
      "metadata": {
        "colab": {
          "base_uri": "https://localhost:8080/"
        },
        "id": "1JhDKect5uzW",
        "outputId": "494d9467-c108-4a31-97a4-c7283be1c71b"
      },
      "execution_count": null,
      "outputs": [
        {
          "output_type": "stream",
          "name": "stdout",
          "text": [
            "[(0, '태양'), (1, '수성'), (2, '금성'), (3, '지구'), (4, '화성'), (5, '목성'), (6, '토성'), (7, '천왕성'), (8, '해왕성'), (9, '지구')]\n",
            "태양계의 0 번째 천체: 태양\n",
            "태양계의 1 번째 천체: 수성\n",
            "태양계의 2 번째 천체: 금성\n",
            "태양계의 3 번째 천체: 지구\n",
            "태양계의 4 번째 천체: 화성\n",
            "태양계의 5 번째 천체: 목성\n",
            "태양계의 6 번째 천체: 토성\n",
            "태양계의 7 번째 천체: 천왕성\n",
            "태양계의 8 번째 천체: 해왕성\n",
            "태양계의 9 번째 천체: 지구\n"
          ]
        }
      ]
    },
    {
      "cell_type": "code",
      "source": [
        "#아래와 같이 객체에 enumerate()메소드를 사용하니까 에러가 남. enumerate는 내장함수라고 함\n",
        "solarsys=['태양','수성','금성','지구','화성', '목성','토성','천왕성','해왕성','지구']\n",
        "solarsys.enumerate()\n",
        "print(solarsys)"
      ],
      "metadata": {
        "colab": {
          "base_uri": "https://localhost:8080/",
          "height": 198
        },
        "id": "S_WBwkuR7bIy",
        "outputId": "996a0ed8-004b-4696-8fb2-c43096bcca5d"
      },
      "execution_count": null,
      "outputs": [
        {
          "output_type": "error",
          "ename": "AttributeError",
          "evalue": "ignored",
          "traceback": [
            "\u001b[0;31m---------------------------------------------------------------------------\u001b[0m",
            "\u001b[0;31mAttributeError\u001b[0m                            Traceback (most recent call last)",
            "\u001b[0;32m<ipython-input-53-8d5bb496cab8>\u001b[0m in \u001b[0;36m<module>\u001b[0;34m()\u001b[0m\n\u001b[1;32m      1\u001b[0m \u001b[0msolarsys\u001b[0m\u001b[0;34m=\u001b[0m\u001b[0;34m[\u001b[0m\u001b[0;34m'태양'\u001b[0m\u001b[0;34m,\u001b[0m\u001b[0;34m'수성'\u001b[0m\u001b[0;34m,\u001b[0m\u001b[0;34m'금성'\u001b[0m\u001b[0;34m,\u001b[0m\u001b[0;34m'지구'\u001b[0m\u001b[0;34m,\u001b[0m\u001b[0;34m'화성'\u001b[0m\u001b[0;34m,\u001b[0m \u001b[0;34m'목성'\u001b[0m\u001b[0;34m,\u001b[0m\u001b[0;34m'토성'\u001b[0m\u001b[0;34m,\u001b[0m\u001b[0;34m'천왕성'\u001b[0m\u001b[0;34m,\u001b[0m\u001b[0;34m'해왕성'\u001b[0m\u001b[0;34m,\u001b[0m\u001b[0;34m'지구'\u001b[0m\u001b[0;34m]\u001b[0m\u001b[0;34m\u001b[0m\u001b[0;34m\u001b[0m\u001b[0m\n\u001b[0;32m----> 2\u001b[0;31m \u001b[0msolarsys\u001b[0m\u001b[0;34m.\u001b[0m\u001b[0menumerate\u001b[0m\u001b[0;34m(\u001b[0m\u001b[0;34m)\u001b[0m\u001b[0;34m\u001b[0m\u001b[0;34m\u001b[0m\u001b[0m\n\u001b[0m\u001b[1;32m      3\u001b[0m \u001b[0mprint\u001b[0m\u001b[0;34m(\u001b[0m\u001b[0msolarsys\u001b[0m\u001b[0;34m)\u001b[0m\u001b[0;34m\u001b[0m\u001b[0;34m\u001b[0m\u001b[0m\n",
            "\u001b[0;31mAttributeError\u001b[0m: 'list' object has no attribute 'enumerate'"
          ]
        }
      ]
    },
    {
      "cell_type": "code",
      "source": [
        "#Unit120 재연습\n",
        "\n",
        "solarsys=['태양','수성','금성','지구','화성', '목성','토성','천왕성','해왕성','지구']\n",
        "ret=list(enumerate(solarsys))\n",
        "print(ret)\n",
        "\n",
        "for i, body in enumerate(solarsys):\n",
        "  print('태양계의 %d 번째의 천체: %s' %(i, body)) #프린트 할 때 %d, %s 를 따로 single quotation 안에 넣지는 않는다"
      ],
      "metadata": {
        "colab": {
          "base_uri": "https://localhost:8080/"
        },
        "id": "5lZu-GzI44is",
        "outputId": "cd26559a-9b33-4037-faaf-29187769f1bc"
      },
      "execution_count": null,
      "outputs": [
        {
          "output_type": "stream",
          "name": "stdout",
          "text": [
            "[(0, '태양'), (1, '수성'), (2, '금성'), (3, '지구'), (4, '화성'), (5, '목성'), (6, '토성'), (7, '천왕성'), (8, '해왕성'), (9, '지구')]\n",
            "태양계의 0 번째의 천체: 태양\n",
            "태양계의 1 번째의 천체: 수성\n",
            "태양계의 2 번째의 천체: 금성\n",
            "태양계의 3 번째의 천체: 지구\n",
            "태양계의 4 번째의 천체: 화성\n",
            "태양계의 5 번째의 천체: 목성\n",
            "태양계의 6 번째의 천체: 토성\n",
            "태양계의 7 번째의 천체: 천왕성\n",
            "태양계의 8 번째의 천체: 해왕성\n",
            "태양계의 9 번째의 천체: 지구\n"
          ]
        }
      ]
    },
    {
      "cell_type": "code",
      "source": [
        "#Unit121 List의 모든 요소의 합을 SUM 함수를 사용하면, 인자가 숫자로만 구성되어야 하고, 문자열이 있으면 에러\n",
        "\n",
        "listdata=[2,2,1,3,8,5,7,6,3,6,2,3,9,4,4]\n",
        "ret=sum(listdata)\n",
        "print(ret)\n"
      ],
      "metadata": {
        "colab": {
          "base_uri": "https://localhost:8080/"
        },
        "id": "GfWk0TWD6T5z",
        "outputId": "59d75832-3a7e-4aa8-f649-9ae0744fce7e"
      },
      "execution_count": null,
      "outputs": [
        {
          "output_type": "stream",
          "name": "stdout",
          "text": [
            "65\n"
          ]
        }
      ]
    },
    {
      "cell_type": "code",
      "source": [
        "#Unit122 List 요소가 모드 참인지 확인 (all, any): all() 함수는 리스트 모든 인자가 참이어야 True, any() 함수는 리스트 인자 중 하나라도 참이면 True \n",
        "#[0, '',[],[],{},None,False] 이런 것들은 false \n",
        "\n",
        "listdata1=[0,1,2,3,4]\n",
        "listdata2=[True,True,True]\n",
        "listdata3=['',[],[],{},None,False]\n",
        "print(all(listdata1))\n",
        "print(any(listdata))\n",
        "print(all(listdata2))\n",
        "print(any(listdata2))\n",
        "print(all(listdata3))\n",
        "print(any(listdata3))\n",
        "\n",
        "\n"
      ],
      "metadata": {
        "colab": {
          "base_uri": "https://localhost:8080/"
        },
        "id": "62Vf7pug7CDS",
        "outputId": "10ec30f7-5c2e-42e0-9ca0-9b28187a8124"
      },
      "execution_count": null,
      "outputs": [
        {
          "output_type": "stream",
          "name": "stdout",
          "text": [
            "False\n",
            "True\n",
            "True\n",
            "True\n",
            "False\n",
            "False\n"
          ]
        }
      ]
    },
    {
      "cell_type": "code",
      "source": [
        "#Unit123 paired KEY:VALUE 인 DICTIONARY 키:값 쌍 요소 추가하기\n",
        "solar1=['태양','수성','금성','지구','화성', '목성','토성','천왕성','해왕성']\n",
        "solar2=['Sun', 'Mercury', 'Venus', 'Earth', 'Mars', 'Jupiter', 'Saturn', 'Uranus', 'Neptune']\n",
        "solardict={} #solardict 라는 빈 사전 만들기\n",
        "for i, k in enumerate(solar1): #for 제어문은 반복! solar1의 인덱스와 그 인덱스에 해당한 값을 추출한 후 변수 i 와 k 로 두고 (할당하고???), \n",
        "  val = solar2[i] #추출한 인덱스에 해당하는 solar2의 값을 valu에 할당/대입한다.\n",
        "  solardict[k]=val #사전 solardict에 k:val를 요소로 추가한다.\n",
        "\n",
        "print(solardict)\n"
      ],
      "metadata": {
        "colab": {
          "base_uri": "https://localhost:8080/"
        },
        "id": "dM0XM2egH2sg",
        "outputId": "9d92cffe-684e-481b-a17a-090d1dfacb96"
      },
      "execution_count": null,
      "outputs": [
        {
          "output_type": "stream",
          "name": "stdout",
          "text": [
            "{'태양': 'Sun', '수성': 'Mercury', '금성': 'Venus', '지구': 'Earth', '화성': 'Mars', '목성': 'Jupiter', '토성': 'Saturn', '천왕성': 'Uranus', '해왕성': 'Neptune'}\n"
          ]
        }
      ]
    },
    {
      "cell_type": "code",
      "source": [
        "#Unit123 연습\n",
        "solar1=['태양','수성','금성','지구','화성', '목성','토성','천왕성','해왕성']\n",
        "solar2=['Sun', 'Mercury', 'Venus', 'Earth', 'Mars', 'Jupiter', 'Saturn', 'Uranus', 'Neptune']\n",
        "solardict={}\n",
        "\n",
        "for i, k in enumerate(solar1):\n",
        "  val=solar2[i]. #lines 6~7 을 내가 직접 만들기에는 더 연습이 필요함\n",
        "  solardict[k]=val\n",
        "print(solardict)"
      ],
      "metadata": {
        "colab": {
          "base_uri": "https://localhost:8080/"
        },
        "id": "vGNv_koRNcsv",
        "outputId": "26818216-e356-42cb-a0d4-a8b9bff0ab5c"
      },
      "execution_count": null,
      "outputs": [
        {
          "output_type": "stream",
          "name": "stdout",
          "text": [
            "{'태양': 'Sun', '수성': 'Mercury', '금성': 'Venus', '지구': 'Earth', '화성': 'Mars', '목성': 'Jupiter', '토성': 'Saturn', '천왕성': 'Uranus', '해왕성': 'Neptune'}\n"
          ]
        }
      ]
    },
    {
      "cell_type": "code",
      "source": [
        "#Unit124  Dictionary 사전의 특정 요소값 반영하기\n",
        "names={'Mary':10999, 'Sams':2111, 'Aimy':9788, 'Tom':20245,\n",
        "       'Michale':27115, 'Bob':5887, 'Kelly':7855}\n",
        "names['Aimy']=10000\n",
        "print(names)"
      ],
      "metadata": {
        "colab": {
          "base_uri": "https://localhost:8080/"
        },
        "id": "nZJKN0LcUIpV",
        "outputId": "7246b4d5-2972-4c29-b1ab-fdd7bd84acbe"
      },
      "execution_count": null,
      "outputs": [
        {
          "output_type": "stream",
          "name": "stdout",
          "text": [
            "{'Mary': 10999, 'Sams': 2111, 'Aimy': 10000, 'Tom': 20245, 'Michale': 27115, 'Bob': 5887, 'Kelly': 7855}\n"
          ]
        }
      ]
    },
    {
      "cell_type": "code",
      "source": [
        "#Unit125 Dictionary 사전의 특정 요소 제거하기 (DEL dictionaryname['key'])\n",
        "names={'Mary':10999, 'Sams':2111, 'Aimy':9788, 'Tom':20245,\n",
        "       'Michale':27115, 'Bob':5887, 'Kelly':7855}\n",
        "del names['Sams']\n",
        "print(names)"
      ],
      "metadata": {
        "colab": {
          "base_uri": "https://localhost:8080/"
        },
        "id": "nD7dedayNeff",
        "outputId": "ac2f13eb-eade-46b0-d003-3f04c4526e50"
      },
      "execution_count": null,
      "outputs": [
        {
          "output_type": "stream",
          "name": "stdout",
          "text": [
            "{'Mary': 10999, 'Aimy': 9788, 'Tom': 20245, 'Michale': 27115, 'Bob': 5887, 'Kelly': 7855}\n"
          ]
        }
      ]
    },
    {
      "cell_type": "code",
      "source": [
        "#Unit126 Dictionary 사전 제거하기 (객체의 CLEAR 메소드를 사용. dictionaryname.clear())\n",
        "names={'Mary':10999, 'Sams':2111, 'Aimy':9788, 'Tom':20245,\n",
        "       'Michale':27115, 'Bob':5887, 'Kelly':7855}\n",
        "names.clear() # 프린트를 하면 empt dictionary 빈 사전 {} 이 출력된다\n",
        "print(names)"
      ],
      "metadata": {
        "colab": {
          "base_uri": "https://localhost:8080/"
        },
        "id": "2TliWMpYWIKU",
        "outputId": "ec0bf217-b7f3-471d-cdef-deb441a6bdfe"
      },
      "execution_count": null,
      "outputs": [
        {
          "output_type": "stream",
          "name": "stdout",
          "text": [
            "{}\n"
          ]
        }
      ]
    },
    {
      "cell_type": "code",
      "source": [
        "#Unit127 사전에서 key 만 추출하기 ret=dictionaryname.KEYS()\n",
        "names={'Mary':10999, 'Sams':2111, 'Aimy':9788, 'Tom':20245,\n",
        "       'Michale':27115, 'Bob':5887, 'Kelly':7855}\n",
        "ks=names.keys()\n",
        "print(ks) \n",
        "\n",
        "for k in ks:\n",
        "  print('Key:%s\\tValue:%d'%(k,names[k])) #포맷에 쓰인 names[k]를 혼자 못쓰겠음.\n"
      ],
      "metadata": {
        "colab": {
          "base_uri": "https://localhost:8080/"
        },
        "id": "9sOlknCJWy22",
        "outputId": "4dcf6f69-48f7-4fbf-eb70-2132af17245e"
      },
      "execution_count": null,
      "outputs": [
        {
          "output_type": "stream",
          "name": "stdout",
          "text": [
            "dict_keys(['Mary', 'Sams', 'Aimy', 'Tom', 'Michale', 'Bob', 'Kelly'])\n",
            "Key:Mary\tValue:10999\n",
            "Key:Sams\tValue:2111\n",
            "Key:Aimy\tValue:9788\n",
            "Key:Tom\tValue:20245\n",
            "Key:Michale\tValue:27115\n",
            "Key:Bob\tValue:5887\n",
            "Key:Kelly\tValue:7855\n"
          ]
        }
      ]
    },
    {
      "cell_type": "code",
      "source": [
        "#Unit127 사전에서 value 만 추출하기 (ret=dictionaryname.VALUES())\n",
        "names={'Mary':10999, 'Sams':2111, 'Aimy':9788, 'Tom':20245,\n",
        "       'Michale':27115, 'Bob':5887, 'Kelly':7855}\n",
        "vals=names.values()\n",
        "print(vals)\n",
        "ret1=sum(vals) # 책과는 다르게 꼭 dictionary 의 값만 추출한 것을 다시 리스트화 안해도 사전에 나온 값들만 모아 덧셈 가능하다. \n",
        "print('출생하 수 통계:%d' %ret1)\n",
        "\n",
        "vals_list=list(vals)\n",
        "ret=sum(vals_list)\n",
        "print('출생하 수 통계:%d' %ret)"
      ],
      "metadata": {
        "colab": {
          "base_uri": "https://localhost:8080/"
        },
        "id": "KyLpJTwkW51k",
        "outputId": "d4e76713-ff04-4a78-8d81-b896b6823d5f"
      },
      "execution_count": null,
      "outputs": [
        {
          "output_type": "stream",
          "name": "stdout",
          "text": [
            "dict_values([10999, 2111, 9788, 20245, 27115, 5887, 7855])\n",
            "출생하 수 통계:84000\n",
            "출생하 수 통계:84000\n"
          ]
        }
      ]
    },
    {
      "cell_type": "code",
      "source": [
        "#Unit128 Ditionary 사전의 요소 모두 추출하기 (ITEMS())\n",
        "names={'Mary':10999, 'Sams':2111, 'Aimy':9788, 'Tom':20245,\n",
        "       'Michale':27115, 'Bob':5887, 'Kelly':7855}\n",
        "items=names.items() #dictionary 의 이름을 모두 추출하여 dict_items Dictionary View Object 사전뷰객체로 리턴.\n",
        "print(items)\n",
        "\n",
        "for item in items: for 제어문을 사용하여 items의 모드 요소를 출력한다\n",
        "  print(item)"
      ],
      "metadata": {
        "colab": {
          "base_uri": "https://localhost:8080/"
        },
        "id": "mRg8oWRsXAd6",
        "outputId": "02f5c72f-4696-4c5a-f15e-b02547769800"
      },
      "execution_count": null,
      "outputs": [
        {
          "output_type": "stream",
          "name": "stdout",
          "text": [
            "dict_items([('Mary', 10999), ('Sams', 2111), ('Aimy', 9788), ('Tom', 20245), ('Michale', 27115), ('Bob', 5887), ('Kelly', 7855)])\n",
            "('Mary', 10999)\n",
            "('Sams', 2111)\n",
            "('Aimy', 9788)\n",
            "('Tom', 20245)\n",
            "('Michale', 27115)\n",
            "('Bob', 5887)\n",
            "('Kelly', 7855)\n"
          ]
        }
      ]
    },
    {
      "cell_type": "code",
      "source": [
        "#사전에 특정 키가 존재하는지 확인 (IN)\n",
        "\n",
        "names={'Mary':10999, 'Sams':2111, 'Aimy':9788, 'Tom':20245,\n",
        "       'Michale':27115, 'Bob':5887, 'Kelly':7855}\n",
        "k=input('이름을 입력하세요:')\n",
        "if k in names:\n",
        "  print('이름이 <%s> 인 출생아 수는 <%d> 명입니다' %(k, names[k])) #<> vs <'+ +'> 의 차이는 뭔가?\n",
        "else:                                                       ###그리고, format 두 번째 요소에 names[k]라고 했는데, 리스트가 아닌데 왜 [k]라고 쓴걸까? 여기서는 \"사전자료names[]의 키로 존재한다\"는 의미래. confused...\n",
        "  print('자료에 <%s> 인 이름이 존재하지 않습니다.'%k)\n",
        "\n",
        "\n",
        "if 2111 in names.values():\n",
        "  print('주어진 값이 사전에 있습니다')\n",
        "else:\n",
        "  print('주어진 값이 사전에 없습니다')\n"
      ],
      "metadata": {
        "colab": {
          "base_uri": "https://localhost:8080/"
        },
        "id": "GNceoNGU4XqG",
        "outputId": "13876eae-1214-4b91-a085-307c93ff10d9"
      },
      "execution_count": null,
      "outputs": [
        {
          "output_type": "stream",
          "name": "stdout",
          "text": [
            "이름을 입력하세요:yes\n",
            "자료에 <yes> 인 이름이 존재하지 않습니다.\n",
            "주어진 값이 사전에 있습니다\n"
          ]
        }
      ]
    },
    {
      "cell_type": "code",
      "source": [
        "#Unit131 Dictionary 사전 정렬하기 (SORTED)\n",
        "\n",
        "names={'Mary':10999, 'Sams':2111, 'Aimy':9788, 'Tom':20245,\n",
        "       'Michale':27115, 'Bob':5887, 'Kelly':7855}\n",
        "ret1=sorted(names)\n",
        "print(ret1)\n",
        "\n",
        "def f1(x):\n",
        "  return x[0]\n",
        "\n",
        "def f2(x):\n",
        "  return x[1]\n",
        "\n",
        "ret2=sorted(names.items(), key=f1)\n",
        "print(ret2)\n",
        "\n",
        "ret3=sorted(names.items(), key=f2)\n",
        "print(ret3)\n",
        "\n",
        "ret4=sorted(names.items(), key=f2, reverse=True)\n",
        "print(ret4)"
      ],
      "metadata": {
        "colab": {
          "base_uri": "https://localhost:8080/"
        },
        "id": "hoHlzTlW760S",
        "outputId": "c77a1ad1-772d-4af7-9237-551780027aa4"
      },
      "execution_count": null,
      "outputs": [
        {
          "output_type": "stream",
          "name": "stdout",
          "text": [
            "['Aimy', 'Bob', 'Kelly', 'Mary', 'Michale', 'Sams', 'Tom']\n",
            "[('Aimy', 9788), ('Bob', 5887), ('Kelly', 7855), ('Mary', 10999), ('Michale', 27115), ('Sams', 2111), ('Tom', 20245)]\n",
            "[('Sams', 2111), ('Bob', 5887), ('Kelly', 7855), ('Aimy', 9788), ('Mary', 10999), ('Tom', 20245), ('Michale', 27115)]\n",
            "[('Michale', 27115), ('Tom', 20245), ('Mary', 10999), ('Aimy', 9788), ('Kelly', 7855), ('Bob', 5887), ('Sams', 2111)]\n"
          ]
        }
      ]
    },
    {
      "cell_type": "code",
      "source": [
        "#Unit131 Dictionary 사전 정렬하기 (sorted) 내가 혼자 해봤음\n",
        "names={'Mary':10999, 'Sams':2111, 'Aimy':9788, 'Tom':20245,\n",
        "       'Michale':27115, 'Bob':5887, 'Kelly':7855}\n",
        "def f1(x):\n",
        "  return x[0]\n",
        "def f2(x):\n",
        "  return x[1]\n",
        "ret1=sorted(names.items(), key=f1) ##key=f1 이렇게 못쓰고 f1(x)라고 써서 에러 났음\n",
        "print(ret1)\n",
        "ret2=sorted(names.items(), key=f2)\n",
        "print(ret2)\n",
        "ret3=sorted(names.items(), key=f2, reverse=True)\n",
        "print(ret3)"
      ],
      "metadata": {
        "colab": {
          "base_uri": "https://localhost:8080/"
        },
        "id": "q5jGLw3J_ouT",
        "outputId": "914f9693-5900-4ccd-b05c-6bc923d9b045"
      },
      "execution_count": null,
      "outputs": [
        {
          "output_type": "stream",
          "name": "stdout",
          "text": [
            "[('Aimy', 9788), ('Bob', 5887), ('Kelly', 7855), ('Mary', 10999), ('Michale', 27115), ('Sams', 2111), ('Tom', 20245)]\n",
            "[('Sams', 2111), ('Bob', 5887), ('Kelly', 7855), ('Aimy', 9788), ('Mary', 10999), ('Tom', 20245), ('Michale', 27115)]\n",
            "[('Michale', 27115), ('Tom', 20245), ('Mary', 10999), ('Aimy', 9788), ('Kelly', 7855), ('Bob', 5887), ('Sams', 2111)]\n"
          ]
        }
      ]
    },
    {
      "cell_type": "code",
      "source": [
        "#Unit132 문자 코드값 이해하기 : 파이썬 내장함수 ORD()는 문자를 컴퓨터가 인식하는 코드값으로 변환한다\n",
        "#한글은 유니코드값으로 출력된다\n",
        "ch=input('문자 1개를 입력하세요:')\n",
        "if len(ch)!=0: #character 길이가 0이 아닌지 체크 하는 법. 내가 할 때는 LEN() 함수를 잊어버렸음\n",
        "  ch=ch[0] #character 첫 번째 문자를 ch로 재할당/정의\n",
        "  chv=ord(ch) #ord(ch)는 character 의 코드값을 의미하고, 이 값을 chv 할당 \n",
        "  print('문자:%s\\t코드값:%d[%s]' %(ch, chv, hex(chv)))# character, character 코드값, character 코드값의 16 진수 값 출력\n",
        "\n",
        "#혼자 연습\n",
        "ch=input('한글 문자나 영어 character 1 개 이상을 입력하세요:')\n",
        "\n",
        "if len(ch)!=0:\n",
        "  ch=ch[0]\n",
        "  chv=ord(ch)\n",
        "  print('문자/character:%s\\t 코드값:%d[%s]' %(ch,chv,hex(chv)))"
      ],
      "metadata": {
        "colab": {
          "base_uri": "https://localhost:8080/"
        },
        "id": "-4os3IRnP6Aq",
        "outputId": "6e284afd-217b-4dad-d8fa-8a6db1689ab0"
      },
      "execution_count": null,
      "outputs": [
        {
          "output_type": "stream",
          "name": "stdout",
          "text": [
            "문자 1개를 입력하세요:b\n",
            "문자:b\t코드값:98[0x62]\n",
            "한글 문자나 영어 character 1 개 이상을 입력하세요:c\n",
            "문자/character:c\t 코드값:99[0x63]\n"
          ]
        }
      ]
    },
    {
      "cell_type": "code",
      "source": [
        "#Unit133 코드값을 알고 있을 때 내장함수 CHR()를 사용하여 코드값에 대응하는 문자 character 얻기\n",
        "\n",
        "val=input('문자 코드값을 입력하세요:')\n",
        "val=int(val)\n",
        "try:\n",
        "  ch=chr(val)\n",
        "  print('코드값:%d,[%s]\\t문자:%s'%(val,hex(val),ch)) ## 코드값과 16진수는 붙여쓰면 연달아 나오고 comma 쓰면 쉼표 넣어 나온다. 16진수는 [%s]라는데 왜 문자열인지 모르겠다. \\t 자리에는 comma 넣어도 됨\n",
        "except ValueError:\n",
        "  print('입력한 <%d>에 대응하는 문자가 없습니다'%val)"
      ],
      "metadata": {
        "colab": {
          "base_uri": "https://localhost:8080/"
        },
        "id": "xxVCet6pV1uv",
        "outputId": "b094ad53-5a3e-47b9-ac03-31d5d05f1dcc"
      },
      "execution_count": null,
      "outputs": [
        {
          "output_type": "stream",
          "name": "stdout",
          "text": [
            "문자 코드값을 입력하세요:114\n",
            "코드값:114,[0x72]\t문자:r\n"
          ]
        }
      ]
    },
    {
      "cell_type": "code",
      "source": [
        "#Unit134 문자열로 된 식을 실행하기: 내장함수 EVAL() 사용한다. 텍스ㅡㅌ 파일에서 읽은 수식이나 문자열(예시 '2+3')을 \n",
        "\n",
        "expr1='2+3'\n",
        "expr2='round(3.7)'\n",
        "ret1=eval(expr1)\n",
        "ret2=eval(expr2)\n",
        "print('<%s>를 파이썬 내장함수 eval()로 실행한 결과:' %expr1,end=''); print(ret1)\n",
        "print('<%s>를 파이썬 내장함수 eval()를 실행한 결과:' %expr2,end=''); print(ret2)\n",
        "\n",
        "expr='2+3'\n",
        "ret=eval(expr)\n",
        "print('<%s>를 eval()함수로 실행한 결과:'%expr,end=''); print(ret)"
      ],
      "metadata": {
        "colab": {
          "base_uri": "https://localhost:8080/"
        },
        "id": "fIP6zdNIFnQR",
        "outputId": "40aced72-02c0-42b0-c1c9-02698db9c1eb"
      },
      "execution_count": null,
      "outputs": [
        {
          "output_type": "stream",
          "name": "stdout",
          "text": [
            "<2+3>를 파이썬 내장함수 eval()로 실행한 결과:5\n",
            "<round(3.7)>를 파이썬 내장함수 eval()를 실행한 결과:4\n",
            "<2+3>를 eval()함수로 실행한 결과:5\n"
          ]
        }
      ]
    },
    {
      "cell_type": "code",
      "source": [
        "#Unit135 이름없는 한 줄 짜리 함수 만들어 (LAMBDA) 변수로 할당 --> LAMBDA 인자, 인자,...: 실행코드\n",
        "\n",
        "add=lambda x,y:x+y\n",
        "ret=add(1,3)\n",
        "print(ret)\n",
        "\n",
        "funcs=[lambda x:x+'.pptx', lambda x:x+'.docx']#리스트 요소로써의 lambda() 함수: 예시는 파일명만 받고, 하나는 .pptx 다른 하나는 .docx 파일확장자 자동으로 붙이는 (이 때 plus + 기호 사용) lambda()함수를 funcs로 할당 \n",
        "ret1=funcs[0]('Intro') #LAMBDA()함수 다음에 괄호 사용하고 안에 문자열에 파일명을 썼다.\n",
        "ret2=funcs[1]('Report')\n",
        "print(ret1)\n",
        "print(ret2)\n",
        "\n",
        "names={'Mary':10999, 'Sams':2111, 'Aimy':9788, 'Tom':20245,\n",
        "       'Michale':27115, 'Bob':5887, 'Kelly':7855}\n",
        "ret3=sorted(names.items(), key=lambda x:x[0])\n",
        "print(ret3)\n",
        "\n",
        "namesT={'Mary':10999, 'Sams':2111, 'Aimy':9788, 'Tom':20245,\n",
        "       'Michale':27115, 'Bob':5887, 'Kelly':7855}\n",
        "funcsT=lambda x:x\n",
        "ret3=sorted(names.items(), key=funcsT)\n",
        "print(ret3)"
      ],
      "metadata": {
        "colab": {
          "base_uri": "https://localhost:8080/"
        },
        "id": "ykjdl2sGM2Nj",
        "outputId": "3efe5ec5-dbba-4cb1-9e89-58f1025194ab"
      },
      "execution_count": null,
      "outputs": [
        {
          "output_type": "stream",
          "name": "stdout",
          "text": [
            "4\n",
            "Intro.pptx\n",
            "Report.docx\n",
            "[('Aimy', 9788), ('Bob', 5887), ('Kelly', 7855), ('Mary', 10999), ('Michale', 27115), ('Sams', 2111), ('Tom', 20245)]\n",
            "[('Aimy', 9788), ('Bob', 5887), ('Kelly', 7855), ('Mary', 10999), ('Michale', 27115), ('Sams', 2111), ('Tom', 20245)]\n"
          ]
        }
      ]
    },
    {
      "cell_type": "code",
      "source": [
        "#Unit136 인자를 바꾸어 함수를 반복 호출하여 결과를 LIST 형태로 집합 얻기 (MAP) 파이썬 내장함수 map()\n",
        "\n",
        "f=lambda x,y:x*x+y\n",
        "X=[1,2,3,4,5] #함수의 인자로 입력될 리스트를 정하고 이를 X 로 둔다\n",
        "Y=[10,9,8,7,6]\n",
        "ret=map(f,X,Y) #X 의 모든 요소를 f 에 대입하여 결과를 얻은 후 MAP 객체로 리턴\u001f\n",
        "print(list(ret))"
      ],
      "metadata": {
        "colab": {
          "base_uri": "https://localhost:8080/"
        },
        "id": "vr668TWdcm1T",
        "outputId": "a921ab13-af3a-46fd-c9a8-7eab488f5943"
      },
      "execution_count": null,
      "outputs": [
        {
          "output_type": "stream",
          "name": "stdout",
          "text": [
            "[11, 13, 17, 23, 31]\n"
          ]
        }
      ]
    },
    {
      "cell_type": "code",
      "source": [
        "#Unit137 텍스트 파일을 읽고 출력하기\n",
        "\n",
        "f=open('stockcode.txt','r')\n",
        "data=f.read()\n",
        "print(data)\n",
        "f.close()"
      ],
      "metadata": {
        "colab": {
          "base_uri": "https://localhost:8080/"
        },
        "id": "MmOZjsSpg_qw",
        "outputId": "14c6f872-8834-4d2d-ba68-1742a312446d"
      },
      "execution_count": null,
      "outputs": [
        {
          "output_type": "stream",
          "name": "stdout",
          "text": [
            "20\t____\n",
            "40\tS&T___\n",
            "50\t__\n",
            "60\t_____\n",
            "70\t___\n",
            "71\t____\n",
            "100\t____\n",
            "101\t_____\n",
            "104110\t__ENG\n",
            "104120\t__FA\n",
            "104700\t____\n",
            "105560\tKB__\n",
            "107590\t_____\n"
          ]
        }
      ]
    },
    {
      "cell_type": "code",
      "source": [
        "#Unit138 용량이 너무 큰 텍스트 파일은 바로 다 못보고, 파일을 한 줄 씩 읽고 출력하기 READLINE()\n",
        "\n",
        "f=open('stockcode.txt','r')\n",
        "line_num=1 #이건 왜 필요한가? 파일 내용의 라인 넘버 표시\n",
        "line=f.readline()\n",
        "while line:\n",
        "  line=f.readline()\n",
        "  line_num+=1\n",
        "  print('%d %s' %(line_num, line), end='')\n",
        "f.close()\n",
        "\n",
        "\n",
        "\n"
      ],
      "metadata": {
        "colab": {
          "base_uri": "https://localhost:8080/"
        },
        "id": "GQU8D0p6oDIl",
        "outputId": "7acf8e03-94cf-476c-e6cb-4064dcce6943"
      },
      "execution_count": null,
      "outputs": [
        {
          "output_type": "stream",
          "name": "stdout",
          "text": [
            "2 40\tS&T___\n",
            "3 50\t__\n",
            "4 60\t_____\n",
            "5 70\t___\n",
            "6 71\t____\n",
            "7 100\t____\n",
            "8 101\t_____\n",
            "9 104110\t__ENG\n",
            "10 104120\t__FA\n",
            "11 104700\t____\n",
            "12 105560\tKB__\n",
            "13 107590\t_____14 "
          ]
        }
      ]
    },
    {
      "cell_type": "code",
      "source": [
        "#138 READLINE 나혼자 이것 저것 연습\n",
        "\n",
        "f=open('stockcode.txt','r')\n",
        "line_num=0 #line number를 1 부터 매긴다. 여기 숫자가 1이면 라인 넘버는 2부터 매겨진다. ##책에는 0 동화약품부터 나오는데, 나는 1 S&T 부터 나옴. 이상함.\n",
        "line=f.readline()\n",
        "while line: \n",
        "  line=f.readline()\n",
        "  line_num+=1 # +=1 이라고 코드를 넣으면 1씩 라인 넘버가 증가한다. 예를 들어 +=2 라고 하면 2,4,5 ...으로 증가\n",
        "  print('%d %s' %(line_num, line),end='') #line 값이 빈 문자열일따까지 while loop 무한 반복 \n",
        "f.close()"
      ],
      "metadata": {
        "colab": {
          "base_uri": "https://localhost:8080/"
        },
        "id": "H1crIC7DcI0w",
        "outputId": "c4e6e9da-94d0-4dca-91ea-68785243750a"
      },
      "execution_count": null,
      "outputs": [
        {
          "output_type": "stream",
          "name": "stdout",
          "text": [
            "1 40\tS&T___\n",
            "2 50\t__\n",
            "3 60\t_____\n",
            "4 70\t___\n",
            "5 71\t____\n",
            "6 100\t____\n",
            "7 101\t_____\n",
            "8 104110\t__ENG\n",
            "9 104120\t__FA\n",
            "10 104700\t____\n",
            "11 105560\tKB__\n",
            "12 107590\t_____13 "
          ]
        }
      ]
    },
    {
      "cell_type": "code",
      "source": [
        "#Unit 139 텍스트 파일을 한줄씩 읽고 출력하기 READLINES()\n",
        "\n",
        "f=open('stockcode.txt','r')\n",
        "lines=f.readlines() #파일 객체의 READLINES() 메소드 사용. 대용량 파일에는 문제 발생할 수 있음.\n",
        "print(lines)\n",
        "for line_num, line in enumerate(lines): ##line in enumerate(lines) 코드 뜻 모름: lines의 모든 요소에 대하여 인덱스와 요소를 추출하기\n",
        "  print('%d %s' %(line_num+1, line),end='') ##인덱스+1, 즉 line_num+1을 Globally, Locally 코드 따로 안짜고, PRINT 안에 요소로 바로 넣음.\n",
        "f.close()"
      ],
      "metadata": {
        "colab": {
          "base_uri": "https://localhost:8080/"
        },
        "id": "xrCdr6g0fMpe",
        "outputId": "39627ad4-8850-4174-cb75-55ca0b8d89ad"
      },
      "execution_count": null,
      "outputs": [
        {
          "output_type": "stream",
          "name": "stdout",
          "text": [
            "['20\\t____\\n', '40\\tS&T___\\n', '50\\t__\\n', '60\\t_____\\n', '70\\t___\\n', '71\\t____\\n', '100\\t____\\n', '101\\t_____\\n', '104110\\t__ENG\\n', '104120\\t__FA\\n', '104700\\t____\\n', '105560\\tKB__\\n', '107590\\t_____']\n",
            "1 20\t____\n",
            "2 40\tS&T___\n",
            "3 50\t__\n",
            "4 60\t_____\n",
            "5 70\t___\n",
            "6 71\t____\n",
            "7 100\t____\n",
            "8 101\t_____\n",
            "9 104110\t__ENG\n",
            "10 104120\t__FA\n",
            "11 104700\t____\n",
            "12 105560\tKB__\n",
            "13 107590\t_____"
          ]
        }
      ]
    },
    {
      "cell_type": "code",
      "source": [
        "#Unit140 화면에서 사용자 입력을 받고 파일로 쓰기 WRITE()\n",
        "\n",
        "text=input('파일에 저장할 내용을 입력하세요:')\n",
        "f=open('mydata.txt','w')\n",
        "f.write(text)\n",
        "f.close()\n",
        "\n",
        "#혼자 연습\n",
        "text=input('파일에 저장할 내용을 입력하세요:')\n",
        "f=open('mydata.txt','w')\n",
        "f.write(text)\n",
        "f.close()\n"
      ],
      "metadata": {
        "colab": {
          "base_uri": "https://localhost:8080/"
        },
        "id": "SSXrdZFvkO26",
        "outputId": "611e4162-3bcc-472b-ff56-2ed1492750c3"
      },
      "execution_count": null,
      "outputs": [
        {
          "name": "stdout",
          "output_type": "stream",
          "text": [
            "파일에 저장할 내용을 입력하세요:가장 최근 1개만 나오고, 계속 쌓이게 하려면 while loop 사용해야 할거 같다.\n",
            "파일에 저장할 내용을 입력하세요:냉무\n"
          ]
        }
      ]
    },
    {
      "cell_type": "code",
      "source": [
        "#Unit141 텍스트 파일에 한줄씩 쓰기 WRITELINES() 메소드\n",
        "\n",
        "count=1\n",
        "data=[]\n",
        "print('파일에 내용을 저장하려면 내용을 입력하지 말고 ENTER 키를 누르세요.')\n",
        "while True:\n",
        "  text=input('[%d] 파일에 저장할 내용을 입력하세요:' %count)\n",
        "  if text=='':\n",
        "    break\n",
        "  data.append(text+'\\n')\n",
        "  count+=1\n",
        "\n",
        "f=open('mydata.txt','w')\n",
        "f.writelines(data)\n",
        "f.close()\n"
      ],
      "metadata": {
        "colab": {
          "base_uri": "https://localhost:8080/"
        },
        "id": "ngwdsfeLmyjQ",
        "outputId": "678756ff-6bb0-404f-8f10-a3a9df75ba06"
      },
      "execution_count": null,
      "outputs": [
        {
          "name": "stdout",
          "output_type": "stream",
          "text": [
            "파일에 내용을 저장하려면 내용을 입력하지 말고 ENTER 키를 누르세요.\n",
            "[1] 파일에 저장할 내용을 입력하세요:test\n",
            "[2] 파일에 저장할 내용을 입력하세요:test2\n",
            "[3] 파일에 저장할 내용을 입력하세요:\n"
          ]
        }
      ]
    },
    {
      "cell_type": "code",
      "source": [
        "#Unit142 텍스트 파일 복사하기 READ WRITE: \n",
        "#복사코드는 'r' 로 읽은 파일을 'w'로 읽을 때, _copy 을 덪붙이면 된다\n",
        "f=open('stockcode.txt','r')\n",
        "h=open('stockcode_copy.txt','w')\n",
        "\n",
        "data=f.read()\n",
        "h.write(data)\n",
        "\n",
        "f.close()\n",
        "h.close()\n",
        "\n"
      ],
      "metadata": {
        "colab": {
          "base_uri": "https://localhost:8080/",
          "height": 232
        },
        "id": "lxKoo4Tepdpf",
        "outputId": "82c84a05-1979-4646-90c7-f333d9978768"
      },
      "execution_count": null,
      "outputs": [
        {
          "output_type": "error",
          "ename": "FileNotFoundError",
          "evalue": "ignored",
          "traceback": [
            "\u001b[0;31m---------------------------------------------------------------------------\u001b[0m",
            "\u001b[0;31mFileNotFoundError\u001b[0m                         Traceback (most recent call last)",
            "\u001b[0;32m<ipython-input-13-53532afd52cc>\u001b[0m in \u001b[0;36m<module>\u001b[0;34m()\u001b[0m\n\u001b[1;32m      1\u001b[0m \u001b[0;31m#Unit142 텍스트 파일 복사하기 READ WRITE:\u001b[0m\u001b[0;34m\u001b[0m\u001b[0;34m\u001b[0m\u001b[0;34m\u001b[0m\u001b[0m\n\u001b[1;32m      2\u001b[0m \u001b[0;31m#복사코드는 'r' 로 읽은 파일을 'w'로 읽을 때, _copy 을 덪붙이면 된다\u001b[0m\u001b[0;34m\u001b[0m\u001b[0;34m\u001b[0m\u001b[0;34m\u001b[0m\u001b[0m\n\u001b[0;32m----> 3\u001b[0;31m \u001b[0mf\u001b[0m\u001b[0;34m=\u001b[0m\u001b[0mopen\u001b[0m\u001b[0;34m(\u001b[0m\u001b[0;34m'stockcode.txt'\u001b[0m\u001b[0;34m,\u001b[0m\u001b[0;34m'r'\u001b[0m\u001b[0;34m)\u001b[0m\u001b[0;34m\u001b[0m\u001b[0;34m\u001b[0m\u001b[0m\n\u001b[0m\u001b[1;32m      4\u001b[0m \u001b[0mh\u001b[0m\u001b[0;34m=\u001b[0m\u001b[0mopen\u001b[0m\u001b[0;34m(\u001b[0m\u001b[0;34m'stockcode_copy.txt'\u001b[0m\u001b[0;34m,\u001b[0m\u001b[0;34m'w'\u001b[0m\u001b[0;34m)\u001b[0m\u001b[0;34m\u001b[0m\u001b[0;34m\u001b[0m\u001b[0m\n\u001b[1;32m      5\u001b[0m \u001b[0;34m\u001b[0m\u001b[0m\n",
            "\u001b[0;31mFileNotFoundError\u001b[0m: [Errno 2] No such file or directory: 'stockcode.txt'"
          ]
        }
      ]
    },
    {
      "cell_type": "code",
      "source": [
        "#혼자 연습\n",
        "f=open('mydata.txt','r') ## open() 함수 사용하는 것 기억. Error 났음. open() 함수 안쓰니 data=f.read() 라인에서 에러 발생\n",
        "h=open('mydata_copy.txt','w')\n",
        "\n",
        "data=f.read()\n",
        "h.write(data)\n",
        "f.close()\n",
        "h.close()"
      ],
      "metadata": {
        "colab": {
          "base_uri": "https://localhost:8080/",
          "height": 232
        },
        "id": "ADwT-pOBujG4",
        "outputId": "d118fc61-07fb-44f0-8d30-bce20ffa323a"
      },
      "execution_count": null,
      "outputs": [
        {
          "output_type": "error",
          "ename": "FileNotFoundError",
          "evalue": "ignored",
          "traceback": [
            "\u001b[0;31m---------------------------------------------------------------------------\u001b[0m",
            "\u001b[0;31mFileNotFoundError\u001b[0m                         Traceback (most recent call last)",
            "\u001b[0;32m<ipython-input-5-a38d4b576e6d>\u001b[0m in \u001b[0;36m<module>\u001b[0;34m()\u001b[0m\n\u001b[1;32m      1\u001b[0m \u001b[0;31m#혼자 연습\u001b[0m\u001b[0;34m\u001b[0m\u001b[0;34m\u001b[0m\u001b[0;34m\u001b[0m\u001b[0m\n\u001b[0;32m----> 2\u001b[0;31m \u001b[0mf\u001b[0m\u001b[0;34m=\u001b[0m\u001b[0mopen\u001b[0m\u001b[0;34m(\u001b[0m\u001b[0;34m'mydata.txt'\u001b[0m\u001b[0;34m,\u001b[0m\u001b[0;34m'r'\u001b[0m\u001b[0;34m)\u001b[0m \u001b[0;31m## open() 함수 사용하는 것 기억. Error 났음. open() 함수 안쓰니 data=f.read() 라인에서 에러 발생\u001b[0m\u001b[0;34m\u001b[0m\u001b[0;34m\u001b[0m\u001b[0m\n\u001b[0m\u001b[1;32m      3\u001b[0m \u001b[0mh\u001b[0m\u001b[0;34m=\u001b[0m\u001b[0mopen\u001b[0m\u001b[0;34m(\u001b[0m\u001b[0;34m'mydata_copy.txt'\u001b[0m\u001b[0;34m,\u001b[0m\u001b[0;34m'w'\u001b[0m\u001b[0;34m)\u001b[0m\u001b[0;34m\u001b[0m\u001b[0;34m\u001b[0m\u001b[0m\n\u001b[1;32m      4\u001b[0m \u001b[0;34m\u001b[0m\u001b[0m\n\u001b[1;32m      5\u001b[0m \u001b[0mdata\u001b[0m\u001b[0;34m=\u001b[0m\u001b[0mf\u001b[0m\u001b[0;34m.\u001b[0m\u001b[0mread\u001b[0m\u001b[0;34m(\u001b[0m\u001b[0;34m)\u001b[0m\u001b[0;34m\u001b[0m\u001b[0;34m\u001b[0m\u001b[0m\n",
            "\u001b[0;31mFileNotFoundError\u001b[0m: [Errno 2] No such file or directory: 'mydata.txt'"
          ]
        }
      ]
    },
    {
      "cell_type": "code",
      "source": [
        "#Unit143 바이너리 파일 복사하기\n",
        "\n",
        "bufsize=1024 #용량 큰 binary file에 대하여 1KB 단위로 파일을 읽기위해 bufsize=1024 로 한다. 256KB로 읽고 싶으면 bufsize=256*1024 로 코드\n",
        "f=open('img_sample.jpg','rb')\n",
        "h=open('img_sample_copy.jpg','wb')\n",
        "\n",
        "data=f.read(bufsize) #f 파일을 버프사이즈 만큼만 읽어 데이터로 할당\n",
        "while data:\n",
        "  h.write(data)\n",
        "  data=f.read(bufsize)\n",
        "\n",
        "f.close()\n",
        "h.close()\n",
        "\n"
      ],
      "metadata": {
        "id": "XUCOzZvtwFf7"
      },
      "execution_count": null,
      "outputs": []
    },
    {
      "cell_type": "code",
      "source": [
        "#혼자연습\n",
        "\n",
        "bufsize=1024\n",
        "f=open('img_sample.jpg','rb')\n",
        "h=open('img_sample_copy.jpg','wb')\n",
        "data=f.read(bufsize)\n",
        "\n",
        "while data:\n",
        "  h.write(data)\n",
        "  data=f.read(bufsize)\n",
        "\n",
        "f.close()\n",
        "h.close()"
      ],
      "metadata": {
        "id": "eWwaKHgPCLF1"
      },
      "execution_count": null,
      "outputs": []
    },
    {
      "cell_type": "code",
      "source": [
        "#Unit134 파일을 열고 자동으로 닫기 WITH ~ AS ~\n",
        "\n",
        "with open('stockcode.txt','r') as f:\n",
        "  for line_num, line in enumerate (f.readlines()): ##enumerate() 함수 안에 넣는 인자가 생각이 자꾸 안났음. \n",
        "    print('%d %s' %(line_num, line), end='')\n",
        "\n",
        "#원래 파일 열고 닫는 방법으로 해보기\n",
        "f=open('stockcode.txt','r')\n",
        "for line_num, line in enumerate(f.readlines()):\n",
        "  print('%d %s' %(line_num, line),end='')\n",
        "f.close()"
      ],
      "metadata": {
        "colab": {
          "base_uri": "https://localhost:8080/"
        },
        "id": "53Z2I3DSEM0C",
        "outputId": "27464024-90e8-4090-f6c7-807baedfa34a"
      },
      "execution_count": null,
      "outputs": [
        {
          "output_type": "stream",
          "name": "stdout",
          "text": [
            "0 20\t____\n",
            "1 40\tS&T___\n",
            "2 50\t__\n",
            "3 60\t_____\n",
            "4 70\t___\n",
            "5 71\t____\n",
            "6 100\t____\n",
            "7 101\t_____\n",
            "8 104110\t__ENG\n",
            "9 104120\t__FA\n",
            "10 104700\t____\n",
            "11 105560\tKB__\n",
            "12 107590\t_____0 20\t____\n",
            "1 40\tS&T___\n",
            "2 50\t__\n",
            "3 60\t_____\n",
            "4 70\t___\n",
            "5 71\t____\n",
            "6 100\t____\n",
            "7 101\t_____\n",
            "8 104110\t__ENG\n",
            "9 104120\t__FA\n",
            "10 104700\t____\n",
            "11 105560\tKB__\n",
            "12 107590\t_____"
          ]
        }
      ]
    },
    {
      "cell_type": "code",
      "source": [
        "#Unit145 파일의 특정 부분만 복사하기: 객체의 SEEK(), READ(), WRITE() 메소드 사용\n",
        "\n",
        "spos=105 #파일을 읽는 위치 지정\n",
        "size=500 #읽을 크기를 지정\n",
        "\n",
        "f=open('stockcode.txt', 'r')\n",
        "h=open('stockcode_part.txt','w')\n",
        "\n",
        "f.seek(spos)\n",
        "data=f.read(size)\n",
        "h.write(data)\n",
        "\n",
        "f.close()\n",
        "h.close()\n",
        "\n"
      ],
      "metadata": {
        "id": "PqsURlCnHWa5"
      },
      "execution_count": null,
      "outputs": []
    },
    {
      "cell_type": "code",
      "source": [
        "##WITH~AS~ 로 파일 ## 일부분을 바이너리로 복사하는'w' 파일을 h 로 여는 것을 더해서, WITH~AS~ 써보니까 Unit145 를 재연할 수 없었음... 왜???? \n",
        "spos=105\n",
        "size=500\n",
        "\n",
        "with open('stockcode.txt','r') as f:\n",
        "  with open('stockcode_part.txt','w') as h:\n",
        "\n",
        "f.seek(spos)\n",
        "data=f.read(size)\n",
        "h.write(data)"
      ],
      "metadata": {
        "colab": {
          "base_uri": "https://localhost:8080/",
          "height": 130
        },
        "id": "DeeX_Kz_KEX-",
        "outputId": "5289bcb1-0d07-4df8-9a4c-998290bb0d07"
      },
      "execution_count": null,
      "outputs": [
        {
          "output_type": "error",
          "ename": "IndentationError",
          "evalue": "ignored",
          "traceback": [
            "\u001b[0;36m  File \u001b[0;32m\"<ipython-input-81-6ac158a5572f>\"\u001b[0;36m, line \u001b[0;32m8\u001b[0m\n\u001b[0;31m    f.seek(spos)\u001b[0m\n\u001b[0m                ^\u001b[0m\n\u001b[0;31mIndentationError\u001b[0m\u001b[0;31m:\u001b[0m expected an indented block\n"
          ]
        }
      ]
    },
    {
      "cell_type": "code",
      "source": [
        "#Unit146 파일 크기 구하기 from OS.PATH import GETSIZE --> GETSIZE() 인자로 입력된 파일의 사이즈를 바이트 크기로 리턴\n",
        "##DIRECTORY 문제로 구동이 안되는 것 같다. 그냥 넘어간다. \n",
        "from os.path import getsize\n",
        "\n",
        "file1='stockcode.txt'\n",
        "file1_size=getsize(file1)\n",
        "print('FILE NAME:%s\\t FILE SIZE:%d'%(file1,file1_size))\n"
      ],
      "metadata": {
        "colab": {
          "base_uri": "https://localhost:8080/",
          "height": 334
        },
        "id": "xvNGDpvwK2aE",
        "outputId": "87e406ef-2c2e-4a41-d673-e0dfa151559d"
      },
      "execution_count": null,
      "outputs": [
        {
          "output_type": "error",
          "ename": "FileNotFoundError",
          "evalue": "ignored",
          "traceback": [
            "\u001b[0;31m---------------------------------------------------------------------------\u001b[0m",
            "\u001b[0;31mFileNotFoundError\u001b[0m                         Traceback (most recent call last)",
            "\u001b[0;32m<ipython-input-7-c428aa794a0d>\u001b[0m in \u001b[0;36m<module>\u001b[0;34m()\u001b[0m\n\u001b[1;32m      4\u001b[0m \u001b[0;34m\u001b[0m\u001b[0m\n\u001b[1;32m      5\u001b[0m \u001b[0mfile1\u001b[0m\u001b[0;34m=\u001b[0m\u001b[0;34m'stockcode.txt'\u001b[0m\u001b[0;34m\u001b[0m\u001b[0;34m\u001b[0m\u001b[0m\n\u001b[0;32m----> 6\u001b[0;31m \u001b[0mfile1_size\u001b[0m\u001b[0;34m=\u001b[0m\u001b[0mgetsize\u001b[0m\u001b[0;34m(\u001b[0m\u001b[0mfile1\u001b[0m\u001b[0;34m)\u001b[0m\u001b[0;34m\u001b[0m\u001b[0;34m\u001b[0m\u001b[0m\n\u001b[0m\u001b[1;32m      7\u001b[0m \u001b[0mprint\u001b[0m\u001b[0;34m(\u001b[0m\u001b[0;34m'FILE NAME:%s\\t FILE SIZE:%d'\u001b[0m\u001b[0;34m%\u001b[0m\u001b[0;34m(\u001b[0m\u001b[0mfile1\u001b[0m\u001b[0;34m,\u001b[0m\u001b[0mfile1_size\u001b[0m\u001b[0;34m)\u001b[0m\u001b[0;34m)\u001b[0m\u001b[0;34m\u001b[0m\u001b[0;34m\u001b[0m\u001b[0m\n",
            "\u001b[0;32m/usr/lib/python3.7/genericpath.py\u001b[0m in \u001b[0;36mgetsize\u001b[0;34m(filename)\u001b[0m\n\u001b[1;32m     48\u001b[0m \u001b[0;32mdef\u001b[0m \u001b[0mgetsize\u001b[0m\u001b[0;34m(\u001b[0m\u001b[0mfilename\u001b[0m\u001b[0;34m)\u001b[0m\u001b[0;34m:\u001b[0m\u001b[0;34m\u001b[0m\u001b[0;34m\u001b[0m\u001b[0m\n\u001b[1;32m     49\u001b[0m     \u001b[0;34m\"\"\"Return the size of a file, reported by os.stat().\"\"\"\u001b[0m\u001b[0;34m\u001b[0m\u001b[0;34m\u001b[0m\u001b[0m\n\u001b[0;32m---> 50\u001b[0;31m     \u001b[0;32mreturn\u001b[0m \u001b[0mos\u001b[0m\u001b[0;34m.\u001b[0m\u001b[0mstat\u001b[0m\u001b[0;34m(\u001b[0m\u001b[0mfilename\u001b[0m\u001b[0;34m)\u001b[0m\u001b[0;34m.\u001b[0m\u001b[0mst_size\u001b[0m\u001b[0;34m\u001b[0m\u001b[0;34m\u001b[0m\u001b[0m\n\u001b[0m\u001b[1;32m     51\u001b[0m \u001b[0;34m\u001b[0m\u001b[0m\n\u001b[1;32m     52\u001b[0m \u001b[0;34m\u001b[0m\u001b[0m\n",
            "\u001b[0;31mFileNotFoundError\u001b[0m: [Errno 2] No such file or directory: 'stockcode.txt'"
          ]
        }
      ]
    },
    {
      "cell_type": "code",
      "source": [
        "#Unit147 파일 삭제하기 OS.REMOVE\n",
        "\n",
        "from os.path import remove\n",
        "\n",
        "target_file='stockcode_copy.txt'\n",
        "k=input('파일 <%s>를 삭제하시겠습니까? (Y/N)' %target_file)\n",
        "if k =='Y':\n",
        "  remove (target_file)\n",
        "  print('<%s> 파일을 삭제하였습니다.' %target_file)"
      ],
      "metadata": {
        "colab": {
          "base_uri": "https://localhost:8080/",
          "height": 368
        },
        "id": "FhH-bMjYb8yu",
        "outputId": "b6771581-1b1d-48af-9caa-ca320d547b7c"
      },
      "execution_count": null,
      "outputs": [
        {
          "output_type": "error",
          "ename": "ImportError",
          "evalue": "ignored",
          "traceback": [
            "\u001b[0;31m---------------------------------------------------------------------------\u001b[0m",
            "\u001b[0;31mImportError\u001b[0m                               Traceback (most recent call last)",
            "\u001b[0;32m<ipython-input-8-2e910d8ef8a2>\u001b[0m in \u001b[0;36m<module>\u001b[0;34m()\u001b[0m\n\u001b[1;32m      1\u001b[0m \u001b[0;31m#Unit147 파일 삭제하기 OS.REMOVE\u001b[0m\u001b[0;34m\u001b[0m\u001b[0;34m\u001b[0m\u001b[0;34m\u001b[0m\u001b[0m\n\u001b[1;32m      2\u001b[0m \u001b[0;34m\u001b[0m\u001b[0m\n\u001b[0;32m----> 3\u001b[0;31m \u001b[0;32mfrom\u001b[0m \u001b[0mos\u001b[0m\u001b[0;34m.\u001b[0m\u001b[0mpath\u001b[0m \u001b[0;32mimport\u001b[0m \u001b[0mremove\u001b[0m\u001b[0;34m\u001b[0m\u001b[0;34m\u001b[0m\u001b[0m\n\u001b[0m\u001b[1;32m      4\u001b[0m \u001b[0;34m\u001b[0m\u001b[0m\n\u001b[1;32m      5\u001b[0m \u001b[0mtarget_file\u001b[0m\u001b[0;34m=\u001b[0m\u001b[0;34m'stockcode_copy.txt'\u001b[0m\u001b[0;34m\u001b[0m\u001b[0;34m\u001b[0m\u001b[0m\n",
            "\u001b[0;31mImportError\u001b[0m: cannot import name 'remove' from 'posixpath' (/usr/lib/python3.7/posixpath.py)",
            "",
            "\u001b[0;31m---------------------------------------------------------------------------\u001b[0;32m\nNOTE: If your import is failing due to a missing package, you can\nmanually install dependencies using either !pip or !apt.\n\nTo view examples of installing some common dependencies, click the\n\"Open Examples\" button below.\n\u001b[0;31m---------------------------------------------------------------------------\u001b[0m\n"
          ],
          "errorDetails": {
            "actions": [
              {
                "action": "open_url",
                "actionText": "Open Examples",
                "url": "/notebooks/snippets/importing_libraries.ipynb"
              }
            ]
          }
        }
      ]
    },
    {
      "cell_type": "code",
      "source": [
        "# https://pypi.python.org/pypi/libarchive\n",
        "!apt-get -qq install -y libarchive-dev && pip install -U libarchive\n",
        "import libarchive"
      ],
      "metadata": {
        "colab": {
          "base_uri": "https://localhost:8080/"
        },
        "id": "XLdIsZCtfs6o",
        "outputId": "d4114b2f-033a-4132-fc3e-f6c9315981d1"
      },
      "execution_count": null,
      "outputs": [
        {
          "output_type": "stream",
          "name": "stdout",
          "text": [
            "Selecting previously unselected package libarchive-dev:amd64.\n",
            "(Reading database ... 155320 files and directories currently installed.)\n",
            "Preparing to unpack .../libarchive-dev_3.2.2-3.1ubuntu0.7_amd64.deb ...\n",
            "Unpacking libarchive-dev:amd64 (3.2.2-3.1ubuntu0.7) ...\n",
            "Setting up libarchive-dev:amd64 (3.2.2-3.1ubuntu0.7) ...\n",
            "Processing triggers for man-db (2.8.3-2ubuntu0.1) ...\n",
            "Collecting libarchive\n",
            "  Downloading libarchive-0.4.7.tar.gz (23 kB)\n",
            "Collecting nose\n",
            "  Downloading nose-1.3.7-py3-none-any.whl (154 kB)\n",
            "\u001b[K     |████████████████████████████████| 154 kB 11.4 MB/s \n",
            "\u001b[?25hBuilding wheels for collected packages: libarchive\n",
            "  Building wheel for libarchive (setup.py) ... \u001b[?25l\u001b[?25hdone\n",
            "  Created wheel for libarchive: filename=libarchive-0.4.7-py3-none-any.whl size=31646 sha256=dcc149149882e65a56d0c79d0eefcf1feb074cbc457796c373a7806d0cb1b607\n",
            "  Stored in directory: /root/.cache/pip/wheels/63/b1/c6/b3da79bec2012175bd43603eed98ef8548ac1733b77c1d4330\n",
            "Successfully built libarchive\n",
            "Installing collected packages: nose, libarchive\n",
            "Successfully installed libarchive-0.4.7 nose-1.3.7\n"
          ]
        }
      ]
    },
    {
      "cell_type": "code",
      "source": [
        "# https://pypi.python.org/pypi/pydot\n",
        "!apt-get -qq install -y graphviz && pip install pydot\n",
        "import pydot"
      ],
      "metadata": {
        "colab": {
          "base_uri": "https://localhost:8080/"
        },
        "id": "67lL5QMFf7Ji",
        "outputId": "c6cc513c-27cc-4bfd-ee21-07ea22f1825c"
      },
      "execution_count": null,
      "outputs": [
        {
          "output_type": "stream",
          "name": "stdout",
          "text": [
            "Requirement already satisfied: pydot in /usr/local/lib/python3.7/dist-packages (1.3.0)\n",
            "Requirement already satisfied: pyparsing>=2.1.4 in /usr/local/lib/python3.7/dist-packages (from pydot) (3.0.7)\n"
          ]
        }
      ]
    },
    {
      "cell_type": "code",
      "source": [
        "!pip install cartopy\n",
        "import cartopy"
      ],
      "metadata": {
        "colab": {
          "base_uri": "https://localhost:8080/"
        },
        "id": "beHQp1t3gBbu",
        "outputId": "cabcbf11-6bbc-4368-e707-e9c590b3f839"
      },
      "execution_count": null,
      "outputs": [
        {
          "output_type": "stream",
          "name": "stdout",
          "text": [
            "Collecting cartopy\n",
            "  Downloading Cartopy-0.20.2.tar.gz (10.8 MB)\n",
            "\u001b[K     |████████████████████████████████| 10.8 MB 7.2 MB/s \n",
            "\u001b[?25h  Installing build dependencies ... \u001b[?25l\u001b[?25hdone\n",
            "  Getting requirements to build wheel ... \u001b[?25l\u001b[?25herror\n",
            "\u001b[33mWARNING: Discarding https://files.pythonhosted.org/packages/f6/55/1e1c737dc9436b320deead73d1c455ddbb74b8b6992081863492f6f6378a/Cartopy-0.20.2.tar.gz#sha256=4d08c198ecaa50a6a6b109d0f14c070e813defc046a83ac5d7ab494f85599e35 (from https://pypi.org/simple/cartopy/) (requires-python:>=3.7). Command errored out with exit status 1: /usr/bin/python3 /usr/local/lib/python3.7/dist-packages/pip/_vendor/pep517/in_process/_in_process.py get_requires_for_build_wheel /tmp/tmp2__w8eft Check the logs for full command output.\u001b[0m\n",
            "  Downloading Cartopy-0.20.1.tar.gz (10.8 MB)\n",
            "\u001b[K     |████████████████████████████████| 10.8 MB 21.6 MB/s \n",
            "\u001b[?25h  Installing build dependencies ... \u001b[?25l\u001b[?25hdone\n",
            "  Getting requirements to build wheel ... \u001b[?25l\u001b[?25herror\n",
            "\u001b[33mWARNING: Discarding https://files.pythonhosted.org/packages/fc/59/aa52698e3838f4cd0e7eaa75bd86837e9e0b05041dbdaee3cda2fffced06/Cartopy-0.20.1.tar.gz#sha256=91f87b130e2574547a20cd634498df97d797abd12dcfd0235bc0cdbcec8b05e3 (from https://pypi.org/simple/cartopy/) (requires-python:>=3.7). Command errored out with exit status 1: /usr/bin/python3 /usr/local/lib/python3.7/dist-packages/pip/_vendor/pep517/in_process/_in_process.py get_requires_for_build_wheel /tmp/tmpkpzdojty Check the logs for full command output.\u001b[0m\n",
            "  Downloading Cartopy-0.20.0.tar.gz (10.8 MB)\n",
            "\u001b[K     |████████████████████████████████| 10.8 MB 28.7 MB/s \n",
            "\u001b[?25h  Installing build dependencies ... \u001b[?25l\u001b[?25hdone\n",
            "  Getting requirements to build wheel ... \u001b[?25l\u001b[?25herror\n",
            "\u001b[33mWARNING: Discarding https://files.pythonhosted.org/packages/0f/c0/58453b036e79046d211f083880d58dcce787e7e07647ac25dc46c6555099/Cartopy-0.20.0.tar.gz#sha256=eae58aff26806e63cf115b2bce9477cedc4aa9f578c5e477b2c25cfa404f2b7a (from https://pypi.org/simple/cartopy/) (requires-python:>=3.7). Command errored out with exit status 1: /usr/bin/python3 /usr/local/lib/python3.7/dist-packages/pip/_vendor/pep517/in_process/_in_process.py get_requires_for_build_wheel /tmp/tmpr7wgsekt Check the logs for full command output.\u001b[0m\n",
            "  Downloading Cartopy-0.19.0.post1.tar.gz (12.1 MB)\n",
            "\u001b[K     |████████████████████████████████| 12.1 MB 22.3 MB/s \n",
            "\u001b[?25h  Installing build dependencies ... \u001b[?25l\u001b[?25hdone\n",
            "  Getting requirements to build wheel ... \u001b[?25l\u001b[?25hdone\n",
            "    Preparing wheel metadata ... \u001b[?25l\u001b[?25hdone\n",
            "Requirement already satisfied: shapely>=1.5.6 in /usr/local/lib/python3.7/dist-packages (from cartopy) (1.8.1)\n",
            "Requirement already satisfied: numpy>=1.13.3 in /usr/local/lib/python3.7/dist-packages (from cartopy) (1.21.5)\n",
            "Collecting pyshp>=2\n",
            "  Downloading pyshp-2.2.0-py3-none-any.whl (44 kB)\n",
            "\u001b[K     |████████████████████████████████| 44 kB 3.1 MB/s \n",
            "\u001b[?25hBuilding wheels for collected packages: cartopy\n",
            "  Building wheel for cartopy (PEP 517) ... \u001b[?25l\u001b[?25hdone\n",
            "  Created wheel for cartopy: filename=Cartopy-0.19.0.post1-cp37-cp37m-linux_x86_64.whl size=12516286 sha256=8a3bc0b75aca7ec053dc7ce66ddd83ade36b0b9f94af69248604cd1d17c66859\n",
            "  Stored in directory: /root/.cache/pip/wheels/98/01/f7/bd10aeb96fe4b518cde5f7c4f5e12c7202f85b7353a5017847\n",
            "Successfully built cartopy\n",
            "Installing collected packages: pyshp, cartopy\n",
            "Successfully installed cartopy-0.19.0.post1 pyshp-2.2.0\n"
          ]
        }
      ]
    },
    {
      "cell_type": "code",
      "source": [
        "#Unit147 파일 삭제하기 OS.REMOVE\n",
        "\n",
        "from os import remove\n",
        "\n",
        "target_file='stockcode_copy.txt'\n",
        "k=input('파일 <%s>를 삭제하시겠습니까? (Y/N)' %target_file)\n",
        "if k =='Y':\n",
        "  remove (target_file)\n",
        "  print('<%s> 파일을 삭제하였습니다.' %target_file)"
      ],
      "metadata": {
        "colab": {
          "base_uri": "https://localhost:8080/",
          "height": 232
        },
        "id": "59XC5juygh6U",
        "outputId": "bb0b85b0-5776-455e-f728-419498e82ecb"
      },
      "execution_count": null,
      "outputs": [
        {
          "name": "stdout",
          "output_type": "stream",
          "text": [
            "파일 <stockcode_copy.txt>를 삭제하시겠습니까? (Y/N)Y\n"
          ]
        },
        {
          "output_type": "error",
          "ename": "FileNotFoundError",
          "evalue": "ignored",
          "traceback": [
            "\u001b[0;31m---------------------------------------------------------------------------\u001b[0m",
            "\u001b[0;31mFileNotFoundError\u001b[0m                         Traceback (most recent call last)",
            "\u001b[0;32m<ipython-input-2-47565ae94a99>\u001b[0m in \u001b[0;36m<module>\u001b[0;34m()\u001b[0m\n\u001b[1;32m      6\u001b[0m \u001b[0mk\u001b[0m\u001b[0;34m=\u001b[0m\u001b[0minput\u001b[0m\u001b[0;34m(\u001b[0m\u001b[0;34m'파일 <%s>를 삭제하시겠습니까? (Y/N)'\u001b[0m \u001b[0;34m%\u001b[0m\u001b[0mtarget_file\u001b[0m\u001b[0;34m)\u001b[0m\u001b[0;34m\u001b[0m\u001b[0;34m\u001b[0m\u001b[0m\n\u001b[1;32m      7\u001b[0m \u001b[0;32mif\u001b[0m \u001b[0mk\u001b[0m \u001b[0;34m==\u001b[0m\u001b[0;34m'Y'\u001b[0m\u001b[0;34m:\u001b[0m\u001b[0;34m\u001b[0m\u001b[0;34m\u001b[0m\u001b[0m\n\u001b[0;32m----> 8\u001b[0;31m   \u001b[0mremove\u001b[0m \u001b[0;34m(\u001b[0m\u001b[0mtarget_file\u001b[0m\u001b[0;34m)\u001b[0m\u001b[0;34m\u001b[0m\u001b[0;34m\u001b[0m\u001b[0m\n\u001b[0m\u001b[1;32m      9\u001b[0m   \u001b[0mprint\u001b[0m\u001b[0;34m(\u001b[0m\u001b[0;34m'<%s> 파일을 삭제하였습니다.'\u001b[0m \u001b[0;34m%\u001b[0m\u001b[0mtarget_file\u001b[0m\u001b[0;34m)\u001b[0m\u001b[0;34m\u001b[0m\u001b[0;34m\u001b[0m\u001b[0m\n",
            "\u001b[0;31mFileNotFoundError\u001b[0m: [Errno 2] No such file or directory: 'stockcode_copy.txt'"
          ]
        }
      ]
    },
    {
      "cell_type": "code",
      "source": [
        "!pip install matplotlib-venn"
      ],
      "metadata": {
        "colab": {
          "base_uri": "https://localhost:8080/"
        },
        "id": "ny53DqKGhNS_",
        "outputId": "2087c18b-ac5b-47b3-bc7f-3db4d1022adc"
      },
      "execution_count": null,
      "outputs": [
        {
          "output_type": "stream",
          "name": "stdout",
          "text": [
            "Requirement already satisfied: matplotlib-venn in /usr/local/lib/python3.7/dist-packages (0.11.6)\n",
            "Requirement already satisfied: numpy in /usr/local/lib/python3.7/dist-packages (from matplotlib-venn) (1.21.5)\n",
            "Requirement already satisfied: matplotlib in /usr/local/lib/python3.7/dist-packages (from matplotlib-venn) (3.2.2)\n",
            "Requirement already satisfied: scipy in /usr/local/lib/python3.7/dist-packages (from matplotlib-venn) (1.4.1)\n",
            "Requirement already satisfied: pyparsing!=2.0.4,!=2.1.2,!=2.1.6,>=2.0.1 in /usr/local/lib/python3.7/dist-packages (from matplotlib->matplotlib-venn) (3.0.7)\n",
            "Requirement already satisfied: kiwisolver>=1.0.1 in /usr/local/lib/python3.7/dist-packages (from matplotlib->matplotlib-venn) (1.3.2)\n",
            "Requirement already satisfied: python-dateutil>=2.1 in /usr/local/lib/python3.7/dist-packages (from matplotlib->matplotlib-venn) (2.8.2)\n",
            "Requirement already satisfied: cycler>=0.10 in /usr/local/lib/python3.7/dist-packages (from matplotlib->matplotlib-venn) (0.11.0)\n",
            "Requirement already satisfied: six>=1.5 in /usr/local/lib/python3.7/dist-packages (from python-dateutil>=2.1->matplotlib->matplotlib-venn) (1.15.0)\n"
          ]
        }
      ]
    },
    {
      "cell_type": "code",
      "source": [
        "!apt-get -qq install -y libfluidsynth1"
      ],
      "metadata": {
        "colab": {
          "base_uri": "https://localhost:8080/"
        },
        "id": "dfLttVBAhTr6",
        "outputId": "ab1dc030-7060-47db-b255-6f1dc7d4bc6f"
      },
      "execution_count": null,
      "outputs": [
        {
          "output_type": "stream",
          "name": "stdout",
          "text": [
            "Selecting previously unselected package libfluidsynth1:amd64.\n",
            "(Reading database ... \r(Reading database ... 5%\r(Reading database ... 10%\r(Reading database ... 15%\r(Reading database ... 20%\r(Reading database ... 25%\r(Reading database ... 30%\r(Reading database ... 35%\r(Reading database ... 40%\r(Reading database ... 45%\r(Reading database ... 50%\r(Reading database ... 55%\r(Reading database ... 60%\r(Reading database ... 65%\r(Reading database ... 70%\r(Reading database ... 75%\r(Reading database ... 80%\r(Reading database ... 85%\r(Reading database ... 90%\r(Reading database ... 95%\r(Reading database ... 100%\r(Reading database ... 155376 files and directories currently installed.)\n",
            "Preparing to unpack .../libfluidsynth1_1.1.9-1_amd64.deb ...\n",
            "Unpacking libfluidsynth1:amd64 (1.1.9-1) ...\n",
            "Setting up libfluidsynth1:amd64 (1.1.9-1) ...\n",
            "Processing triggers for libc-bin (2.27-3ubuntu1.3) ...\n",
            "/sbin/ldconfig.real: /usr/local/lib/python3.7/dist-packages/ideep4py/lib/libmkldnn.so.0 is not a symbolic link\n",
            "\n"
          ]
        }
      ]
    },
    {
      "cell_type": "code",
      "source": [
        "#Unit147 파일 삭제하기 OS 모듈 REMOVE () 함수\n",
        "\n",
        "from os.path import remove\n",
        "\n",
        "target_file='stockcode_copy.txt'\n",
        "k=input('파일 <%s>를 삭제하시겠습니까? (Y/N)' %target_file)\n",
        "if k =='Y':\n",
        "  remove (target_file)\n",
        "  print('<%s> 파일을 삭제하였습니다.' %target_file)"
      ],
      "metadata": {
        "colab": {
          "base_uri": "https://localhost:8080/",
          "height": 368
        },
        "id": "9zwV4gb8hbLc",
        "outputId": "8d0bae82-ee8b-4dec-863f-b8eeb4872cf5"
      },
      "execution_count": null,
      "outputs": [
        {
          "output_type": "error",
          "ename": "ImportError",
          "evalue": "ignored",
          "traceback": [
            "\u001b[0;31m---------------------------------------------------------------------------\u001b[0m",
            "\u001b[0;31mImportError\u001b[0m                               Traceback (most recent call last)",
            "\u001b[0;32m<ipython-input-12-2e910d8ef8a2>\u001b[0m in \u001b[0;36m<module>\u001b[0;34m()\u001b[0m\n\u001b[1;32m      1\u001b[0m \u001b[0;31m#Unit147 파일 삭제하기 OS.REMOVE\u001b[0m\u001b[0;34m\u001b[0m\u001b[0;34m\u001b[0m\u001b[0;34m\u001b[0m\u001b[0m\n\u001b[1;32m      2\u001b[0m \u001b[0;34m\u001b[0m\u001b[0m\n\u001b[0;32m----> 3\u001b[0;31m \u001b[0;32mfrom\u001b[0m \u001b[0mos\u001b[0m\u001b[0;34m.\u001b[0m\u001b[0mpath\u001b[0m \u001b[0;32mimport\u001b[0m \u001b[0mremove\u001b[0m\u001b[0;34m\u001b[0m\u001b[0;34m\u001b[0m\u001b[0m\n\u001b[0m\u001b[1;32m      4\u001b[0m \u001b[0;34m\u001b[0m\u001b[0m\n\u001b[1;32m      5\u001b[0m \u001b[0mtarget_file\u001b[0m\u001b[0;34m=\u001b[0m\u001b[0;34m'stockcode_copy.txt'\u001b[0m\u001b[0;34m\u001b[0m\u001b[0;34m\u001b[0m\u001b[0m\n",
            "\u001b[0;31mImportError\u001b[0m: cannot import name 'remove' from 'posixpath' (/usr/lib/python3.7/posixpath.py)",
            "",
            "\u001b[0;31m---------------------------------------------------------------------------\u001b[0;32m\nNOTE: If your import is failing due to a missing package, you can\nmanually install dependencies using either !pip or !apt.\n\nTo view examples of installing some common dependencies, click the\n\"Open Examples\" button below.\n\u001b[0;31m---------------------------------------------------------------------------\u001b[0m\n"
          ],
          "errorDetails": {
            "actions": [
              {
                "action": "open_url",
                "actionText": "Open Examples",
                "url": "/notebooks/snippets/importing_libraries.ipynb"
              }
            ]
          }
        }
      ]
    },
    {
      "cell_type": "code",
      "source": [
        "from os import remove\n",
        "target_file='mydata.txt' # 왜 open('mydata.txt','r')을 쓰지 않았지? \n",
        "k=input('[%s] 파일을 삭제하시겠습니까? (y/n)'%target_file) #<%s>라고 하니까 안내문이 안나오는 에러, 왜??????\n",
        "if k=='y':\n",
        "  remove (target_file)\n",
        "  print('[%s] 파일 삭제가 완료되었습니다.'%target_file)"
      ],
      "metadata": {
        "colab": {
          "base_uri": "https://localhost:8080/",
          "height": 232
        },
        "id": "zj8mTaa7pNLh",
        "outputId": "71a4a9d3-e3d2-4b17-8755-5173a0be2349"
      },
      "execution_count": null,
      "outputs": [
        {
          "name": "stdout",
          "output_type": "stream",
          "text": [
            "[mydata.txt] 파일을 삭제하시겠습니까? (y/n)y\n"
          ]
        },
        {
          "output_type": "error",
          "ename": "FileNotFoundError",
          "evalue": "ignored",
          "traceback": [
            "\u001b[0;31m---------------------------------------------------------------------------\u001b[0m",
            "\u001b[0;31mFileNotFoundError\u001b[0m                         Traceback (most recent call last)",
            "\u001b[0;32m<ipython-input-25-cfc584819788>\u001b[0m in \u001b[0;36m<module>\u001b[0;34m()\u001b[0m\n\u001b[1;32m      3\u001b[0m \u001b[0mk\u001b[0m\u001b[0;34m=\u001b[0m\u001b[0minput\u001b[0m\u001b[0;34m(\u001b[0m\u001b[0;34m'[%s] 파일을 삭제하시겠습니까? (y/n)'\u001b[0m\u001b[0;34m%\u001b[0m\u001b[0mtarget_file\u001b[0m\u001b[0;34m)\u001b[0m \u001b[0;31m#<%s>라고 하니까 안내문이 안나오는 에러, 왜??????\u001b[0m\u001b[0;34m\u001b[0m\u001b[0;34m\u001b[0m\u001b[0m\n\u001b[1;32m      4\u001b[0m \u001b[0;32mif\u001b[0m \u001b[0mk\u001b[0m\u001b[0;34m==\u001b[0m\u001b[0;34m'y'\u001b[0m\u001b[0;34m:\u001b[0m\u001b[0;34m\u001b[0m\u001b[0;34m\u001b[0m\u001b[0m\n\u001b[0;32m----> 5\u001b[0;31m   \u001b[0mremove\u001b[0m \u001b[0;34m(\u001b[0m\u001b[0mtarget_file\u001b[0m\u001b[0;34m)\u001b[0m\u001b[0;34m\u001b[0m\u001b[0;34m\u001b[0m\u001b[0m\n\u001b[0m\u001b[1;32m      6\u001b[0m   \u001b[0mprint\u001b[0m\u001b[0;34m(\u001b[0m\u001b[0;34m'[%s] 파일 삭제가 완료되었습니다.'\u001b[0m\u001b[0;34m%\u001b[0m\u001b[0mtarget_file\u001b[0m\u001b[0;34m)\u001b[0m\u001b[0;34m\u001b[0m\u001b[0;34m\u001b[0m\u001b[0m\n",
            "\u001b[0;31mFileNotFoundError\u001b[0m: [Errno 2] No such file or directory: 'mydata.txt'"
          ]
        }
      ]
    },
    {
      "cell_type": "code",
      "source": [
        "#Unit148 파일이름 바꾸기\n",
        "\n",
        "from os import remove\n",
        "target_file='stockcode.txt','r'\n",
        "newname=input('[%s]에 대한 새로운 파일 이름을 입력하세요:'%target_file)\n",
        "rename(target_file, newname) #rename(인자1, 인자2)\n",
        "print('[%s] -> [%s]로 파일명이 변경되었습니다' %(target_file, newname))\n"
      ],
      "metadata": {
        "colab": {
          "base_uri": "https://localhost:8080/",
          "height": 232
        },
        "id": "wahOKgj_qEsP",
        "outputId": "199e2c04-d9c5-4a9b-a8ea-c20b97696705"
      },
      "execution_count": null,
      "outputs": [
        {
          "output_type": "error",
          "ename": "TypeError",
          "evalue": "ignored",
          "traceback": [
            "\u001b[0;31m---------------------------------------------------------------------------\u001b[0m",
            "\u001b[0;31mTypeError\u001b[0m                                 Traceback (most recent call last)",
            "\u001b[0;32m<ipython-input-32-282b82e3fd87>\u001b[0m in \u001b[0;36m<module>\u001b[0;34m()\u001b[0m\n\u001b[1;32m      3\u001b[0m \u001b[0;32mfrom\u001b[0m \u001b[0mos\u001b[0m \u001b[0;32mimport\u001b[0m \u001b[0mremove\u001b[0m\u001b[0;34m\u001b[0m\u001b[0;34m\u001b[0m\u001b[0m\n\u001b[1;32m      4\u001b[0m \u001b[0mtarget_file\u001b[0m\u001b[0;34m=\u001b[0m\u001b[0;34m'stockcode.txt'\u001b[0m\u001b[0;34m,\u001b[0m\u001b[0;34m'r'\u001b[0m\u001b[0;34m\u001b[0m\u001b[0;34m\u001b[0m\u001b[0m\n\u001b[0;32m----> 5\u001b[0;31m \u001b[0mnewname\u001b[0m\u001b[0;34m=\u001b[0m\u001b[0minput\u001b[0m\u001b[0;34m(\u001b[0m\u001b[0;34m'[%s]에 대한 새로운 파일 이름을 입력하세요:'\u001b[0m\u001b[0;34m%\u001b[0m\u001b[0mtarget_file\u001b[0m\u001b[0;34m)\u001b[0m\u001b[0;34m\u001b[0m\u001b[0;34m\u001b[0m\u001b[0m\n\u001b[0m\u001b[1;32m      6\u001b[0m \u001b[0mrename\u001b[0m\u001b[0;34m(\u001b[0m\u001b[0mtarget_file\u001b[0m\u001b[0;34m,\u001b[0m \u001b[0mnewname\u001b[0m\u001b[0;34m)\u001b[0m \u001b[0;31m#rename(인자1, 인자2)\u001b[0m\u001b[0;34m\u001b[0m\u001b[0;34m\u001b[0m\u001b[0m\n\u001b[1;32m      7\u001b[0m \u001b[0mprint\u001b[0m\u001b[0;34m(\u001b[0m\u001b[0;34m'[%s] -> [%s]로 파일명이 변경되었습니다'\u001b[0m \u001b[0;34m%\u001b[0m\u001b[0;34m(\u001b[0m\u001b[0mtarget_file\u001b[0m\u001b[0;34m,\u001b[0m \u001b[0mnewname\u001b[0m\u001b[0;34m)\u001b[0m\u001b[0;34m)\u001b[0m\u001b[0;34m\u001b[0m\u001b[0;34m\u001b[0m\u001b[0m\n",
            "\u001b[0;31mTypeError\u001b[0m: not all arguments converted during string formatting"
          ]
        }
      ]
    },
    {
      "cell_type": "code",
      "source": [
        "#149 파일을 다른 디렉토리로 이동하기 \n",
        "\n",
        "from os import rename \n",
        "\n",
        "target_file='mydata.txt'\n",
        "newpath=input('[%s]를 이동할 정확한 경로를 입력하세요:' %target_file)\n",
        "\n",
        "if newpath[-1]=='/':\n",
        "  newname = newpath + target_file\n",
        "else:\n",
        "  newname = newpath + '/' + target_file\n",
        "try:\n",
        "  rename(target_file, newname)\n",
        "  print('[%s] -> [%s]로 이동되었습니다.' %(target_file, newname))\n",
        "except FileNotFoundError as e:\n",
        "  print(e)\n"
      ],
      "metadata": {
        "colab": {
          "base_uri": "https://localhost:8080/"
        },
        "id": "Y1MyGRq109uo",
        "outputId": "104e6147-e528-4b0d-d9c0-22978931c520"
      },
      "execution_count": null,
      "outputs": [
        {
          "output_type": "stream",
          "name": "stdout",
          "text": [
            "[mydata.txt]를 이동할 정확한 경로를 입력하세요:d:/downloads\n",
            "[Errno 2] No such file or directory: 'mydata.txt' -> 'd:/downloads/mydata.txt'\n"
          ]
        }
      ]
    },
    {
      "cell_type": "code",
      "source": [
        "#Unit150 Directory에 있는 파일 목록 얻기 OS.LISTDIR, GLOB.GLOB\n",
        "\n",
        "import os.glob\n",
        "\n",
        "folder = 'd:/sample_data'\n",
        "file_list=os.listdir(folder)\n",
        "print(file_list)\n",
        "\n",
        "files='*.txt'\n",
        "file_list=glob.glob(files)\n",
        "print(file_list)"
      ],
      "metadata": {
        "colab": {
          "base_uri": "https://localhost:8080/",
          "height": 368
        },
        "id": "IbMdT6aGVYz2",
        "outputId": "870b7cac-89ea-4e72-8bd6-da757fb4cf6e"
      },
      "execution_count": null,
      "outputs": [
        {
          "output_type": "error",
          "ename": "ModuleNotFoundError",
          "evalue": "ignored",
          "traceback": [
            "\u001b[0;31m---------------------------------------------------------------------------\u001b[0m",
            "\u001b[0;31mModuleNotFoundError\u001b[0m                       Traceback (most recent call last)",
            "\u001b[0;32m<ipython-input-36-0f47807651bd>\u001b[0m in \u001b[0;36m<module>\u001b[0;34m()\u001b[0m\n\u001b[1;32m      1\u001b[0m \u001b[0;31m#Unit150 Directory에 있는 파일 목록 얻기 OS.LISTDIR, GLOB.GLOB\u001b[0m\u001b[0;34m\u001b[0m\u001b[0;34m\u001b[0m\u001b[0;34m\u001b[0m\u001b[0m\n\u001b[1;32m      2\u001b[0m \u001b[0;34m\u001b[0m\u001b[0m\n\u001b[0;32m----> 3\u001b[0;31m \u001b[0;32mimport\u001b[0m \u001b[0mos\u001b[0m\u001b[0;34m.\u001b[0m\u001b[0mglob\u001b[0m\u001b[0;34m\u001b[0m\u001b[0;34m\u001b[0m\u001b[0m\n\u001b[0m\u001b[1;32m      4\u001b[0m \u001b[0;34m\u001b[0m\u001b[0m\n\u001b[1;32m      5\u001b[0m \u001b[0mfolder\u001b[0m \u001b[0;34m=\u001b[0m \u001b[0;34m'd:/sample_data'\u001b[0m\u001b[0;34m\u001b[0m\u001b[0;34m\u001b[0m\u001b[0m\n",
            "\u001b[0;31mModuleNotFoundError\u001b[0m: No module named 'os.glob'; 'os' is not a package",
            "",
            "\u001b[0;31m---------------------------------------------------------------------------\u001b[0;32m\nNOTE: If your import is failing due to a missing package, you can\nmanually install dependencies using either !pip or !apt.\n\nTo view examples of installing some common dependencies, click the\n\"Open Examples\" button below.\n\u001b[0;31m---------------------------------------------------------------------------\u001b[0m\n"
          ],
          "errorDetails": {
            "actions": [
              {
                "action": "open_url",
                "actionText": "Open Examples",
                "url": "/notebooks/snippets/importing_libraries.ipynb"
              }
            ]
          }
        }
      ]
    },
    {
      "cell_type": "code",
      "source": [
        "#Unit151 현재 디렉터리 확인하고 바꾸기 OS.GETCWD(), OS.CHDIR() ### 아몰라\n",
        "\n",
        "import os\n",
        "pdir=os.getcwd(); print(pdir)\n",
        "os.chdir('..');print(os.getcwd())\n",
        "os.chdir(pdir);print(os.getcwd())\n"
      ],
      "metadata": {
        "colab": {
          "base_uri": "https://localhost:8080/"
        },
        "id": "88PXQEujk7hf",
        "outputId": "bcd54465-7a77-4d8c-b087-d28e3a7e10f6"
      },
      "execution_count": null,
      "outputs": [
        {
          "output_type": "stream",
          "name": "stdout",
          "text": [
            "/\n",
            "/\n",
            "/\n"
          ]
        }
      ]
    },
    {
      "cell_type": "code",
      "source": [
        "#Unit152 Directory 생성하기 OS.MKDIR()\n",
        "\n",
        "import os\n",
        "newfolder=input('새로 생성할 디렉토리 이름을 입력하세요:')\n",
        "try:\n",
        "  os.mkdir(newfolder)\n",
        "  print('[%s] 디렉토리를 새로 생성했습니다.' %newfolder)\n",
        "except Exception as e:\n",
        "  print(e)"
      ],
      "metadata": {
        "colab": {
          "base_uri": "https://localhost:8080/"
        },
        "id": "DvFUVLYPDPYr",
        "outputId": "0c6727c6-a1ba-47ec-b184-126569d02700"
      },
      "execution_count": null,
      "outputs": [
        {
          "output_type": "stream",
          "name": "stdout",
          "text": [
            "새로 생성할 디렉토리 이름을 입력하세요:sample\n",
            "[sample] 디렉토리를 새로 생성했습니다.\n"
          ]
        }
      ]
    },
    {
      "cell_type": "code",
      "source": [
        "#Unit153 디렉토리 제거하기 OS.RMDIR() \n",
        "\n",
        "import os\n",
        "target_folder='sample'\n",
        "k=input('[%s] 디렉토리를 삭제하시겠습니까? (y/n' %target_folder)\n",
        "if k=='y':\n",
        "  try:\n",
        "    os.rmdir(target_folder)\n",
        "    print('[%s] 디렉토리를 삭제했습니다.' %target_folder)\n",
        "  except Exception as e:\n",
        "    print(e)"
      ],
      "metadata": {
        "colab": {
          "base_uri": "https://localhost:8080/"
        },
        "id": "f35XP_jOE4RX",
        "outputId": "48324372-004c-40a1-e223-3845bc1c5e43"
      },
      "execution_count": null,
      "outputs": [
        {
          "output_type": "stream",
          "name": "stdout",
          "text": [
            "[sample] 디렉토리를 삭제하시겠습니까? (y/ny\n",
            "[sample] 디렉토리를 삭제했습니다.\n"
          ]
        }
      ]
    },
    {
      "cell_type": "code",
      "source": [
        "#Unit154 하위 디렉토리 및 파일 전체 삭제하기; 모듈 SHUTIL;  RMTREE()\n",
        "\n",
        "import shutil\n",
        "import os\n",
        "\n",
        "target_folder='d:/devlab/py200/tmp'\n",
        "print('[%s] 하위 모든 디렉토리 및 파일들을 삭제합니다.' %target_folder])\n",
        "for file in os.listdir(target_folder):\n",
        "  print(file) #이건 왜 하나??? 삭제를 할 파일들을 미리 보고 확인차 프린트 \n",
        "k=input('[%s]를 삭제하겠습니까? (y/n)' %target_folder)\n",
        "if k=='y': #Y/N 다음에 주로 나오는 코드\n",
        "  try:\n",
        "    shutil.rmtree(target_folder)\n",
        "    print('[%s]의 모든 하위 디렉토리와 파일을 삭제하겠습니다.' %target_folder)\n",
        "  except Exception as e:\n",
        "    print(e)"
      ],
      "metadata": {
        "colab": {
          "base_uri": "https://localhost:8080/",
          "height": 130
        },
        "id": "CqSjUbVIGBUd",
        "outputId": "d2989a6b-4424-420c-f67f-e994407a0545"
      },
      "execution_count": null,
      "outputs": [
        {
          "output_type": "error",
          "ename": "SyntaxError",
          "evalue": "ignored",
          "traceback": [
            "\u001b[0;36m  File \u001b[0;32m\"<ipython-input-50-e47fc95adcb3>\"\u001b[0;36m, line \u001b[0;32m7\u001b[0m\n\u001b[0;31m    print('[%s] 하위 모든 디렉토리 및 파일들을 삭제합니다.' %target_folder])\u001b[0m\n\u001b[0m                                                        ^\u001b[0m\n\u001b[0;31mSyntaxError\u001b[0m\u001b[0;31m:\u001b[0m invalid syntax\n"
          ]
        }
      ]
    },
    {
      "cell_type": "code",
      "source": [
        "#Unit155 파일이나 디렉토리가 존재하는지 확인; 모듈 OS.PATH, EXISTS ()\n",
        "\n",
        "import os\n",
        "from os.path import exists\n",
        "\n",
        "dir_name=input('새로 생성할 디렉토리 이름을 이벽하세요:')\n",
        "if not exists(dir_name):\n",
        "  os.mkdir(dir_name)\n",
        "  print('[%s] 디렉토리를 생성했습니다' %dir_name)\n",
        "else:\n",
        "  print('[%s]는 이미 존재합니다.\u001d' %dir_name)\n"
      ],
      "metadata": {
        "colab": {
          "base_uri": "https://localhost:8080/",
          "height": 130
        },
        "id": "m4DJa9VSO0nV",
        "outputId": "3e0d9132-ce59-44fb-be23-e0528a0ef8f0"
      },
      "execution_count": null,
      "outputs": [
        {
          "output_type": "error",
          "ename": "SyntaxError",
          "evalue": "ignored",
          "traceback": [
            "\u001b[0;36m  File \u001b[0;32m\"<ipython-input-52-af69936de924>\"\u001b[0;36m, line \u001b[0;32m11\u001b[0m\n\u001b[0;31m    print('[%s]는 이미 존재합니다.\u001b[0m\n\u001b[0m                          ^\u001b[0m\n\u001b[0;31mSyntaxError\u001b[0m\u001b[0;31m:\u001b[0m EOL while scanning string literal\n"
          ]
        }
      ]
    },
    {
      "cell_type": "code",
      "source": [
        "#Unit156 파일인지 디렉토리인지 확인하기 모듈 OS.PATH.ISFILE / 모듈 OS.PATH.ISDIR\n",
        "import os\n",
        "from os.path import exists, isfile, isdir\n",
        "\n",
        "files=os.listdir()\n",
        "for file in files:\n",
        "  if isdir(file):\n",
        "    print('DIR:%s' %file)\n",
        "for file in files:\n",
        "  if isfile(file):\n",
        "    print('FILE: %s' %file)\n"
      ],
      "metadata": {
        "colab": {
          "base_uri": "https://localhost:8080/"
        },
        "id": "ggnCNICjQYde",
        "outputId": "17b6086f-3934-4392-da4e-87fc0048ee63"
      },
      "execution_count": null,
      "outputs": [
        {
          "output_type": "stream",
          "name": "stdout",
          "text": [
            "DIR:run\n",
            "DIR:sbin\n",
            "DIR:srv\n",
            "DIR:etc\n",
            "DIR:lib64\n",
            "DIR:boot\n",
            "DIR:lib\n",
            "DIR:opt\n",
            "DIR:tmp\n",
            "DIR:media\n",
            "DIR:dev\n",
            "DIR:home\n",
            "DIR:bin\n",
            "DIR:proc\n",
            "DIR:usr\n",
            "DIR:var\n",
            "DIR:root\n",
            "DIR:sys\n",
            "DIR:mnt\n",
            "DIR:Sample\n",
            "DIR:content\n",
            "DIR:datalab\n",
            "DIR:tools\n",
            "DIR:tensorflow-1.15.2\n",
            "DIR:lib32\n",
            "DIR:python-apt\n",
            "FILE: .dockerenv\n"
          ]
        }
      ]
    },
    {
      "cell_type": "code",
      "source": [
        "#Unit157 현재시간을 년-월-일 시:분:초 출력하기:  모듈 TIME, LOCALTIME() STRFTIME()\n",
        "### 잠이 와서 도통 모르겠음.\n",
        "from time import localtime, strftime\n",
        "\n",
        "logfile='text.log'\n",
        "def writelog(logfile.log):\n",
        "  time_stamp = strftime('%Y-%m-%d %X\\t', localtime())\n",
        "  log = time_stamp + log + '\\n'\n",
        "\n",
        "with open (logfile.'a') as f:\n",
        "  f.writeline(log)\n",
        "\n",
        "writelog(logfile, '첫 번째 로깅 문장입니다.')"
      ],
      "metadata": {
        "colab": {
          "base_uri": "https://localhost:8080/",
          "height": 130
        },
        "id": "niVQN0veTchO",
        "outputId": "1c27c487-0cc4-48fd-eec8-3795e21cd073"
      },
      "execution_count": null,
      "outputs": [
        {
          "output_type": "error",
          "ename": "SyntaxError",
          "evalue": "ignored",
          "traceback": [
            "\u001b[0;36m  File \u001b[0;32m\"<ipython-input-56-e382c937fc6a>\"\u001b[0;36m, line \u001b[0;32m6\u001b[0m\n\u001b[0;31m    def writelog(logfile.log):\u001b[0m\n\u001b[0m                        ^\u001b[0m\n\u001b[0;31mSyntaxError\u001b[0m\u001b[0;31m:\u001b[0m invalid syntax\n"
          ]
        }
      ]
    },
    {
      "cell_type": "code",
      "source": [
        "Unit158 올해 경과된 날짜수 계산하기 --> 모듈 TIME; LOCALTIME()\n",
        "\n",
        "from time import localtime\n",
        "\n",
        "t=localtime()\n",
        "start_day ='%d-01-01' %t.tm_year #현재 tm_year 는 년도를 대입하여 %d-01-01 1월 1일을 만든다\n",
        "elapsed_day = t.tm_yday #tm_yday 는 그 해의 날\n",
        "\n",
        "print('오늘은 [%s]이후 [%d]일째 되는 날입니다.' %(start_day, elapsed_day))"
      ],
      "metadata": {
        "colab": {
          "base_uri": "https://localhost:8080/"
        },
        "id": "JdFibvUhlN9n",
        "outputId": "e4f49c2d-ed0e-4155-fda8-2499d5b041aa"
      },
      "execution_count": null,
      "outputs": [
        {
          "output_type": "stream",
          "name": "stdout",
          "text": [
            "오늘은 [2022-01-01]이후 [54]일째 되는 날입니다.\n"
          ]
        }
      ]
    },
    {
      "cell_type": "code",
      "source": [
        "#나 혼자 연습\n",
        "from time import localtime\n",
        "\n",
        "t=localtime()\n",
        "start_day='%d-01-01' %t.tm_year\n",
        "elapsed_day=t.tm_yday\n",
        "print('오늘은 [%s] 이후 [%d] 일 째 되는 날입니다' %(start_day, elapsed_day))"
      ],
      "metadata": {
        "colab": {
          "base_uri": "https://localhost:8080/"
        },
        "id": "nRSggdUxnbdO",
        "outputId": "6be729f8-bbc3-47b5-f6fb-d4938dd3b625"
      },
      "execution_count": null,
      "outputs": [
        {
          "output_type": "stream",
          "name": "stdout",
          "text": [
            "오늘은 [2022-01-01] 이후 [54] 일 째 되는 날입니다\n"
          ]
        }
      ]
    },
    {
      "cell_type": "code",
      "source": [
        "#Unit159 오늘의 요일 계산하기 --> 모듈 TIME; LOCALTIME()\n",
        "\n",
        "from time import localtime\n",
        "weekdays=['월요일','화요일','수요일','목요일','금요일','토요일','일요일']\n",
        "\n",
        "t=localtime() #현재시간을 struct_time 형식으로 구하기\n",
        "today ='%d-%d-%d' %(t.tm_year, t.tm_mon, t.tm_mday) #왜 tm_mday? 왜 m??? 이건 몇 일 표시\n",
        "week = weekdays[t.tm_wday] #tm_wday 요일 표시\n",
        "\n",
        "print('[%s] 오늘은 [%s]입니다.' %(today, week))"
      ],
      "metadata": {
        "colab": {
          "base_uri": "https://localhost:8080/"
        },
        "id": "-BrfMHx_oRLH",
        "outputId": "f1bcebb4-6981-44d8-e32c-1766a2832336"
      },
      "execution_count": null,
      "outputs": [
        {
          "output_type": "stream",
          "name": "stdout",
          "text": [
            "[2022-2-23] 오늘은 [수요일]입니다.\n"
          ]
        }
      ]
    },
    {
      "cell_type": "code",
      "source": [
        "#Unit160 프로그램 실행 시간 계산하기 --> 모듈 DATETIME; DATETIME.NOW()\n",
        "\n",
        "from datetime import datetime\n",
        "start=datetime.now()\n",
        "print('1에서 백만까지 더합니다.')\n",
        "ret=0 #ret=0 부터 시작해서 프린트까지 네줄 왜 하는지 모르겠음.\n",
        "for i in range(1000000):\n",
        "  ret+=i\n",
        "print('1에서 백만까지 더한 결과: %d' %ret)\n",
        "end=datetime.now()\n",
        "elapsed = end - start\n",
        "print('총 계산 시간:',end=''); print(elapsed)\n",
        "elapsed_ms=int(elapsed.total_seconds()*1000)\n",
        "print('총 계산 시간: %dms' %elapsed_ms)\n",
        "\n"
      ],
      "metadata": {
        "colab": {
          "base_uri": "https://localhost:8080/"
        },
        "id": "lQaD1janqVc3",
        "outputId": "e8b795c8-ae8b-4005-906c-0ca33c2801c2"
      },
      "execution_count": null,
      "outputs": [
        {
          "output_type": "stream",
          "name": "stdout",
          "text": [
            "1에서 백만까지 더합니다.\n",
            "1에서 백만까지 더한 결과: 499999500000\n",
            "총 계산 시간:0:00:00.129200\n",
            "총 계산 시간: 129ms\n"
          ]
        }
      ]
    },
    {
      "cell_type": "code",
      "source": [
        "#Unit161 주어진 숫자를 천 단위로 구분하기 (정수를 입력받아 세자리마다 콤마를 삽인)\n",
        "\n",
        "num=input('숫자를 입력하세요:')\n",
        "if num.isdigit(): #입력한 숫자가 숫자로만 이루어진 문자열이면????\n",
        "  num=num[::-1] #입력한 숫자를 거꾸로 배열\n",
        "  ret=''                        #ret은 결과를 담을 변수\n",
        "  for i, c in enumerate(num):   #num에서 인덱스 i 와 요소 하나씩 추출하고,\n",
        "    i+=1                        #인덱스 i 에 1을 더해서 추출한 숫자의 위치에 대응하게 한다????\n",
        "    if i!=len(num) and i%3==0:  #요소의 위치가 num의 마지막이 아니고 3의 배수이면\n",
        "      ret +=(c + ',')           #추출한 요소 뒤에 콤마를 더한 값을 ret값에 추가합니다 \n",
        "    else:                       #추출한 요소가 마지막에 위치하거나, 3의 배수가 아니면 \n",
        "      ret +=c                   #추출한 요소를 ret 에 추가합니다.  \n",
        "  ret=ret[::-1]               #ret을 거꾸로 배열하여\n",
        "  print(ret)                  #ret을 출력합니다.\n",
        "else:                         #입력한 숫자가 숫자로만 이루어지지 않은 문자열이면\n",
        "    print('입력한 내용 [%s]: 숫자가 아닙니다.'%num) #입력한 내용이 숫자가 아니라는 메세지를 출력한다"
      ],
      "metadata": {
        "colab": {
          "base_uri": "https://localhost:8080/"
        },
        "id": "8OfGM4U0tgEb",
        "outputId": "252ac762-4511-472b-fd23-b459d30a830a"
      },
      "execution_count": null,
      "outputs": [
        {
          "output_type": "stream",
          "name": "stdout",
          "text": [
            "숫자를 입력하세요:12345\n",
            "12,345\n"
          ]
        }
      ]
    },
    {
      "cell_type": "code",
      "source": [
        "#Unit162 문자열의 각 문자를 그 다음 문자로 변경하기 --> 문자열의 인덱싱을 이용한다\n",
        "\n",
        "text=input('문장을 입력하세요:')\n",
        "\n",
        "ret=''                      #ret은 결과를 담을 변수: 결과는 ret에 담을 예정이다. \n",
        "for i in range(len(text)):  \n",
        "  if i!=len(text)-1:        #text의 각 문자의 인덱스 i에 대하여 i가 text의 맨 마지막 문자의 인덱스가 아니면 \n",
        "    ret +=text[i+1]         #ret에 text[i +1]을 추가한다.\n",
        "  else:                     #인덱스 i 가 text 의 마지막 문자라면\n",
        "    ret +=text[0]           #ret에 text[0]을 추가한다??????\n",
        "\n",
        "print(ret)"
      ],
      "metadata": {
        "colab": {
          "base_uri": "https://localhost:8080/"
        },
        "id": "8AB2OgB46ytm",
        "outputId": "7f2e47a1-d8b9-4a4a-8df4-de90340e9a23"
      },
      "execution_count": null,
      "outputs": [
        {
          "output_type": "stream",
          "name": "stdout",
          "text": [
            "문장을 입력하세요:산토끼 토끼야 어디를 가느냐\n",
            "토끼 토끼야 어디를 가느냐산\n"
          ]
        }
      ]
    },
    {
      "cell_type": "code",
      "source": [
        "#Unit163 URL 문자열에서 호스트 도메인 부분만 추출하는 방법 --> 문자열 객체의 SPLIT()을 이용한다\n",
        "\n",
        "url='https://www.google.com/search?q=ImportError%3A%20cannot%20import%20name%20%27remove%27%20from%20%27posixpath%27%20(%2Fusr%2Flib%2Fpython3.7%2Fposixpath.py)+site:stackoverflow.com'\n",
        "\n",
        "tmp=url.split('/') #tmp는 url을 slash / 로 구분한 문자열이 요소인 리스트이다\n",
        "domain=tmp[2] #url 을 slash / 로 구분하면 3 번째 위치 (인덱스는 [2])????? http[0] :[1] www.google.com [2]????\n",
        "print(domain)"
      ],
      "metadata": {
        "colab": {
          "base_uri": "https://localhost:8080/"
        },
        "id": "VFNyTFmaHsD9",
        "outputId": "5cba4357-1b26-4c13-dc81-900bb073dfba"
      },
      "execution_count": null,
      "outputs": [
        {
          "output_type": "stream",
          "name": "stdout",
          "text": [
            "www.google.com\n"
          ]
        }
      ]
    },
    {
      "cell_type": "code",
      "source": [
        "#Unit164 url 문자열에서 ? 이후 부분인 쿼리 문자열을 추출하는 방법 --> 문자열 객체의 split() 메소드 사용\n",
        "#query 문자열 url 에서 ? 기호 이후에 나오는 문자열이다. 이 부분은 변수 = 값 쌍이 &로 구분되어 나옴\n",
        "\n",
        "\n",
        "url='https://www.google.com/search?q=ImportError%3A%20cannot%20import%20name%20%27remove%27%20from%20%27posixpath%27%20(%2Fusr%2Flib%2Fpython3.7%2Fposixpath.py)+site:stackoverflow.com'\n",
        "\n",
        "tmp=url.split('?') #tmp는 url을 query ? 로 구분한 문자열이 요소인 리스트이다\n",
        "queries=tmp[1].split('&') #temp[1]은 쿼리 ? 다음의 문자열이다. ##도데체 문자열 범위가 뭐냐? 철자냐, 단어냐, 아니면 전체 다냐???\n",
        "for query in queries: \n",
        "  print(query)"
      ],
      "metadata": {
        "colab": {
          "base_uri": "https://localhost:8080/"
        },
        "id": "hJRklWBTLsOY",
        "outputId": "51809bc2-97f6-4793-f57c-f2309ed49534"
      },
      "execution_count": null,
      "outputs": [
        {
          "output_type": "stream",
          "name": "stdout",
          "text": [
            "q=ImportError%3A%20cannot%20import%20name%20%27remove%27%20from%20%27posixpath%27%20(%2Fusr%2Flib%2Fpython3.7%2Fposixpath.py)+site:stackoverflow.com\n"
          ]
        }
      ]
    },
    {
      "cell_type": "code",
      "source": [
        "#Unit165 파이썬 리스트의 특성을 이용하여 스택을 구현하는 방법 --> 스택은 데이터를 임시 저장하는 공간이며, 스택은 나중에 지정된 것이 먼저 추출되는 형식으로 동작한다.\n",
        "## 왕 모르겠다!\n",
        "\n",
        "mystack = []\n",
        "\n",
        "def putdata(data):\n",
        "  global mystack\n",
        "  mystack.append(data)\n",
        "\n",
        "def popdata():\n",
        "  global mystack\n",
        "  if len(mystack)==0:\n",
        "    return None\n",
        "  return mystack.pop()\n",
        "\n",
        "putdata('데이터1')\n",
        "putdata([3,4,5,6])\n",
        "putdata(12345)\n",
        "\n",
        "while ret!=None:\n",
        "  print('<스택 상태에서 데이터 추출>:',end=''); print(ret)\n",
        "  print('<스택상태>:',end=''); print(mystack)\n",
        "  ret=popdata()\n"
      ],
      "metadata": {
        "colab": {
          "base_uri": "https://localhost:8080/"
        },
        "id": "h9qLiiXwSWLK",
        "outputId": "888dfa3c-5c6f-49cc-a261-89a59e1e0da8"
      },
      "execution_count": null,
      "outputs": [
        {
          "output_type": "stream",
          "name": "stdout",
          "text": [
            "<스택 상태에서 데이터 추출>:토끼 토끼야 어디를 가느냐산\n",
            "<스택상태>:['데이터1', [3, 4, 5, 6], 12345]\n",
            "<스택 상태에서 데이터 추출>:12345\n",
            "<스택상태>:['데이터1', [3, 4, 5, 6]]\n",
            "<스택 상태에서 데이터 추출>:[3, 4, 5, 6]\n",
            "<스택상태>:['데이터1']\n",
            "<스택 상태에서 데이터 추출>:데이터1\n",
            "<스택상태>:[]\n"
          ]
        }
      ]
    },
    {
      "cell_type": "code",
      "source": [
        "#Unit166 문장에 나타나는 문자 빈도수 계산하는 방법 배우기 --> Dictionary 자료 이용\n",
        "## 새로 읽으며 익히기\n",
        "\n",
        "def getTextFreq(filename): #함수는 파일이름을 인자로 받아 이 파일에 있는 내용에서 각 문자들이 나타나는 빈도수를 문자별로 계산하여 그 결과를 사전으로 리턴한다.\n",
        "  with open(filename, 'r') as f: #filename을 텍스트 읽기 모드로 열고 \n",
        "    text =f.read() #내용을 읽고 텍스트로 둔다.\n",
        "    fa={} #빈사전{}을 fa 로 둔다 --> fa 는 문자: 빈도수가 요소인 사전으로 구성될 것이다 \n",
        "    for c in text: #텍스트에 모든 문자에 대하여 -->아래 4 줄 코드를 적용 후 --> for 제어문이 모두 반복되면 사전 fa에는 text에 나타난 모든 문자에 대해 각 문자별 빈도수가 저장되어 있는 사전으로 구성된다.  \n",
        "      if c in fa: #문자를 하나 추출하여 그 문자가 fa 의 키로 존재하면 \n",
        "        fa[c]+=1 #해당 값(윗줄에 추출한 문자 지칭함)을 1 증가해 준다.\n",
        "      else: #text로 부터 추출한 문자가 사전 fa 의 키로 존재하지 않으면 \n",
        "        fa[c]=1 #새로운 요소 c:1을 사전 fa 에 요소로 추가한다.\n",
        "  return fa\n",
        "\n",
        "  ret=getTextFreq('stockcode.txt') #'stockcode.txt'파일을 인자로 하여 getTextFreq()함수를 호출한 결과를 ret으로 둔다.\n",
        "  ret=sorted(ret.items(), key=lambda x:x[1], reverse=True) #ret를 내림차순으로 정렬하여 ret 에 재지정한다. \n",
        "  for c, freq in ret: \n",
        "    if c=='\\n': #ret 는 문자-빈도수가 하나의 요소인 리스트 형식이므로, 문자와 빈도수를 ret으로부터 하나씩 추출하여 화면에 줄바꾸어 주면서 출력한다.\n",
        "      continue\n",
        "    print('[%c] -> [%d]회 나타남' %(c, freq)) #문자-빈도수가 하나의 요소인 리스트 형식\n"
      ],
      "metadata": {
        "id": "w9Ejn0EVTPZW"
      },
      "execution_count": null,
      "outputs": []
    },
    {
      "cell_type": "code",
      "source": [
        "#Unit167 텍스트 파일에 공백으로 구분돈 단어의 개수를 구하기 --> 문자열 객체의 split()를 이용한다\n",
        "\n",
        "with open('mydata.txt', 'r') as f:\n",
        "  data=f.read() #파일의 내용을 모두 데이터로 둔다.\n",
        "  tmp=data.split() #데이터를 공백으로 분리한 결과를 tmp 로 둔다. \n",
        "  print('단어수: [%d]' %len(tmp))"
      ],
      "metadata": {
        "colab": {
          "base_uri": "https://localhost:8080/"
        },
        "id": "gXm6vAg1o4h-",
        "outputId": "692b8e43-e09a-4651-eb8e-cb1410879881"
      },
      "execution_count": null,
      "outputs": [
        {
          "output_type": "stream",
          "name": "stdout",
          "text": [
            "단어수: [17]\n"
          ]
        }
      ]
    },
    {
      "cell_type": "markdown",
      "source": [
        "# New Section"
      ],
      "metadata": {
        "id": "euyOo9K6pGUD"
      }
    },
    {
      "cell_type": "code",
      "source": [
        "#168 텍스트 파일에서 특정단어의 개수 구하는 방법 배우기 --> 문자열 객체의 find()를 이용하기\n",
        "### 파이썬 200제에서 annotation 붙이기. 인풋만 구동하고 이후 에러\n",
        "\n",
        "def countWord(fildname, word):\n",
        "  with open(filename, 'r') as f:\n",
        "    text=f.read()\n",
        "    text=text.lower()\n",
        "    pos=text.find(word)\n",
        "    count=0\n",
        "    while pos!=-1:\n",
        "      count+=1\n",
        "      pos=text.find(word,pos+1)\n",
        "  return count\n",
        "\n",
        "word=input('mydata.txt에서 개수를 구할 단어를 입력하세요:')\n",
        "word=word.lower()\n",
        "ret=countWord('mydata.txt', word)\n",
        "print('[%s]의 개수: %d' %(word, ret))"
      ],
      "metadata": {
        "colab": {
          "base_uri": "https://localhost:8080/",
          "height": 351
        },
        "id": "GRuqUDmcrAg6",
        "outputId": "0a0b0c9a-70dd-4bca-e581-f0504831ad13"
      },
      "execution_count": null,
      "outputs": [
        {
          "name": "stdout",
          "output_type": "stream",
          "text": [
            "mydata.txt에서 개수를 구할 단어를 입력하세요:산토끼\n"
          ]
        },
        {
          "output_type": "error",
          "ename": "NameError",
          "evalue": "ignored",
          "traceback": [
            "\u001b[0;31m---------------------------------------------------------------------------\u001b[0m",
            "\u001b[0;31mNameError\u001b[0m                                 Traceback (most recent call last)",
            "\u001b[0;32m<ipython-input-41-9328eb0b2e92>\u001b[0m in \u001b[0;36m<module>\u001b[0;34m()\u001b[0m\n\u001b[1;32m     15\u001b[0m \u001b[0mword\u001b[0m\u001b[0;34m=\u001b[0m\u001b[0minput\u001b[0m\u001b[0;34m(\u001b[0m\u001b[0;34m'mydata.txt에서 개수를 구할 단어를 입력하세요:'\u001b[0m\u001b[0;34m)\u001b[0m\u001b[0;34m\u001b[0m\u001b[0;34m\u001b[0m\u001b[0m\n\u001b[1;32m     16\u001b[0m \u001b[0mword\u001b[0m\u001b[0;34m=\u001b[0m\u001b[0mword\u001b[0m\u001b[0;34m.\u001b[0m\u001b[0mlower\u001b[0m\u001b[0;34m(\u001b[0m\u001b[0;34m)\u001b[0m\u001b[0;34m\u001b[0m\u001b[0;34m\u001b[0m\u001b[0m\n\u001b[0;32m---> 17\u001b[0;31m \u001b[0mret\u001b[0m\u001b[0;34m=\u001b[0m\u001b[0mcountWord\u001b[0m\u001b[0;34m(\u001b[0m\u001b[0;34m'mydata.txt'\u001b[0m\u001b[0;34m,\u001b[0m \u001b[0mword\u001b[0m\u001b[0;34m)\u001b[0m\u001b[0;34m\u001b[0m\u001b[0;34m\u001b[0m\u001b[0m\n\u001b[0m\u001b[1;32m     18\u001b[0m \u001b[0mprint\u001b[0m\u001b[0;34m(\u001b[0m\u001b[0;34m'[%s]의 개수: %d'\u001b[0m \u001b[0;34m%\u001b[0m\u001b[0;34m(\u001b[0m\u001b[0mword\u001b[0m\u001b[0;34m,\u001b[0m \u001b[0mret\u001b[0m\u001b[0;34m)\u001b[0m\u001b[0;34m)\u001b[0m\u001b[0;34m\u001b[0m\u001b[0;34m\u001b[0m\u001b[0m\n",
            "\u001b[0;32m<ipython-input-41-9328eb0b2e92>\u001b[0m in \u001b[0;36mcountWord\u001b[0;34m(fildname, word)\u001b[0m\n\u001b[1;32m      3\u001b[0m \u001b[0;34m\u001b[0m\u001b[0m\n\u001b[1;32m      4\u001b[0m \u001b[0;32mdef\u001b[0m \u001b[0mcountWord\u001b[0m\u001b[0;34m(\u001b[0m\u001b[0mfildname\u001b[0m\u001b[0;34m,\u001b[0m \u001b[0mword\u001b[0m\u001b[0;34m)\u001b[0m\u001b[0;34m:\u001b[0m\u001b[0;34m\u001b[0m\u001b[0;34m\u001b[0m\u001b[0m\n\u001b[0;32m----> 5\u001b[0;31m   \u001b[0;32mwith\u001b[0m \u001b[0mopen\u001b[0m\u001b[0;34m(\u001b[0m\u001b[0mfilename\u001b[0m\u001b[0;34m,\u001b[0m \u001b[0;34m'r'\u001b[0m\u001b[0;34m)\u001b[0m \u001b[0;32mas\u001b[0m \u001b[0mf\u001b[0m\u001b[0;34m:\u001b[0m\u001b[0;34m\u001b[0m\u001b[0;34m\u001b[0m\u001b[0m\n\u001b[0m\u001b[1;32m      6\u001b[0m     \u001b[0mtext\u001b[0m\u001b[0;34m=\u001b[0m\u001b[0mf\u001b[0m\u001b[0;34m.\u001b[0m\u001b[0mread\u001b[0m\u001b[0;34m(\u001b[0m\u001b[0;34m)\u001b[0m\u001b[0;34m\u001b[0m\u001b[0;34m\u001b[0m\u001b[0m\n\u001b[1;32m      7\u001b[0m     \u001b[0mtext\u001b[0m\u001b[0;34m=\u001b[0m\u001b[0mtext\u001b[0m\u001b[0;34m.\u001b[0m\u001b[0mlower\u001b[0m\u001b[0;34m(\u001b[0m\u001b[0;34m)\u001b[0m\u001b[0;34m\u001b[0m\u001b[0;34m\u001b[0m\u001b[0m\n",
            "\u001b[0;31mNameError\u001b[0m: name 'filename' is not defined"
          ]
        }
      ]
    },
    {
      "cell_type": "code",
      "source": [
        "#Unit169 text 파일에서 특정 문자열 교체하기 --> 문자열 객체의 replace() 메소드 이용\n",
        "### 파이썬 200제에서 annotation 붙이기. 작동하였음!\n",
        "\n",
        "t1=input('찾을 단어를 입력하세요:')\n",
        "t2=input('변경할 단어를 입력하세요:')\n",
        "\n",
        "with open('mydata.txt','r') as f:\n",
        "  with open('mydata_copy.txt', 'w') as h:\n",
        "    text=f.read()\n",
        "    text=text.replace(t1, t2)\n",
        "    h.write(text)\n",
        "\n",
        "print('[%s]를 [%s]로 변경하였습니다' %(t1, t2) )\n"
      ],
      "metadata": {
        "colab": {
          "base_uri": "https://localhost:8080/"
        },
        "id": "pPf4-LwguTVO",
        "outputId": "6c5f669b-8caa-4982-d9c8-193eccf61b67"
      },
      "execution_count": null,
      "outputs": [
        {
          "output_type": "stream",
          "name": "stdout",
          "text": [
            "찾을 단어를 입력하세요:무궁화\n",
            "변경할 단어를 입력하세요:장미\n",
            "[무궁화]를 [장미]로 변경하였습니다\n"
          ]
        }
      ]
    },
    {
      "cell_type": "code",
      "source": [
        "#Unit170 url을 이용해 인터넷에 접속하여 해당 웹페이지의 html을 화면에 출력하는 방법을 배웁니다. --> 모듈 urllib.request에서 urlopen() 사용 \n",
        "\n",
        "from urllib.request import urlopen\n",
        "url='https://www.python.org'\n",
        "with urlopen(url) as f:\n",
        "  doc=f.read().decode() #url로부터 해당 리소스 데이터를 바이트 스트림으로 읽어온다. html 소스 코드는 텍스트로 되어 있으므로 f.read().decod()로 바이트 스트림 텍스트 (유니코드 문자열)로 변환하고 doc으로 둔다.\n",
        "  print(doc)\n"
      ],
      "metadata": {
        "colab": {
          "base_uri": "https://localhost:8080/"
        },
        "id": "vlc_cSTBvlLS",
        "outputId": "74a84776-9bf4-4cdd-cc13-0dcb9a49851e"
      },
      "execution_count": null,
      "outputs": [
        {
          "output_type": "stream",
          "name": "stdout",
          "text": [
            "<!doctype html>\n",
            "<!--[if lt IE 7]>   <html class=\"no-js ie6 lt-ie7 lt-ie8 lt-ie9\">   <![endif]-->\n",
            "<!--[if IE 7]>      <html class=\"no-js ie7 lt-ie8 lt-ie9\">          <![endif]-->\n",
            "<!--[if IE 8]>      <html class=\"no-js ie8 lt-ie9\">                 <![endif]-->\n",
            "<!--[if gt IE 8]><!--><html class=\"no-js\" lang=\"en\" dir=\"ltr\">  <!--<![endif]-->\n",
            "\n",
            "<head>\n",
            "    <meta charset=\"utf-8\">\n",
            "    <meta http-equiv=\"X-UA-Compatible\" content=\"IE=edge\">\n",
            "\n",
            "    <link rel=\"prefetch\" href=\"//ajax.googleapis.com/ajax/libs/jquery/1.8.2/jquery.min.js\">\n",
            "    <link rel=\"prefetch\" href=\"//ajax.googleapis.com/ajax/libs/jqueryui/1.12.1/jquery-ui.min.js\">\n",
            "\n",
            "    <meta name=\"application-name\" content=\"Python.org\">\n",
            "    <meta name=\"msapplication-tooltip\" content=\"The official home of the Python Programming Language\">\n",
            "    <meta name=\"apple-mobile-web-app-title\" content=\"Python.org\">\n",
            "    <meta name=\"apple-mobile-web-app-capable\" content=\"yes\">\n",
            "    <meta name=\"apple-mobile-web-app-status-bar-style\" content=\"black\">\n",
            "\n",
            "    <meta name=\"viewport\" content=\"width=device-width, initial-scale=1.0\">\n",
            "    <meta name=\"HandheldFriendly\" content=\"True\">\n",
            "    <meta name=\"format-detection\" content=\"telephone=no\">\n",
            "    <meta http-equiv=\"cleartype\" content=\"on\">\n",
            "    <meta http-equiv=\"imagetoolbar\" content=\"false\">\n",
            "\n",
            "    <script async\n",
            "            src=\"https://media.ethicalads.io/media/client/v1.4.0/ethicalads.min.js\"\n",
            "            integrity=\"sha256-U3hKDidudIaxBDEzwGJApJgPEf2mWk6cfMWghrAa6i0= sha384-UcmsCqcNRSLW/dV3Lo1oCi2/VaurXbib6p4HyUEOeIa/4OpsrnucrugAefzVZJfI sha512-q4t1L4xEjGV2R4hzqCa41P8jrgFUS8xTb8rdNv4FGvw7FpydVj/kkxBJHOiaoxHa8olCcx1Slk9K+3sNbsM4ug==\"\n",
            "            crossorigin=\"anonymous\"\n",
            "    ></script>\n",
            "    <script src=\"/static/js/libs/modernizr.js\"></script>\n",
            "\n",
            "    <link href=\"/static/stylesheets/style.a193d3b62d35.css\" rel=\"stylesheet\" type=\"text/css\" media=\"all\" title=\"default\" />\n",
            "    <link href=\"/static/stylesheets/mq.f9187444a4a1.css\" rel=\"stylesheet\" type=\"text/css\" media=\"not print, braille, embossed, speech, tty\" />\n",
            "    \n",
            "\n",
            "    <!--[if (lte IE 8)&(!IEMobile)]>\n",
            "    <link href=\"/static/stylesheets/no-mq.bf0c425cdb73.css\" rel=\"stylesheet\" type=\"text/css\" media=\"screen\" />\n",
            "    \n",
            "    \n",
            "    <![endif]-->\n",
            "    <link rel=\"stylesheet\" href=\"//ajax.googleapis.com/ajax/libs/jqueryui/1.12.1/themes/smoothness/jquery-ui.css\">\n",
            "\n",
            "    \n",
            "    <link rel=\"icon\" type=\"image/x-icon\" href=\"/static/favicon.ico\">\n",
            "    <link rel=\"apple-touch-icon-precomposed\" sizes=\"144x144\" href=\"/static/apple-touch-icon-144x144-precomposed.png\">\n",
            "    <link rel=\"apple-touch-icon-precomposed\" sizes=\"114x114\" href=\"/static/apple-touch-icon-114x114-precomposed.png\">\n",
            "    <link rel=\"apple-touch-icon-precomposed\" sizes=\"72x72\" href=\"/static/apple-touch-icon-72x72-precomposed.png\">\n",
            "    <link rel=\"apple-touch-icon-precomposed\" href=\"/static/apple-touch-icon-precomposed.png\">\n",
            "    <link rel=\"apple-touch-icon\" href=\"/static/apple-touch-icon-precomposed.png\">\n",
            "\n",
            "    \n",
            "    <meta name=\"msapplication-TileImage\" content=\"/static/metro-icon-144x144-precomposed.png\"><!-- white shape -->\n",
            "    <meta name=\"msapplication-TileColor\" content=\"#3673a5\"><!-- python blue -->\n",
            "    <meta name=\"msapplication-navbutton-color\" content=\"#3673a5\">\n",
            "\n",
            "    <title>Welcome to Python.org</title>\n",
            "\n",
            "    <meta name=\"description\" content=\"The official home of the Python Programming Language\">\n",
            "    <meta name=\"keywords\" content=\"Python programming language object oriented web free open source software license documentation download community\">\n",
            "\n",
            "    \n",
            "    <meta property=\"og:type\" content=\"website\">\n",
            "    <meta property=\"og:site_name\" content=\"Python.org\">\n",
            "    <meta property=\"og:title\" content=\"Welcome to Python.org\">\n",
            "    <meta property=\"og:description\" content=\"The official home of the Python Programming Language\">\n",
            "    \n",
            "    <meta property=\"og:image\" content=\"https://www.python.org/static/opengraph-icon-200x200.png\">\n",
            "    <meta property=\"og:image:secure_url\" content=\"https://www.python.org/static/opengraph-icon-200x200.png\">\n",
            "    \n",
            "    <meta property=\"og:url\" content=\"https://www.python.org/\">\n",
            "\n",
            "    <link rel=\"author\" href=\"/static/humans.txt\">\n",
            "\n",
            "    <link rel=\"alternate\" type=\"application/rss+xml\" title=\"Python Enhancement Proposals\"\n",
            "          href=\"https://www.python.org/dev/peps/peps.rss/\">\n",
            "    <link rel=\"alternate\" type=\"application/rss+xml\" title=\"Python Job Opportunities\"\n",
            "          href=\"https://www.python.org/jobs/feed/rss/\">\n",
            "    <link rel=\"alternate\" type=\"application/rss+xml\" title=\"Python Software Foundation News\"\n",
            "          href=\"https://feeds.feedburner.com/PythonSoftwareFoundationNews\">\n",
            "    <link rel=\"alternate\" type=\"application/rss+xml\" title=\"Python Insider\"\n",
            "          href=\"https://feeds.feedburner.com/PythonInsider\">\n",
            "\n",
            "    \n",
            "\n",
            "    \n",
            "    <script type=\"application/ld+json\">\n",
            "     {\n",
            "       \"@context\": \"https://schema.org\",\n",
            "       \"@type\": \"WebSite\",\n",
            "       \"url\": \"https://www.python.org/\",\n",
            "       \"potentialAction\": {\n",
            "         \"@type\": \"SearchAction\",\n",
            "         \"target\": \"https://www.python.org/search/?q={search_term_string}\",\n",
            "         \"query-input\": \"required name=search_term_string\"\n",
            "       }\n",
            "     }\n",
            "    </script>\n",
            "\n",
            "    \n",
            "    <script type=\"text/javascript\">\n",
            "    var _gaq = _gaq || [];\n",
            "    _gaq.push(['_setAccount', 'UA-39055973-1']);\n",
            "    _gaq.push(['_trackPageview']);\n",
            "\n",
            "    (function() {\n",
            "        var ga = document.createElement('script'); ga.type = 'text/javascript'; ga.async = true;\n",
            "        ga.src = ('https:' == document.location.protocol ? 'https://ssl' : 'http://www') + '.google-analytics.com/ga.js';\n",
            "        var s = document.getElementsByTagName('script')[0]; s.parentNode.insertBefore(ga, s);\n",
            "    })();\n",
            "    </script>\n",
            "    \n",
            "</head>\n",
            "\n",
            "<body class=\"python home\" id=\"homepage\">\n",
            "\n",
            "    <div id=\"touchnav-wrapper\">\n",
            "\n",
            "        <div id=\"nojs\" class=\"do-not-print\">\n",
            "            <p><strong>Notice:</strong> While JavaScript is not essential for this website, your interaction with the content will be limited. Please turn JavaScript on for the full experience. </p>\n",
            "        </div>\n",
            "\n",
            "        <!--[if lte IE 8]>\n",
            "        <div id=\"oldie-warning\" class=\"do-not-print\">\n",
            "            <p>\n",
            "                <strong>Notice:</strong> Your browser is <em>ancient</em>. Please\n",
            "                <a href=\"http://browsehappy.com/\">upgrade to a different browser</a> to experience a better web.\n",
            "            </p>\n",
            "        </div>\n",
            "        <![endif]-->\n",
            "\n",
            "        <!-- Sister Site Links -->\n",
            "        <div id=\"top\" class=\"top-bar do-not-print\">\n",
            "\n",
            "            <nav class=\"meta-navigation container\" role=\"navigation\">\n",
            "\n",
            "                \n",
            "                <div class=\"skip-link screen-reader-text\">\n",
            "                    <a href=\"#content\" title=\"Skip to content\">Skip to content</a>\n",
            "                </div>\n",
            "\n",
            "                \n",
            "                <a id=\"close-python-network\" class=\"jump-link\" href=\"#python-network\" aria-hidden=\"true\">\n",
            "                    <span aria-hidden=\"true\" class=\"icon-arrow-down\"><span>&#9660;</span></span> Close\n",
            "                </a>\n",
            "\n",
            "                \n",
            "\n",
            "<ul class=\"menu\" role=\"tree\">\n",
            "    \n",
            "    <li class=\"python-meta current_item selectedcurrent_branch selected\">\n",
            "        <a href=\"/\" title=\"The Python Programming Language\" class=\"current_item selectedcurrent_branch selected\">Python</a>\n",
            "    </li>\n",
            "    \n",
            "    <li class=\"psf-meta \">\n",
            "        <a href=\"/psf-landing/\" title=\"The Python Software Foundation\" >PSF</a>\n",
            "    </li>\n",
            "    \n",
            "    <li class=\"docs-meta \">\n",
            "        <a href=\"https://docs.python.org\" title=\"Python Documentation\" >Docs</a>\n",
            "    </li>\n",
            "    \n",
            "    <li class=\"pypi-meta \">\n",
            "        <a href=\"https://pypi.org/\" title=\"Python Package Index\" >PyPI</a>\n",
            "    </li>\n",
            "    \n",
            "    <li class=\"jobs-meta \">\n",
            "        <a href=\"/jobs/\" title=\"Python Job Board\" >Jobs</a>\n",
            "    </li>\n",
            "    \n",
            "    <li class=\"shop-meta \">\n",
            "        <a href=\"/community-landing/\"  >Community</a>\n",
            "    </li>\n",
            "    \n",
            "</ul>\n",
            "\n",
            "\n",
            "                <a id=\"python-network\" class=\"jump-link\" href=\"#top\" aria-hidden=\"true\">\n",
            "                    <span aria-hidden=\"true\" class=\"icon-arrow-up\"><span>&#9650;</span></span> The Python Network\n",
            "                </a>\n",
            "\n",
            "            </nav>\n",
            "\n",
            "        </div>\n",
            "\n",
            "        <!-- Header elements -->\n",
            "        <header class=\"main-header\" role=\"banner\">\n",
            "            <div class=\"container\">\n",
            "\n",
            "                <h1 class=\"site-headline\">\n",
            "                    <a href=\"/\"><img class=\"python-logo\" src=\"/static/img/python-logo.png\" alt=\"python&trade;\"></a>\n",
            "                </h1>\n",
            "\n",
            "                <div class=\"options-bar-container do-not-print\">\n",
            "                    <a href=\"https://psfmember.org/civicrm/contribute/transact?reset=1&id=2\" class=\"donate-button\">Donate</a>\n",
            "                    <div class=\"options-bar\">\n",
            "                        \n",
            "                        <a id=\"site-map-link\" class=\"jump-to-menu\" href=\"#site-map\"><span class=\"menu-icon\">&equiv;</span> Menu</a><form class=\"search-the-site\" action=\"/search/\" method=\"get\">\n",
            "                            <fieldset title=\"Search Python.org\">\n",
            "\n",
            "                                <span aria-hidden=\"true\" class=\"icon-search\"></span>\n",
            "\n",
            "                                <label class=\"screen-reader-text\" for=\"id-search-field\">Search This Site</label>\n",
            "                                <input id=\"id-search-field\" name=\"q\" type=\"search\" role=\"textbox\" class=\"search-field\" placeholder=\"Search\" value=\"\" tabindex=\"1\">\n",
            "\n",
            "                                <button type=\"submit\" name=\"submit\" id=\"submit\" class=\"search-button\" title=\"Submit this Search\" tabindex=\"3\">\n",
            "                                    GO\n",
            "                                </button>\n",
            "\n",
            "                                \n",
            "                                <!--[if IE]><input type=\"text\" style=\"display: none;\" disabled=\"disabled\" size=\"1\" tabindex=\"4\"><![endif]-->\n",
            "\n",
            "                            </fieldset>\n",
            "                        </form><span class=\"breaker\"></span><div class=\"adjust-font-size\" aria-hidden=\"true\">\n",
            "                            <ul class=\"navigation menu\" aria-label=\"Adjust Text Size on Page\">\n",
            "                                <li class=\"tier-1 last\" aria-haspopup=\"true\">\n",
            "                                    <a href=\"#\" class=\"action-trigger\"><strong><small>A</small> A</strong></a>\n",
            "                                    <ul class=\"subnav menu\">\n",
            "                                        <li class=\"tier-2 element-1\" role=\"treeitem\"><a class=\"text-shrink\" title=\"Make Text Smaller\" href=\"javascript:;\">Smaller</a></li>\n",
            "                                        <li class=\"tier-2 element-2\" role=\"treeitem\"><a class=\"text-grow\" title=\"Make Text Larger\" href=\"javascript:;\">Larger</a></li>\n",
            "                                        <li class=\"tier-2 element-3\" role=\"treeitem\"><a class=\"text-reset\" title=\"Reset any font size changes I have made\" href=\"javascript:;\">Reset</a></li>\n",
            "                                    </ul>\n",
            "                                </li>\n",
            "                            </ul>\n",
            "                        </div><div class=\"winkwink-nudgenudge\">\n",
            "                            <ul class=\"navigation menu\" aria-label=\"Social Media Navigation\">\n",
            "                                <li class=\"tier-1 last\" aria-haspopup=\"true\">\n",
            "                                    <a href=\"#\" class=\"action-trigger\">Socialize</a>\n",
            "                                    <ul class=\"subnav menu\">\n",
            "                                        <li class=\"tier-2 element-1\" role=\"treeitem\"><a href=\"https://www.facebook.com/pythonlang?fref=ts\"><span aria-hidden=\"true\" class=\"icon-facebook\"></span>Facebook</a></li>\n",
            "                                        <li class=\"tier-2 element-2\" role=\"treeitem\"><a href=\"https://twitter.com/ThePSF\"><span aria-hidden=\"true\" class=\"icon-twitter\"></span>Twitter</a></li>\n",
            "                                        <li class=\"tier-2 element-3\" role=\"treeitem\"><a href=\"/community/irc/\"><span aria-hidden=\"true\" class=\"icon-freenode\"></span>Chat on IRC</a></li>\n",
            "                                    </ul>\n",
            "                                </li>\n",
            "                            </ul>\n",
            "                        </div>\n",
            "                        <span data-html-include=\"/authenticated\"></span>\n",
            "                    </div><!-- end options-bar -->\n",
            "                </div>\n",
            "\n",
            "                <nav id=\"mainnav\" class=\"python-navigation main-navigation do-not-print\" role=\"navigation\">\n",
            "                    \n",
            "                        \n",
            "<ul class=\"navigation menu\" role=\"menubar\" aria-label=\"Main Navigation\">\n",
            "  \n",
            "    \n",
            "    \n",
            "    <li id=\"about\" class=\"tier-1 element-1  \" aria-haspopup=\"true\">\n",
            "        <a href=\"/about/\" title=\"\" class=\"\">About</a>\n",
            "        \n",
            "            \n",
            "\n",
            "<ul class=\"subnav menu\" role=\"menu\" aria-hidden=\"true\">\n",
            "    \n",
            "        <li class=\"tier-2 element-1\" role=\"treeitem\"><a href=\"/about/apps/\" title=\"\">Applications</a></li>\n",
            "    \n",
            "        <li class=\"tier-2 element-2\" role=\"treeitem\"><a href=\"/about/quotes/\" title=\"\">Quotes</a></li>\n",
            "    \n",
            "        <li class=\"tier-2 element-3\" role=\"treeitem\"><a href=\"/about/gettingstarted/\" title=\"\">Getting Started</a></li>\n",
            "    \n",
            "        <li class=\"tier-2 element-4\" role=\"treeitem\"><a href=\"/about/help/\" title=\"\">Help</a></li>\n",
            "    \n",
            "        <li class=\"tier-2 element-5\" role=\"treeitem\"><a href=\"http://brochure.getpython.info/\" title=\"\">Python Brochure</a></li>\n",
            "    \n",
            "</ul>\n",
            "\n",
            "        \n",
            "    </li>\n",
            "    \n",
            "    \n",
            "    \n",
            "    <li id=\"downloads\" class=\"tier-1 element-2  \" aria-haspopup=\"true\">\n",
            "        <a href=\"/downloads/\" title=\"\" class=\"\">Downloads</a>\n",
            "        \n",
            "            \n",
            "\n",
            "<ul class=\"subnav menu\" role=\"menu\" aria-hidden=\"true\">\n",
            "    \n",
            "        <li class=\"tier-2 element-1\" role=\"treeitem\"><a href=\"/downloads/\" title=\"\">All releases</a></li>\n",
            "    \n",
            "        <li class=\"tier-2 element-2\" role=\"treeitem\"><a href=\"/downloads/source/\" title=\"\">Source code</a></li>\n",
            "    \n",
            "        <li class=\"tier-2 element-3\" role=\"treeitem\"><a href=\"/downloads/windows/\" title=\"\">Windows</a></li>\n",
            "    \n",
            "        <li class=\"tier-2 element-4\" role=\"treeitem\"><a href=\"/downloads/macos/\" title=\"\">macOS</a></li>\n",
            "    \n",
            "        <li class=\"tier-2 element-5\" role=\"treeitem\"><a href=\"/download/other/\" title=\"\">Other Platforms</a></li>\n",
            "    \n",
            "        <li class=\"tier-2 element-6\" role=\"treeitem\"><a href=\"https://docs.python.org/3/license.html\" title=\"\">License</a></li>\n",
            "    \n",
            "        <li class=\"tier-2 element-7\" role=\"treeitem\"><a href=\"/download/alternatives\" title=\"\">Alternative Implementations</a></li>\n",
            "    \n",
            "</ul>\n",
            "\n",
            "        \n",
            "    </li>\n",
            "    \n",
            "    \n",
            "    \n",
            "    <li id=\"documentation\" class=\"tier-1 element-3  \" aria-haspopup=\"true\">\n",
            "        <a href=\"/doc/\" title=\"\" class=\"\">Documentation</a>\n",
            "        \n",
            "            \n",
            "\n",
            "<ul class=\"subnav menu\" role=\"menu\" aria-hidden=\"true\">\n",
            "    \n",
            "        <li class=\"tier-2 element-1\" role=\"treeitem\"><a href=\"/doc/\" title=\"\">Docs</a></li>\n",
            "    \n",
            "        <li class=\"tier-2 element-2\" role=\"treeitem\"><a href=\"/doc/av\" title=\"\">Audio/Visual Talks</a></li>\n",
            "    \n",
            "        <li class=\"tier-2 element-3\" role=\"treeitem\"><a href=\"https://wiki.python.org/moin/BeginnersGuide\" title=\"\">Beginner&#39;s Guide</a></li>\n",
            "    \n",
            "        <li class=\"tier-2 element-4\" role=\"treeitem\"><a href=\"https://devguide.python.org/\" title=\"\">Developer&#39;s Guide</a></li>\n",
            "    \n",
            "        <li class=\"tier-2 element-5\" role=\"treeitem\"><a href=\"https://docs.python.org/faq/\" title=\"\">FAQ</a></li>\n",
            "    \n",
            "        <li class=\"tier-2 element-6\" role=\"treeitem\"><a href=\"http://wiki.python.org/moin/Languages\" title=\"\">Non-English Docs</a></li>\n",
            "    \n",
            "        <li class=\"tier-2 element-7\" role=\"treeitem\"><a href=\"http://python.org/dev/peps/\" title=\"\">PEP Index</a></li>\n",
            "    \n",
            "        <li class=\"tier-2 element-8\" role=\"treeitem\"><a href=\"https://wiki.python.org/moin/PythonBooks\" title=\"\">Python Books</a></li>\n",
            "    \n",
            "        <li class=\"tier-2 element-9\" role=\"treeitem\"><a href=\"/doc/essays/\" title=\"\">Python Essays</a></li>\n",
            "    \n",
            "</ul>\n",
            "\n",
            "        \n",
            "    </li>\n",
            "    \n",
            "    \n",
            "    \n",
            "    <li id=\"community\" class=\"tier-1 element-4  \" aria-haspopup=\"true\">\n",
            "        <a href=\"/community/\" title=\"\" class=\"\">Community</a>\n",
            "        \n",
            "            \n",
            "\n",
            "<ul class=\"subnav menu\" role=\"menu\" aria-hidden=\"true\">\n",
            "    \n",
            "        <li class=\"tier-2 element-1\" role=\"treeitem\"><a href=\"/community/diversity/\" title=\"\">Diversity</a></li>\n",
            "    \n",
            "        <li class=\"tier-2 element-2\" role=\"treeitem\"><a href=\"/community/lists/\" title=\"\">Mailing Lists</a></li>\n",
            "    \n",
            "        <li class=\"tier-2 element-3\" role=\"treeitem\"><a href=\"/community/irc/\" title=\"\">IRC</a></li>\n",
            "    \n",
            "        <li class=\"tier-2 element-4\" role=\"treeitem\"><a href=\"/community/forums/\" title=\"\">Forums</a></li>\n",
            "    \n",
            "        <li class=\"tier-2 element-5\" role=\"treeitem\"><a href=\"/psf/annual-report/2021/\" title=\"\">PSF Annual Impact Report</a></li>\n",
            "    \n",
            "        <li class=\"tier-2 element-6\" role=\"treeitem\"><a href=\"/community/workshops/\" title=\"\">Python Conferences</a></li>\n",
            "    \n",
            "        <li class=\"tier-2 element-7\" role=\"treeitem\"><a href=\"/community/sigs/\" title=\"\">Special Interest Groups</a></li>\n",
            "    \n",
            "        <li class=\"tier-2 element-8\" role=\"treeitem\"><a href=\"/community/logos/\" title=\"\">Python Logo</a></li>\n",
            "    \n",
            "        <li class=\"tier-2 element-9\" role=\"treeitem\"><a href=\"https://wiki.python.org/moin/\" title=\"\">Python Wiki</a></li>\n",
            "    \n",
            "        <li class=\"tier-2 element-10\" role=\"treeitem\"><a href=\"/community/merchandise/\" title=\"\">Merchandise</a></li>\n",
            "    \n",
            "        <li class=\"tier-2 element-11\" role=\"treeitem\"><a href=\"/community/awards\" title=\"\">Community Awards</a></li>\n",
            "    \n",
            "        <li class=\"tier-2 element-12\" role=\"treeitem\"><a href=\"/psf/conduct/\" title=\"\">Code of Conduct</a></li>\n",
            "    \n",
            "        <li class=\"tier-2 element-13\" role=\"treeitem\"><a href=\"/psf/get-involved/\" title=\"\">Get Involved</a></li>\n",
            "    \n",
            "        <li class=\"tier-2 element-14\" role=\"treeitem\"><a href=\"/psf/community-stories/\" title=\"\">Shared Stories</a></li>\n",
            "    \n",
            "</ul>\n",
            "\n",
            "        \n",
            "    </li>\n",
            "    \n",
            "    \n",
            "    \n",
            "    <li id=\"success-stories\" class=\"tier-1 element-5  \" aria-haspopup=\"true\">\n",
            "        <a href=\"/success-stories/\" title=\"success-stories\" class=\"\">Success Stories</a>\n",
            "        \n",
            "            \n",
            "\n",
            "<ul class=\"subnav menu\" role=\"menu\" aria-hidden=\"true\">\n",
            "    \n",
            "        <li class=\"tier-2 element-1\" role=\"treeitem\"><a href=\"/success-stories/category/arts/\" title=\"\">Arts</a></li>\n",
            "    \n",
            "        <li class=\"tier-2 element-2\" role=\"treeitem\"><a href=\"/success-stories/category/business/\" title=\"\">Business</a></li>\n",
            "    \n",
            "        <li class=\"tier-2 element-3\" role=\"treeitem\"><a href=\"/success-stories/category/education/\" title=\"\">Education</a></li>\n",
            "    \n",
            "        <li class=\"tier-2 element-4\" role=\"treeitem\"><a href=\"/success-stories/category/engineering/\" title=\"\">Engineering</a></li>\n",
            "    \n",
            "        <li class=\"tier-2 element-5\" role=\"treeitem\"><a href=\"/success-stories/category/government/\" title=\"\">Government</a></li>\n",
            "    \n",
            "        <li class=\"tier-2 element-6\" role=\"treeitem\"><a href=\"/success-stories/category/scientific/\" title=\"\">Scientific</a></li>\n",
            "    \n",
            "        <li class=\"tier-2 element-7\" role=\"treeitem\"><a href=\"/success-stories/category/software-development/\" title=\"\">Software Development</a></li>\n",
            "    \n",
            "</ul>\n",
            "\n",
            "        \n",
            "    </li>\n",
            "    \n",
            "    \n",
            "    \n",
            "    <li id=\"news\" class=\"tier-1 element-6  \" aria-haspopup=\"true\">\n",
            "        <a href=\"/blogs/\" title=\"News from around the Python world\" class=\"\">News</a>\n",
            "        \n",
            "            \n",
            "\n",
            "<ul class=\"subnav menu\" role=\"menu\" aria-hidden=\"true\">\n",
            "    \n",
            "        <li class=\"tier-2 element-1\" role=\"treeitem\"><a href=\"/blogs/\" title=\"Python Insider Blog Posts\">Python News</a></li>\n",
            "    \n",
            "        <li class=\"tier-2 element-2\" role=\"treeitem\"><a href=\"/psf/newsletter/\" title=\"Python Software Foundation Newsletter\">PSF Newsletter</a></li>\n",
            "    \n",
            "        <li class=\"tier-2 element-3\" role=\"treeitem\"><a href=\"http://planetpython.org/\" title=\"Planet Python\">Community News</a></li>\n",
            "    \n",
            "        <li class=\"tier-2 element-4\" role=\"treeitem\"><a href=\"http://pyfound.blogspot.com/\" title=\"PSF Blog\">PSF News</a></li>\n",
            "    \n",
            "        <li class=\"tier-2 element-5\" role=\"treeitem\"><a href=\"http://pycon.blogspot.com/\" title=\"PyCon Blog\">PyCon News</a></li>\n",
            "    \n",
            "</ul>\n",
            "\n",
            "        \n",
            "    </li>\n",
            "    \n",
            "    \n",
            "    \n",
            "    <li id=\"events\" class=\"tier-1 element-7  \" aria-haspopup=\"true\">\n",
            "        <a href=\"/events/\" title=\"\" class=\"\">Events</a>\n",
            "        \n",
            "            \n",
            "\n",
            "<ul class=\"subnav menu\" role=\"menu\" aria-hidden=\"true\">\n",
            "    \n",
            "        <li class=\"tier-2 element-1\" role=\"treeitem\"><a href=\"/events/python-events/\" title=\"\">Python Events</a></li>\n",
            "    \n",
            "        <li class=\"tier-2 element-2\" role=\"treeitem\"><a href=\"/events/python-user-group/\" title=\"\">User Group Events</a></li>\n",
            "    \n",
            "        <li class=\"tier-2 element-3\" role=\"treeitem\"><a href=\"/events/python-events/past/\" title=\"\">Python Events Archive</a></li>\n",
            "    \n",
            "        <li class=\"tier-2 element-4\" role=\"treeitem\"><a href=\"/events/python-user-group/past/\" title=\"\">User Group Events Archive</a></li>\n",
            "    \n",
            "        <li class=\"tier-2 element-5\" role=\"treeitem\"><a href=\"https://wiki.python.org/moin/PythonEventsCalendar#Submitting_an_Event\" title=\"\">Submit an Event</a></li>\n",
            "    \n",
            "</ul>\n",
            "\n",
            "        \n",
            "    </li>\n",
            "    \n",
            "    \n",
            "    \n",
            "    \n",
            "  \n",
            "</ul>\n",
            "\n",
            "                    \n",
            "                </nav>\n",
            "\n",
            "                <div class=\"header-banner \"> <!-- for optional \"do-not-print\" class -->\n",
            "                    \n",
            "        <div id=\"dive-into-python\" class=\"flex-slideshow slideshow\">\n",
            "\n",
            "            <ul class=\"launch-shell menu\" id=\"launch-shell\">\n",
            "                <li>\n",
            "                    <a class=\"button prompt\" id=\"start-shell\" data-shell-container=\"#dive-into-python\" href=\"/shell/\">&gt;_\n",
            "                        <span class=\"message\">Launch Interactive Shell</span>\n",
            "                    </a>\n",
            "                </li>\n",
            "            </ul>\n",
            "\n",
            "            <ul class=\"slides menu\">\n",
            "                \n",
            "                <li>\n",
            "                    <div class=\"slide-code\"><pre><code><span class=\"comment\"># Python 3: Fibonacci series up to n</span>\r\n",
            ">>> def fib(n):\r\n",
            ">>>     a, b = 0, 1\r\n",
            ">>>     while a &lt; n:\r\n",
            ">>>         print(a, end=' ')\r\n",
            ">>>         a, b = b, a+b\r\n",
            ">>>     print()\r\n",
            ">>> fib(1000)\r\n",
            "<span class=\"output\">0 1 1 2 3 5 8 13 21 34 55 89 144 233 377 610 987</span></code></pre></div>\n",
            "                    <div class=\"slide-copy\"><h1>Functions Defined</h1>\r\n",
            "<p>The core of extensible programming is defining functions. Python allows mandatory and optional arguments, keyword arguments, and even arbitrary argument lists. <a href=\"//docs.python.org/3/tutorial/controlflow.html#defining-functions\">More about defining functions in Python&nbsp;3</a></p></div>\n",
            "                </li>\n",
            "                \n",
            "                <li>\n",
            "                    <div class=\"slide-code\"><pre><code><span class=\"comment\"># Python 3: List comprehensions</span>\r\n",
            ">>> fruits = ['Banana', 'Apple', 'Lime']\r\n",
            ">>> loud_fruits = [fruit.upper() for fruit in fruits]\r\n",
            ">>> print(loud_fruits)\r\n",
            "<span class=\"output\">['BANANA', 'APPLE', 'LIME']</span>\r\n",
            "\r\n",
            "<span class=\"comment\"># List and the enumerate function</span>\r\n",
            ">>> list(enumerate(fruits))\r\n",
            "<span class=\"output\">[(0, 'Banana'), (1, 'Apple'), (2, 'Lime')]</span></code></pre></div>\n",
            "                    <div class=\"slide-copy\"><h1>Compound Data Types</h1>\r\n",
            "<p>Lists (known as arrays in other languages) are one of the compound data types that Python understands. Lists can be indexed, sliced and manipulated with other built-in functions. <a href=\"//docs.python.org/3/tutorial/introduction.html#lists\">More about lists in Python&nbsp;3</a></p></div>\n",
            "                </li>\n",
            "                \n",
            "                <li>\n",
            "                    <div class=\"slide-code\"><pre><code><span class=\"comment\"># Python 3: Simple arithmetic</span>\r\n",
            ">>> 1 / 2\r\n",
            "<span class=\"output\">0.5</span>\r\n",
            ">>> 2 ** 3\r\n",
            "<span class=\"output\">8</span>\r\n",
            ">>> 17 / 3  <span class=\"comment\"># classic division returns a float</span>\r\n",
            "<span class=\"output\">5.666666666666667</span>\r\n",
            ">>> 17 // 3  <span class=\"comment\"># floor division</span>\r\n",
            "<span class=\"output\">5</span></code></pre></div>\n",
            "                    <div class=\"slide-copy\"><h1>Intuitive Interpretation</h1>\r\n",
            "<p>Calculations are simple with Python, and expression syntax is straightforward: the operators <code>+</code>, <code>-</code>, <code>*</code> and <code>/</code> work as expected; parentheses <code>()</code> can be used for grouping. <a href=\"http://docs.python.org/3/tutorial/introduction.html#using-python-as-a-calculator\">More about simple math functions in Python&nbsp;3</a>.</p></div>\n",
            "                </li>\n",
            "                \n",
            "                <li>\n",
            "                    <div class=\"slide-code\"><pre><code><span class=\"comment\"># Python 3: Simple output (with Unicode)</span>\r\n",
            ">>> print(\"Hello, I'm Python!\")\r\n",
            "<span class=\"output\">Hello, I'm Python!</span>\r\n",
            "\r\n",
            "<span class=\"comment\"># Input, assignment</span>\r\n",
            ">>> name = input('What is your name?\\n')\r\n",
            ">>> print('Hi, %s.' % name)\r\n",
            "<span class=\"output\">What is your name?\r\n",
            "Python\r\n",
            "Hi, Python.</span></code></pre></div>\n",
            "                    <div class=\"slide-copy\"><h1>Quick &amp; Easy to Learn</h1>\r\n",
            "<p>Experienced programmers in any other language can pick up Python very quickly, and beginners find the clean syntax and indentation structure easy to learn. <a href=\"//docs.python.org/3/tutorial/\">Whet your appetite</a> with our Python&nbsp;3 overview.</p>\r\n",
            "                   </div>\n",
            "                </li>\n",
            "                \n",
            "                <li>\n",
            "                    <div class=\"slide-code\"><pre><code><span class=\"comment\"># For loop on a list</span>\r\n",
            ">>> numbers = [2, 4, 6, 8]\r\n",
            ">>> product = 1\r\n",
            ">>> for number in numbers:\r\n",
            "...    product = product * number\r\n",
            "... \r\n",
            ">>> print('The product is:', product)\r\n",
            "<span class=\"output\">The product is: 384</span></code></pre></div>\n",
            "                    <div class=\"slide-copy\"><h1>All the Flow You&rsquo;d Expect</h1>\r\n",
            "<p>Python knows the usual control flow statements that other languages speak &mdash; <code>if</code>, <code>for</code>, <code>while</code> and <code>range</code> &mdash; with some of its own twists, of course. <a href=\"//docs.python.org/3/tutorial/controlflow.html\">More control flow tools in Python&nbsp;3</a></p></div>\n",
            "                </li>\n",
            "                \n",
            "            </ul>\n",
            "        </div>\n",
            "\n",
            "\n",
            "                </div>\n",
            "\n",
            "                \n",
            "        <div class=\"introduction\">\n",
            "            <p>Python is a programming language that lets you work quickly <span class=\"breaker\"></span>and integrate systems more effectively. <a class=\"readmore\" href=\"/doc/\">Learn More</a></p>\n",
            "        </div>\n",
            "\n",
            "\n",
            "             </div><!-- end .container -->\n",
            "        </header>\n",
            "\n",
            "        <div id=\"content\" class=\"content-wrapper\">\n",
            "            <!-- Main Content Column -->\n",
            "            <div class=\"container\">\n",
            "\n",
            "                <section class=\"main-content \" role=\"main\">\n",
            "\n",
            "                    \n",
            "                    \n",
            "\n",
            "                    \n",
            "\n",
            "                    \n",
            "\n",
            "                \n",
            "\n",
            "                <div class=\"row\">\n",
            "\n",
            "                    <div class=\"small-widget get-started-widget\">\n",
            "                        <h2 class=\"widget-title\"><span aria-hidden=\"true\" class=\"icon-get-started\"></span>Get Started</h2>\r\n",
            "<p>Whether you're new to programming or an experienced developer, it's easy to learn and use Python.</p>\r\n",
            "<p><a href=\"/about/gettingstarted/\">Start with our Beginner&rsquo;s Guide</a></p>\n",
            "                    </div>\n",
            "\n",
            "                    <div class=\"small-widget download-widget\">\n",
            "                        <h2 class=\"widget-title\"><span aria-hidden=\"true\" class=\"icon-download\"></span>Download</h2>\n",
            "<p>Python source code and installers are available for download for all versions!</p>\n",
            "<p>Latest: <a href=\"/downloads/release/python-3102/\">Python 3.10.2</a></p>\n",
            "                    </div>\n",
            "\n",
            "                    <div class=\"small-widget documentation-widget\">\n",
            "                        <h2 class=\"widget-title\"><span aria-hidden=\"true\" class=\"icon-documentation\"></span>Docs</h2>\r\n",
            "<p>Documentation for Python's standard library, along with tutorials and guides, are available online.</p>\r\n",
            "<p><a href=\"https://docs.python.org\">docs.python.org</a></p>\n",
            "                    </div>\n",
            "\n",
            "                    <div class=\"small-widget jobs-widget last\">\n",
            "                        <h2 class=\"widget-title\"><span aria-hidden=\"true\" class=\"icon-jobs\"></span>Jobs</h2>\r\n",
            "<p>Looking for work or have a Python related position that you're trying to hire for? Our <strong>relaunched community-run job board</strong> is the place to go.</p>\r\n",
            "<p><a href=\"//jobs.python.org\">jobs.python.org</a></p>\n",
            "                    </div>\n",
            "\n",
            "                </div>\n",
            "\n",
            "                <div class=\"list-widgets row\">\n",
            "\n",
            "                    <div class=\"medium-widget blog-widget\">\n",
            "                        \n",
            "                        <div class=\"shrubbery\">\n",
            "                        \n",
            "                            <h2 class=\"widget-title\"><span aria-hidden=\"true\" class=\"icon-news\"></span>Latest News</h2>\n",
            "                            <p class=\"give-me-more\"><a href=\"https://blog.python.org\" title=\"More News\">More</a></p>\n",
            "                            \n",
            "                            <ul class=\"menu\">\n",
            "                                \n",
            "                                \n",
            "                                <li>\n",
            "<time datetime=\"2022-02-16T16:57:00.000002+00:00\"><span class=\"say-no-more\">2022-</span>02-16</time>\n",
            " <a href=\"http://pyfound.blogspot.com/2022/02/we-are-hiring-contract-developers-to.html\">We are hiring contract developers to build new features in PyPI</a></li>\n",
            "                                \n",
            "                                <li>\n",
            "<time datetime=\"2022-02-03T23:22:00.000003+00:00\"><span class=\"say-no-more\">2022-</span>02-03</time>\n",
            " <a href=\"https://pythoninsider.blogspot.com/2022/02/python-3110a5-is-available.html\">Python 3.11.0a5 is available</a></li>\n",
            "                                \n",
            "                                <li>\n",
            "<time datetime=\"2022-01-14T23:11:00.000004+00:00\"><span class=\"say-no-more\">2022-</span>01-14</time>\n",
            " <a href=\"https://pythoninsider.blogspot.com/2022/01/python-3102-3910-and-3110a4-are-now.html\">Python 3.10.2, 3.9.10, and 3.11.0a4 are now available</a></li>\n",
            "                                \n",
            "                                <li>\n",
            "<time datetime=\"2022-01-05T22:14:00.000002+00:00\"><span class=\"say-no-more\">2022-</span>01-05</time>\n",
            " <a href=\"http://pyfound.blogspot.com/2022/01/announcing-python-software-foundation.html\">Announcing Python Software Foundation Fellow Members for Q4 2021! 🎉</a></li>\n",
            "                                \n",
            "                                <li>\n",
            "<time datetime=\"2021-12-15T08:20:00.000002+00:00\"><span class=\"say-no-more\">2021-</span>12-15</time>\n",
            " <a href=\"http://pyfound.blogspot.com/2021/12/georgi-ker-awarded-psf-community.html\">Georgi Ker Awarded the PSF Community Service Award for Q4 2020</a></li>\n",
            "                                \n",
            "                            </ul>\n",
            "                        </div><!-- end .shrubbery -->\n",
            "\n",
            "                    </div>\n",
            "\n",
            "                    <div class=\"medium-widget event-widget last\">\n",
            "                        \n",
            "                        <div class=\"shrubbery\">\n",
            "                        \n",
            "                            <h2 class=\"widget-title\"><span aria-hidden=\"true\" class=\"icon-calendar\"></span>Upcoming Events</h2>\n",
            "                            <p class=\"give-me-more\"><a href=\"/events/calendars/\" title=\"More Events\">More</a></p>\n",
            "                            \n",
            "                            <ul class=\"menu\">\n",
            "                                \n",
            "                                \n",
            "                                \n",
            "                                <li>\n",
            "<time datetime=\"2022-03-21T00:00:00+00:00\"><span class=\"say-no-more\">2022-</span>03-21</time>\n",
            " <a href=\"/events/python-events/1204/\">Python Web Conference 2022</a></li>\n",
            "                                \n",
            "                                \n",
            "                                \n",
            "                                <li>\n",
            "<time datetime=\"2022-03-26T00:00:00+00:00\"><span class=\"say-no-more\">2022-</span>03-26</time>\n",
            " <a href=\"/events/python-events/1207/\">PyTexas 2022</a></li>\n",
            "                                \n",
            "                                \n",
            "                                \n",
            "                                <li>\n",
            "<time datetime=\"2022-03-30T16:00:00+00:00\"><span class=\"say-no-more\">2022-</span>03-30</time>\n",
            " <a href=\"/events/python-user-group/1212/\">Python Meeting Düsseldorf</a></li>\n",
            "                                \n",
            "                                \n",
            "                                \n",
            "                                <li>\n",
            "<time datetime=\"2022-04-08T00:00:00+00:00\"><span class=\"say-no-more\">2022-</span>04-08</time>\n",
            " <a href=\"/events/python-events/1211/\">Django Day Copenhagen 2022</a></li>\n",
            "                                \n",
            "                                \n",
            "                                \n",
            "                                <li>\n",
            "<time datetime=\"2022-04-11T00:00:00+00:00\"><span class=\"say-no-more\">2022-</span>04-11</time>\n",
            " <a href=\"/events/python-events/1206/\">PyCon DE &amp; PyData Berlin 2022</a></li>\n",
            "                                \n",
            "                                \n",
            "                            </ul>\n",
            "                        </div>\n",
            "\n",
            "                    </div>\n",
            "\n",
            "                </div>\n",
            "\n",
            "                <div class=\"row\">\n",
            "\n",
            "                    <div class=\"medium-widget success-stories-widget\">\n",
            "                        \n",
            "\n",
            "\n",
            "\n",
            "                        <div class=\"shrubbery\">\n",
            "                            \n",
            "\n",
            "                            <h2 class=\"widget-title\"><span aria-hidden=\"true\" class=\"icon-success-stories\"></span>Success Stories</h2>\n",
            "                            <p class=\"give-me-more\"><a href=\"/success-stories/\" title=\"More Success Stories\">More</a></p>\n",
            "\n",
            "                            \n",
            "                            <div class=\"success-story-item\" id=\"success-story-1101\">\n",
            "\n",
            "                            <blockquote>\n",
            "                                <a href=\"/success-stories/a-startup-healthcare-tech-firm-is-now-poised-for-the-future/\">“We feel much better equipped now to handle the challenges. And if we run into an issue, we’ll come to Caktus to hammer it out,&quot; said Stephen Johnston, VP of Engineering, at Force Therapeutics.</a>\n",
            "                            </blockquote>\n",
            "\n",
            "                            <table cellpadding=\"0\" cellspacing=\"0\" border=\"0\" width=\"100%\" class=\"quote-from\">\n",
            "                                <tbody>\n",
            "                                    <tr>\n",
            "                                        \n",
            "                                        <td><p><a href=\"/success-stories/a-startup-healthcare-tech-firm-is-now-poised-for-the-future/\">A Startup Healthcare Tech Firm Is Now Poised for the Future</a> <em>by Caktus Group</em></p></td>\n",
            "                                    </tr>\n",
            "                                </tbody>\n",
            "                            </table>\n",
            "                            </div>\n",
            "                            \n",
            "\n",
            "                        </div><!-- end .shrubbery -->\n",
            "\n",
            "                    </div>\n",
            "\n",
            "                    <div class=\"medium-widget applications-widget last\">\n",
            "                        <div class=\"shrubbery\">\n",
            "                            <h2 class=\"widget-title\"><span aria-hidden=\"true\" class=\"icon-python\"></span>Use Python for&hellip;</h2>\r\n",
            "<p class=\"give-me-more\"><a href=\"/about/apps\" title=\"More Applications\">More</a></p>\r\n",
            "\r\n",
            "<ul class=\"menu\">\r\n",
            "    <li><b>Web Development</b>:\r\n",
            "        <span class=\"tag-wrapper\"><a class=\"tag\" href=\"http://www.djangoproject.com/\">Django</a>, <a class=\"tag\" href=\"http://www.pylonsproject.org/\">Pyramid</a>, <a class=\"tag\" href=\"http://bottlepy.org\">Bottle</a>, <a class=\"tag\" href=\"http://tornadoweb.org\">Tornado</a>, <a href=\"http://flask.pocoo.org/\" class=\"tag\">Flask</a>, <a class=\"tag\" href=\"http://www.web2py.com/\">web2py</a></span></li>\r\n",
            "    <li><b>GUI Development</b>:\r\n",
            "        <span class=\"tag-wrapper\"><a class=\"tag\" href=\"http://wiki.python.org/moin/TkInter\">tkInter</a>, <a class=\"tag\" href=\"https://wiki.gnome.org/Projects/PyGObject\">PyGObject</a>, <a class=\"tag\" href=\"http://www.riverbankcomputing.co.uk/software/pyqt/intro\">PyQt</a>, <a class=\"tag\" href=\"https://wiki.qt.io/PySide\">PySide</a>, <a class=\"tag\" href=\"https://kivy.org/\">Kivy</a>, <a class=\"tag\" href=\"http://www.wxpython.org/\">wxPython</a></span></li>\r\n",
            "    <li><b>Scientific and Numeric</b>:\r\n",
            "        <span class=\"tag-wrapper\">\r\n",
            "<a class=\"tag\" href=\"http://www.scipy.org\">SciPy</a>, <a class=\"tag\" href=\"http://pandas.pydata.org/\">Pandas</a>, <a href=\"http://ipython.org\" class=\"tag\">IPython</a></span></li>\r\n",
            "    <li><b>Software Development</b>:\r\n",
            "        <span class=\"tag-wrapper\"><a class=\"tag\" href=\"http://buildbot.net/\">Buildbot</a>, <a class=\"tag\" href=\"http://trac.edgewall.org/\">Trac</a>, <a class=\"tag\" href=\"http://roundup.sourceforge.net/\">Roundup</a></span></li>\r\n",
            "    <li><b>System Administration</b>:\r\n",
            "        <span class=\"tag-wrapper\"><a class=\"tag\" href=\"http://www.ansible.com\">Ansible</a>, <a class=\"tag\" href=\"https://saltproject.io\">Salt</a>, <a class=\"tag\" href=\"https://www.openstack.org\">OpenStack</a>, <a class=\"tag\" href=\"https://xon.sh\">xonsh</a></span></li>\r\n",
            "</ul>\n",
            "                        </div><!-- end .shrubbery -->\n",
            "                    </div>\n",
            "\n",
            "                </div>\n",
            "\n",
            "                \n",
            "                <div class=\"pep-widget\">\n",
            "\n",
            "                    <h2 class=\"widget-title\">\n",
            "                        <span class=\"prompt\">&gt;&gt;&gt;</span> <a href=\"/dev/peps/\">Python Enhancement Proposals<span class=\"say-no-more\"> (PEPs)</span></a>: The future of Python<span class=\"say-no-more\"> is discussed here.</span>\n",
            "                        <a aria-hidden=\"true\" class=\"rss-link\" href=\"/dev/peps/peps.rss\"><span class=\"icon-feed\"></span> RSS</a>\n",
            "                    </h2>\n",
            "\n",
            "\n",
            "                    \n",
            "                    \n",
            "                </div>\n",
            "\n",
            "                                <div class=\"psf-widget\">\n",
            "\n",
            "                    <div class=\"python-logo\"></div>\n",
            "                    \n",
            "                    <h2 class=\"widget-title\">\r\n",
            "    <span class=\"prompt\">&gt;&gt;&gt;</span> <a href=\"/psf/\">Python Software Foundation</a>\r\n",
            "</h2>\r\n",
            "<p>The mission of the Python Software Foundation is to promote, protect, and advance the Python programming language, and to support and facilitate the growth of a diverse and international community of Python programmers. <a class=\"readmore\" href=\"/psf/\">Learn more</a> </p>\r\n",
            "<p class=\"click-these\">\r\n",
            "    <a class=\"button\" href=\"/users/membership/\">Become a Member</a>\r\n",
            "    <a class=\"button\" href=\"/psf/donations/\">Donate to the PSF</a>\r\n",
            "</p>\n",
            "                </div>\n",
            "\n",
            "\n",
            "\n",
            "\n",
            "                </section>\n",
            "\n",
            "                \n",
            "                \n",
            "\n",
            "                \n",
            "                \n",
            "\n",
            "\n",
            "            </div><!-- end .container -->\n",
            "        </div><!-- end #content .content-wrapper -->\n",
            "\n",
            "        <!-- Footer and social media list -->\n",
            "        \n",
            "        <footer id=\"site-map\" class=\"main-footer\" role=\"contentinfo\">\n",
            "            <div class=\"main-footer-links\">\n",
            "                <div class=\"container\">\n",
            "\n",
            "                    \n",
            "                    <a id=\"back-to-top-1\" class=\"jump-link\" href=\"#python-network\"><span aria-hidden=\"true\" class=\"icon-arrow-up\"><span>&#9650;</span></span> Back to Top</a>\n",
            "\n",
            "                    \n",
            "\n",
            "<ul class=\"sitemap navigation menu do-not-print\" role=\"tree\" id=\"container\">\n",
            "    \n",
            "    <li class=\"tier-1 element-1\">\n",
            "        <a href=\"/about/\" >About</a>\n",
            "        \n",
            "            \n",
            "\n",
            "<ul class=\"subnav menu\">\n",
            "    \n",
            "        <li class=\"tier-2 element-1\" role=\"treeitem\"><a href=\"/about/apps/\" title=\"\">Applications</a></li>\n",
            "    \n",
            "        <li class=\"tier-2 element-2\" role=\"treeitem\"><a href=\"/about/quotes/\" title=\"\">Quotes</a></li>\n",
            "    \n",
            "        <li class=\"tier-2 element-3\" role=\"treeitem\"><a href=\"/about/gettingstarted/\" title=\"\">Getting Started</a></li>\n",
            "    \n",
            "        <li class=\"tier-2 element-4\" role=\"treeitem\"><a href=\"/about/help/\" title=\"\">Help</a></li>\n",
            "    \n",
            "        <li class=\"tier-2 element-5\" role=\"treeitem\"><a href=\"http://brochure.getpython.info/\" title=\"\">Python Brochure</a></li>\n",
            "    \n",
            "</ul>\n",
            "\n",
            "        \n",
            "    </li>\n",
            "    \n",
            "    <li class=\"tier-1 element-2\">\n",
            "        <a href=\"/downloads/\" >Downloads</a>\n",
            "        \n",
            "            \n",
            "\n",
            "<ul class=\"subnav menu\">\n",
            "    \n",
            "        <li class=\"tier-2 element-1\" role=\"treeitem\"><a href=\"/downloads/\" title=\"\">All releases</a></li>\n",
            "    \n",
            "        <li class=\"tier-2 element-2\" role=\"treeitem\"><a href=\"/downloads/source/\" title=\"\">Source code</a></li>\n",
            "    \n",
            "        <li class=\"tier-2 element-3\" role=\"treeitem\"><a href=\"/downloads/windows/\" title=\"\">Windows</a></li>\n",
            "    \n",
            "        <li class=\"tier-2 element-4\" role=\"treeitem\"><a href=\"/downloads/macos/\" title=\"\">macOS</a></li>\n",
            "    \n",
            "        <li class=\"tier-2 element-5\" role=\"treeitem\"><a href=\"/download/other/\" title=\"\">Other Platforms</a></li>\n",
            "    \n",
            "        <li class=\"tier-2 element-6\" role=\"treeitem\"><a href=\"https://docs.python.org/3/license.html\" title=\"\">License</a></li>\n",
            "    \n",
            "        <li class=\"tier-2 element-7\" role=\"treeitem\"><a href=\"/download/alternatives\" title=\"\">Alternative Implementations</a></li>\n",
            "    \n",
            "</ul>\n",
            "\n",
            "        \n",
            "    </li>\n",
            "    \n",
            "    <li class=\"tier-1 element-3\">\n",
            "        <a href=\"/doc/\" >Documentation</a>\n",
            "        \n",
            "            \n",
            "\n",
            "<ul class=\"subnav menu\">\n",
            "    \n",
            "        <li class=\"tier-2 element-1\" role=\"treeitem\"><a href=\"/doc/\" title=\"\">Docs</a></li>\n",
            "    \n",
            "        <li class=\"tier-2 element-2\" role=\"treeitem\"><a href=\"/doc/av\" title=\"\">Audio/Visual Talks</a></li>\n",
            "    \n",
            "        <li class=\"tier-2 element-3\" role=\"treeitem\"><a href=\"https://wiki.python.org/moin/BeginnersGuide\" title=\"\">Beginner&#39;s Guide</a></li>\n",
            "    \n",
            "        <li class=\"tier-2 element-4\" role=\"treeitem\"><a href=\"https://devguide.python.org/\" title=\"\">Developer&#39;s Guide</a></li>\n",
            "    \n",
            "        <li class=\"tier-2 element-5\" role=\"treeitem\"><a href=\"https://docs.python.org/faq/\" title=\"\">FAQ</a></li>\n",
            "    \n",
            "        <li class=\"tier-2 element-6\" role=\"treeitem\"><a href=\"http://wiki.python.org/moin/Languages\" title=\"\">Non-English Docs</a></li>\n",
            "    \n",
            "        <li class=\"tier-2 element-7\" role=\"treeitem\"><a href=\"http://python.org/dev/peps/\" title=\"\">PEP Index</a></li>\n",
            "    \n",
            "        <li class=\"tier-2 element-8\" role=\"treeitem\"><a href=\"https://wiki.python.org/moin/PythonBooks\" title=\"\">Python Books</a></li>\n",
            "    \n",
            "        <li class=\"tier-2 element-9\" role=\"treeitem\"><a href=\"/doc/essays/\" title=\"\">Python Essays</a></li>\n",
            "    \n",
            "</ul>\n",
            "\n",
            "        \n",
            "    </li>\n",
            "    \n",
            "    <li class=\"tier-1 element-4\">\n",
            "        <a href=\"/community/\" >Community</a>\n",
            "        \n",
            "            \n",
            "\n",
            "<ul class=\"subnav menu\">\n",
            "    \n",
            "        <li class=\"tier-2 element-1\" role=\"treeitem\"><a href=\"/community/diversity/\" title=\"\">Diversity</a></li>\n",
            "    \n",
            "        <li class=\"tier-2 element-2\" role=\"treeitem\"><a href=\"/community/lists/\" title=\"\">Mailing Lists</a></li>\n",
            "    \n",
            "        <li class=\"tier-2 element-3\" role=\"treeitem\"><a href=\"/community/irc/\" title=\"\">IRC</a></li>\n",
            "    \n",
            "        <li class=\"tier-2 element-4\" role=\"treeitem\"><a href=\"/community/forums/\" title=\"\">Forums</a></li>\n",
            "    \n",
            "        <li class=\"tier-2 element-5\" role=\"treeitem\"><a href=\"/psf/annual-report/2021/\" title=\"\">PSF Annual Impact Report</a></li>\n",
            "    \n",
            "        <li class=\"tier-2 element-6\" role=\"treeitem\"><a href=\"/community/workshops/\" title=\"\">Python Conferences</a></li>\n",
            "    \n",
            "        <li class=\"tier-2 element-7\" role=\"treeitem\"><a href=\"/community/sigs/\" title=\"\">Special Interest Groups</a></li>\n",
            "    \n",
            "        <li class=\"tier-2 element-8\" role=\"treeitem\"><a href=\"/community/logos/\" title=\"\">Python Logo</a></li>\n",
            "    \n",
            "        <li class=\"tier-2 element-9\" role=\"treeitem\"><a href=\"https://wiki.python.org/moin/\" title=\"\">Python Wiki</a></li>\n",
            "    \n",
            "        <li class=\"tier-2 element-10\" role=\"treeitem\"><a href=\"/community/merchandise/\" title=\"\">Merchandise</a></li>\n",
            "    \n",
            "        <li class=\"tier-2 element-11\" role=\"treeitem\"><a href=\"/community/awards\" title=\"\">Community Awards</a></li>\n",
            "    \n",
            "        <li class=\"tier-2 element-12\" role=\"treeitem\"><a href=\"/psf/conduct/\" title=\"\">Code of Conduct</a></li>\n",
            "    \n",
            "        <li class=\"tier-2 element-13\" role=\"treeitem\"><a href=\"/psf/get-involved/\" title=\"\">Get Involved</a></li>\n",
            "    \n",
            "        <li class=\"tier-2 element-14\" role=\"treeitem\"><a href=\"/psf/community-stories/\" title=\"\">Shared Stories</a></li>\n",
            "    \n",
            "</ul>\n",
            "\n",
            "        \n",
            "    </li>\n",
            "    \n",
            "    <li class=\"tier-1 element-5\">\n",
            "        <a href=\"/success-stories/\" title=\"success-stories\">Success Stories</a>\n",
            "        \n",
            "            \n",
            "\n",
            "<ul class=\"subnav menu\">\n",
            "    \n",
            "        <li class=\"tier-2 element-1\" role=\"treeitem\"><a href=\"/success-stories/category/arts/\" title=\"\">Arts</a></li>\n",
            "    \n",
            "        <li class=\"tier-2 element-2\" role=\"treeitem\"><a href=\"/success-stories/category/business/\" title=\"\">Business</a></li>\n",
            "    \n",
            "        <li class=\"tier-2 element-3\" role=\"treeitem\"><a href=\"/success-stories/category/education/\" title=\"\">Education</a></li>\n",
            "    \n",
            "        <li class=\"tier-2 element-4\" role=\"treeitem\"><a href=\"/success-stories/category/engineering/\" title=\"\">Engineering</a></li>\n",
            "    \n",
            "        <li class=\"tier-2 element-5\" role=\"treeitem\"><a href=\"/success-stories/category/government/\" title=\"\">Government</a></li>\n",
            "    \n",
            "        <li class=\"tier-2 element-6\" role=\"treeitem\"><a href=\"/success-stories/category/scientific/\" title=\"\">Scientific</a></li>\n",
            "    \n",
            "        <li class=\"tier-2 element-7\" role=\"treeitem\"><a href=\"/success-stories/category/software-development/\" title=\"\">Software Development</a></li>\n",
            "    \n",
            "</ul>\n",
            "\n",
            "        \n",
            "    </li>\n",
            "    \n",
            "    <li class=\"tier-1 element-6\">\n",
            "        <a href=\"/blogs/\" title=\"News from around the Python world\">News</a>\n",
            "        \n",
            "            \n",
            "\n",
            "<ul class=\"subnav menu\">\n",
            "    \n",
            "        <li class=\"tier-2 element-1\" role=\"treeitem\"><a href=\"/blogs/\" title=\"Python Insider Blog Posts\">Python News</a></li>\n",
            "    \n",
            "        <li class=\"tier-2 element-2\" role=\"treeitem\"><a href=\"/psf/newsletter/\" title=\"Python Software Foundation Newsletter\">PSF Newsletter</a></li>\n",
            "    \n",
            "        <li class=\"tier-2 element-3\" role=\"treeitem\"><a href=\"http://planetpython.org/\" title=\"Planet Python\">Community News</a></li>\n",
            "    \n",
            "        <li class=\"tier-2 element-4\" role=\"treeitem\"><a href=\"http://pyfound.blogspot.com/\" title=\"PSF Blog\">PSF News</a></li>\n",
            "    \n",
            "        <li class=\"tier-2 element-5\" role=\"treeitem\"><a href=\"http://pycon.blogspot.com/\" title=\"PyCon Blog\">PyCon News</a></li>\n",
            "    \n",
            "</ul>\n",
            "\n",
            "        \n",
            "    </li>\n",
            "    \n",
            "    <li class=\"tier-1 element-7\">\n",
            "        <a href=\"/events/\" >Events</a>\n",
            "        \n",
            "            \n",
            "\n",
            "<ul class=\"subnav menu\">\n",
            "    \n",
            "        <li class=\"tier-2 element-1\" role=\"treeitem\"><a href=\"/events/python-events/\" title=\"\">Python Events</a></li>\n",
            "    \n",
            "        <li class=\"tier-2 element-2\" role=\"treeitem\"><a href=\"/events/python-user-group/\" title=\"\">User Group Events</a></li>\n",
            "    \n",
            "        <li class=\"tier-2 element-3\" role=\"treeitem\"><a href=\"/events/python-events/past/\" title=\"\">Python Events Archive</a></li>\n",
            "    \n",
            "        <li class=\"tier-2 element-4\" role=\"treeitem\"><a href=\"/events/python-user-group/past/\" title=\"\">User Group Events Archive</a></li>\n",
            "    \n",
            "        <li class=\"tier-2 element-5\" role=\"treeitem\"><a href=\"https://wiki.python.org/moin/PythonEventsCalendar#Submitting_an_Event\" title=\"\">Submit an Event</a></li>\n",
            "    \n",
            "</ul>\n",
            "\n",
            "        \n",
            "    </li>\n",
            "    \n",
            "    <li class=\"tier-1 element-8\">\n",
            "        <a href=\"/dev/\" >Contributing</a>\n",
            "        \n",
            "            \n",
            "\n",
            "<ul class=\"subnav menu\">\n",
            "    \n",
            "        <li class=\"tier-2 element-1\" role=\"treeitem\"><a href=\"https://devguide.python.org/\" title=\"\">Developer&#39;s Guide</a></li>\n",
            "    \n",
            "        <li class=\"tier-2 element-2\" role=\"treeitem\"><a href=\"https://bugs.python.org/\" title=\"\">Issue Tracker</a></li>\n",
            "    \n",
            "        <li class=\"tier-2 element-3\" role=\"treeitem\"><a href=\"https://mail.python.org/mailman/listinfo/python-dev\" title=\"\">python-dev list</a></li>\n",
            "    \n",
            "        <li class=\"tier-2 element-4\" role=\"treeitem\"><a href=\"/dev/core-mentorship/\" title=\"\">Core Mentorship</a></li>\n",
            "    \n",
            "        <li class=\"tier-2 element-5\" role=\"treeitem\"><a href=\"/dev/security/\" title=\"\">Report a Security Issue</a></li>\n",
            "    \n",
            "</ul>\n",
            "\n",
            "        \n",
            "    </li>\n",
            "    \n",
            "</ul>\n",
            "\n",
            "\n",
            "                    <a id=\"back-to-top-2\" class=\"jump-link\" href=\"#python-network\"><span aria-hidden=\"true\" class=\"icon-arrow-up\"><span>&#9650;</span></span> Back to Top</a>\n",
            "                    \n",
            "\n",
            "                </div><!-- end .container -->\n",
            "            </div> <!-- end .main-footer-links -->\n",
            "\n",
            "            <div class=\"site-base\">\n",
            "                <div class=\"container\">\n",
            "                    \n",
            "                    <ul class=\"footer-links navigation menu do-not-print\" role=\"tree\">\n",
            "                        <li class=\"tier-1 element-1\"><a href=\"/about/help/\">Help &amp; <span class=\"say-no-more\">General</span> Contact</a></li>\n",
            "                        <li class=\"tier-1 element-2\"><a href=\"/community/diversity/\">Diversity <span class=\"say-no-more\">Initiatives</span></a></li>\n",
            "                        <li class=\"tier-1 element-3\"><a href=\"https://github.com/python/pythondotorg/issues\">Submit Website Bug</a></li>\n",
            "                        <li class=\"tier-1 element-4\">\n",
            "                            <a href=\"https://status.python.org/\">Status <span class=\"python-status-indicator-default\" id=\"python-status-indicator\"></span></a>\n",
            "                        </li>\n",
            "                    </ul>\n",
            "\n",
            "                    <div class=\"copyright\">\n",
            "                        <p><small>\n",
            "                            <span class=\"pre\">Copyright &copy;2001-2022.</span>\n",
            "                            &nbsp;<span class=\"pre\"><a href=\"/psf-landing/\">Python Software Foundation</a></span>\n",
            "                            &nbsp;<span class=\"pre\"><a href=\"/about/legal/\">Legal Statements</a></span>\n",
            "                            &nbsp;<span class=\"pre\"><a href=\"/privacy/\">Privacy Policy</a></span>\n",
            "                            &nbsp;<span class=\"pre\"><a href=\"/psf/sponsorship/sponsors/#heroku\">Powered by Heroku</a></span>\n",
            "                        </small></p>\n",
            "                    </div>\n",
            "\n",
            "                </div><!-- end .container -->\n",
            "            </div><!-- end .site-base -->\n",
            "\n",
            "        </footer>\n",
            "        \n",
            "\n",
            "    </div><!-- end #touchnav-wrapper -->\n",
            "\n",
            "    \n",
            "    <script src=\"//ajax.googleapis.com/ajax/libs/jquery/1.8.2/jquery.min.js\"></script>\n",
            "    <script>window.jQuery || document.write('<script src=\"/static/js/libs/jquery-1.8.2.min.js\"><\\/script>')</script>\n",
            "    <script src=\"//ajax.googleapis.com/ajax/libs/jqueryui/1.12.1/jquery-ui.min.js\"></script>\n",
            "    <script>window.jQuery || document.write('<script src=\"/static/js/libs/jquery-ui-1.12.1.min.js\"><\\/script>')</script>\n",
            "\n",
            "    <script src=\"/static/js/libs/masonry.pkgd.min.js\"></script>\n",
            "    <script src=\"/static/js/libs/html-includes.js\"></script>\n",
            "\n",
            "    <script type=\"text/javascript\" src=\"/static/js/main-min.dd72c1659644.js\" charset=\"utf-8\"></script>\n",
            "    \n",
            "\n",
            "    <!--[if lte IE 7]>\n",
            "    <script type=\"text/javascript\" src=\"/static/js/plugins/IE8-min.8af6e26c7a3b.js\" charset=\"utf-8\"></script>\n",
            "    \n",
            "    \n",
            "    <![endif]-->\n",
            "\n",
            "    <!--[if lte IE 8]>\n",
            "    <script type=\"text/javascript\" src=\"/static/js/plugins/getComputedStyle-min.d41d8cd98f00.js\" charset=\"utf-8\"></script>\n",
            "    \n",
            "    \n",
            "    <![endif]-->\n",
            "\n",
            "    \n",
            "\n",
            "    \n",
            "    \n",
            "\n",
            "</body>\n",
            "</html>\n",
            "\n"
          ]
        }
      ]
    },
    {
      "cell_type": "code",
      "source": [
        "#Unit171 url 이용해 인터넷에 접속하여 해당 웹페이지의 html을 파일로 저장하기 --> urllib.request 모듈의 urlopen() 을 이용\n",
        "\n",
        "from urllib.request import urlopen\n",
        "\n",
        "url='https://www.python.org/'\n",
        "with urlopen(url) as f:\n",
        "  doc=f.read().decode()\n",
        "  with open('pythonhome.html','w') as h:\n",
        "    h.writelines(doc)"
      ],
      "metadata": {
        "id": "ukJn2f74v2Ge"
      },
      "execution_count": null,
      "outputs": []
    },
    {
      "cell_type": "code",
      "source": [
        "#Unit 172 이미지 url 을 이용해 인터넷에 있는 이미지를 내 PC 로 저장하기 --> 모듈 urllib.request, urlopen()\n",
        "\n",
        "from urllib.request import urlopen\n",
        "\n",
        "imgurl='http://www.epaiai.com/img_sample.jpg'\n",
        "imgname=imgurl.split('/')[-1] #imgname은 imgurl을 / 로 구분하여 마지막 요소를 이미지이름으로 둔다.\n",
        "try:\n",
        "  with urlopen(imgurl) as f:\n",
        "    with open(imgname,'wb') as h:\n",
        "      img=f.read()\n",
        "      h.write(img)\n",
        "except Exception as e:\n",
        "  print(e)"
      ],
      "metadata": {
        "colab": {
          "base_uri": "https://localhost:8080/"
        },
        "id": "z2TBSw1cGtqd",
        "outputId": "6222d438-a1cc-43da-dc0a-796f08541b41"
      },
      "execution_count": null,
      "outputs": [
        {
          "output_type": "stream",
          "name": "stdout",
          "text": [
            "<urlopen error [Errno -3] Temporary failure in name resolution>\n"
          ]
        }
      ]
    },
    {
      "cell_type": "code",
      "source": [
        "#173 인터넷에 있는 대용량 파일을 256kB 씩 읽어 내 PC 로 저장하는 코드 --> 모듈 urllib.request,  urlopen()\n",
        "##### 내 PC 에 저장된 python-3.5.2.exe 파일이 어디 저장된건가? 못찾겠다. 이 예제는 30MB 라고 함.\n",
        "\n",
        "from urllib.request import urlopen\n",
        "\n",
        "BUFSIZE=256*1024\n",
        "\n",
        "fileurl = 'https://www.python.org/ftp/python/3.5.2/python-3.5.2.exe'\n",
        "filename=fileurl.split('/')[-1]\n",
        "try:\n",
        "  with urlopen(fileurl) as f: #fileurl을 오픈하고 filename을 바이너리 쓰기 모드로 오픈하여 각 파일 핸들을 f, h 로 둔다.\n",
        "    with open(filename,'wb') as h: #fileurl을 오픈하고 filename을 바이너리 쓰기 모드로 오픈하여 각 파일 핸들을 f, h 로 둔다.\n",
        "      buf=f.read(BUFSIZE) #fileurl을 버프사이즈만큼 읽어 buf 로 지정하고 WHILE 제어문으로 진입\n",
        "      while buf: #While 제어문으로 진입\n",
        "        h.write(buf) #로컬 파일인 filename에 buf로 지정된 데이터를 저장하고, fileurl에서 다시 BUFSIZE 만큼 읽고 buf로 두는 반복을 buf 에 데이터가 담기지 않을 때까지 계속 수행한다. WHILE 구문을 벗어자면 fileurl 의 모든 데이터가 로컬 파일로 저장되게 된다. \n",
        "        buf=f.read(BUFSIZE)\n",
        "except Exception as e:\n",
        "  print(e)"
      ],
      "metadata": {
        "id": "pV_ighvnLzQt"
      },
      "execution_count": null,
      "outputs": []
    },
    {
      "cell_type": "code",
      "source": [
        "#Unit174 용량이 큰 10MB 파일을 작은 여러 개의 (10개) 파일로 분리하는 방법  --> 파일 객체의 read() 와 write()를 이용해 큰 파일의 일부분을 하나하나의 작은 파일로 만들기\n",
        "\n",
        "filename='python-3.5.2.exe'\n",
        "subsize=1024*1024*3 #3MB\n",
        "suffix=0\n",
        "\n",
        "with open(filename, 'rb') as f:\n",
        "  buf=f.read(subsize)\n",
        "  while buf:\n",
        "    subfilename=filename + '_' +str(suffix) #suffix는 파일이름 뒤에 추가할 숫자를 나타낸다\n",
        "    with open(subfilename,'wb') as h: #저장할 서브파일 이름을 생성하고 이를 바이너리 읽기 모드로 오픈한 후\n",
        "      h.write(buf) #(로컬 파일인가???) buf 파일에 저장한다 (즉, filename_1, filename_2, etc) \n",
        "      print('[%s] 완료' %subfilename)\n",
        "    buf=f.read(subsize)#원본 파일을 subsize 만큼 읽어 buf에 저장\n",
        "    suffix+=1 #suffix를 1 증가하는 반복"
      ],
      "metadata": {
        "colab": {
          "base_uri": "https://localhost:8080/"
        },
        "id": "xiCY5w5DmQ4t",
        "outputId": "f736cf83-69ae-4aa8-b905-d2536755f6fb"
      },
      "execution_count": null,
      "outputs": [
        {
          "output_type": "stream",
          "name": "stdout",
          "text": [
            "[python-3.5.2.exe_0] 완료\n",
            "[python-3.5.2.exe_1] 완료\n",
            "[python-3.5.2.exe_2] 완료\n",
            "[python-3.5.2.exe_3] 완료\n",
            "[python-3.5.2.exe_4] 완료\n",
            "[python-3.5.2.exe_5] 완료\n",
            "[python-3.5.2.exe_6] 완료\n",
            "[python-3.5.2.exe_7] 완료\n",
            "[python-3.5.2.exe_8] 완료\n",
            "[python-3.5.2.exe_9] 완료\n"
          ]
        }
      ]
    },
    {
      "cell_type": "code",
      "source": [
        "#Unit175 분리한 여러 개의 파일을 합하여 원본 파일로 만드는 방법 (예: 1MB 파일 10 개를 합쳐 10MB fh) --> 파일객체의 read()와 write()를 이용해 분리한 파일을 순서대로 읽어 하나의 파일에 기록한다\n",
        "\n",
        "BUFSIZE=256*1024 #서브파일 읽기를 위한 버퍼사이즈를 235kB로 설정하고 BUFSIZE로 둔다\n",
        "merge_filename='ret.exe' #합친 결과 파일 이름을 ret.exe 로 설정하고 merge_filename으로 둔다.\n",
        "filelist=['python-3.5.2.exe_' + str(x) for x in range(10)] #서브파일 이름을 리스트로 구성하고 filelist로 둔다\n",
        "\n",
        "with open(merge_filename, 'wb') as f: #merge_filename을 바이너리 쓰기 모드로 오픈한다.\n",
        "  for filename in filelist: \n",
        "    print('[%s] 합치는 중..' %filename)\n",
        "    with open (filename, 'rb') as h:\n",
        "      buf=h.read(BUFSIZE) #먼저, 서브파일을 BUFSIZE 만큼 읽어 buf 에 대입하고\n",
        "      while buf: #다음에 WHILE 제어문으로 진입.\n",
        "        f.write(buf) #buf 를 merge_filename으로 지정한 파일에 저장하고 \n",
        "        buf=h.read(BUFSIZE) #다시 BUFSIZE 만큼 읽는 것을 buf에 데이터가 남아있지 않을 때까지 반복. \n",
        "print('파일 합치기가 완성되었습니다') #WHILE 제어문의 반복이 종료되면 filelist에ㅓ 가져온 하나의 서브파일에 대해 merge_filename에 저장한 것이며, for 구문이 모두 마무리 되면 모든 서브파일의 내용을 merge_filename에 저장하게 됩니다."
      ],
      "metadata": {
        "colab": {
          "base_uri": "https://localhost:8080/"
        },
        "id": "sSSzwke40xwY",
        "outputId": "37ad4c87-efc4-4bb4-b6f2-552601a1bba2"
      },
      "execution_count": null,
      "outputs": [
        {
          "output_type": "stream",
          "name": "stdout",
          "text": [
            "[python-3.5.2.exe_0] 합치는 중..\n",
            "[python-3.5.2.exe_1] 합치는 중..\n",
            "[python-3.5.2.exe_2] 합치는 중..\n",
            "[python-3.5.2.exe_3] 합치는 중..\n",
            "[python-3.5.2.exe_4] 합치는 중..\n",
            "[python-3.5.2.exe_5] 합치는 중..\n",
            "[python-3.5.2.exe_6] 합치는 중..\n",
            "[python-3.5.2.exe_7] 합치는 중..\n",
            "[python-3.5.2.exe_8] 합치는 중..\n",
            "[python-3.5.2.exe_9] 합치는 중..\n",
            "파일 합치기가 완성되었습니다\n"
          ]
        }
      ]
    },
    {
      "cell_type": "code",
      "source": [
        "#Unit178 하나의 파일을 zip 으로 압축하는 방법  --> 모듈 zipfile\n",
        "\n",
        "from zipfile import *\n",
        "\n",
        "def compressZip(zipname, filename):\n",
        "  print('[%s] -> [%s] 압축...' %(filename, zipname))\n",
        "  with ZipFile(zipname, 'w') as ziph:\n",
        "    ziph.write(filename)\n",
        "\n",
        "    print('압축이 끝났습니다.')\n",
        "filename ='mydata.txt'\n",
        "zipname = filename + '.zip'\n",
        "compressZip(zipname, filename)"
      ],
      "metadata": {
        "colab": {
          "base_uri": "https://localhost:8080/"
        },
        "id": "PdYT8bV1JY0n",
        "outputId": "015c7149-91e8-46c9-93e8-16cb286860ac"
      },
      "execution_count": null,
      "outputs": [
        {
          "output_type": "stream",
          "name": "stdout",
          "text": [
            "[mydata.txt] -> [mydata.txt.zip] 압축...\n",
            "압축이 끝났습니다.\n"
          ]
        }
      ]
    },
    {
      "cell_type": "code",
      "source": [
        "#Unit177 디렉터리에 있는 모든 하위 디렉토리와 파일을 하나의 zip 압축파일로 만들기 --> 모듈 zipfile 은 zip으로 압축하거나 앞축을 푸는 다양한 방법 제거됩니다\n",
        "\n",
        "from zipfile import *\n",
        "import os\n",
        "def compressAll(zipname, foler): #폴더에 지정된 디렉터리에 포함된 모든 하위 디렉터리 및 파일을 zip으로 압축하여 zipname에 압축저장하는 함수\n",
        "  print('[%s]->[%s]압축...'%(folder,zipname))\n",
        "  with ZipFile(zipname,'w') as ziph: #ZipFile 객체를 쓰기모드로 생성하고, 이에 대한 핸들은 ziph 로 둔다\n",
        "    for dirname.subdir.files in os.walk(folder): #os.walk(인자)는 인자로 주어진 폴더 바로 아래 서브디렉터리와 파일을 탐색하고 결과를 리스트로 저장. 예시 [('temp', ['subtemp1','subtemp2'...], ['file1','file2','file3'...])] \n",
        "      for file in files:\n",
        "        ziph.write(os.path.join(dirname, file)) #dirname과 file을 합쳐 temp 기준으로 상대 결로를 구성한다. 경로가 구성된 파일명을 이용해 해당파일을 압축하여 zip 파일에 기록한다.\n",
        "\n",
        "folder='tmp'\n",
        "zipname=folder + '.zip'\n",
        "compressAll(zipname, folder)\n"
      ],
      "metadata": {
        "colab": {
          "base_uri": "https://localhost:8080/"
        },
        "id": "2S84gJMvMRsf",
        "outputId": "5f76d6ab-e373-4243-93a1-acc8bf7ab802"
      },
      "execution_count": null,
      "outputs": [
        {
          "output_type": "stream",
          "name": "stdout",
          "text": [
            "[tmp]->[tmp.zip]압축...\n"
          ]
        }
      ]
    },
    {
      "cell_type": "code",
      "source": [
        "#Unit178 Zip 파일 압축을 푸는 방법 \n",
        "\n",
        "from zipfile import*\n",
        "\n",
        "def extractZip(zipname): #zipname 으로 지정된 zip 파일의 모든 내용에 대하여 압축을 해제하는 함수\n",
        "  with ZipFile(zipname, 'r') as ziph:  #zip파일 객체를 익기 모드로 생성하고, 생성한 zip 파일의 객체를 ziph로 둔다\n",
        "    ziph.extractall()\n",
        "    print('[%s]가 성공적으로 추출되었습니다.' %zipname)\n",
        "extractZip('tmp.zip')\n"
      ],
      "metadata": {
        "colab": {
          "base_uri": "https://localhost:8080/"
        },
        "id": "j7yjSCPHXCPM",
        "outputId": "cd5de4fe-ad39-4622-ceb4-e15a8f030647"
      },
      "execution_count": null,
      "outputs": [
        {
          "output_type": "stream",
          "name": "stdout",
          "text": [
            "[tmp.zip]가 성공적으로 추출되었습니다.\n"
          ]
        }
      ]
    },
    {
      "cell_type": "code",
      "source": [
        "#Unit181 데어터를 이용하여 데이터 처리: 연도별 출생아 수 계산하기\n",
        "### 예제에 파일이 unavailable 이라 파일 불러들이는 것 부터 시작하여 오류. \n",
        "\n",
        "def countBirths():\n",
        "  ret=[]\n",
        "  for y in range(1880, 2015): #range 괄호 안은 1880년도 부터 2015년도 까지  \n",
        "    count=0\n",
        "    filename='names/yob%d.txt'%y\n",
        "    with open(filename,'r') as f:\n",
        "      data=f.readlines()\n",
        "      for d in data:\n",
        "        if d[-1]=='\\n':\n",
        "          d=d[:-1]\n",
        "\n",
        "        birth=d.split('.')[2]\n",
        "        count +=int(birth)\n",
        "      ret.append((y.count))#왜 쌍괄호????? (연도, 출생아 수)튜플이 요소인 리스트로 구성될 변수. 그래서 쌍괄호. \n",
        "    return ret\n",
        "\n",
        "result=countBirths()\n",
        "with open('birth_by_year.csv','w') as f:\n",
        "  for names, birth in result:\n",
        "    data='%s, %s\\n' %(names, birth)\n",
        "    print(data)\n",
        "    f.write(data)"
      ],
      "metadata": {
        "colab": {
          "base_uri": "https://localhost:8080/",
          "height": 351
        },
        "id": "bpGcVq9Gc6jU",
        "outputId": "476aad88-c095-4896-ea62-910046c6dff9"
      },
      "execution_count": null,
      "outputs": [
        {
          "output_type": "error",
          "ename": "FileNotFoundError",
          "evalue": "ignored",
          "traceback": [
            "\u001b[0;31m---------------------------------------------------------------------------\u001b[0m",
            "\u001b[0;31mFileNotFoundError\u001b[0m                         Traceback (most recent call last)",
            "\u001b[0;32m<ipython-input-25-1e68352a1343>\u001b[0m in \u001b[0;36m<module>\u001b[0;34m()\u001b[0m\n\u001b[1;32m     18\u001b[0m     \u001b[0;32mreturn\u001b[0m \u001b[0mret\u001b[0m\u001b[0;34m\u001b[0m\u001b[0;34m\u001b[0m\u001b[0m\n\u001b[1;32m     19\u001b[0m \u001b[0;34m\u001b[0m\u001b[0m\n\u001b[0;32m---> 20\u001b[0;31m \u001b[0mresult\u001b[0m\u001b[0;34m=\u001b[0m\u001b[0mcountBirths\u001b[0m\u001b[0;34m(\u001b[0m\u001b[0;34m)\u001b[0m\u001b[0;34m\u001b[0m\u001b[0;34m\u001b[0m\u001b[0m\n\u001b[0m\u001b[1;32m     21\u001b[0m \u001b[0;32mwith\u001b[0m \u001b[0mopen\u001b[0m\u001b[0;34m(\u001b[0m\u001b[0;34m'birth_by_year.csv'\u001b[0m\u001b[0;34m,\u001b[0m\u001b[0;34m'w'\u001b[0m\u001b[0;34m)\u001b[0m \u001b[0;32mas\u001b[0m \u001b[0mf\u001b[0m\u001b[0;34m:\u001b[0m\u001b[0;34m\u001b[0m\u001b[0;34m\u001b[0m\u001b[0m\n\u001b[1;32m     22\u001b[0m   \u001b[0;32mfor\u001b[0m \u001b[0mnames\u001b[0m\u001b[0;34m,\u001b[0m \u001b[0mbirth\u001b[0m \u001b[0;32min\u001b[0m \u001b[0mresult\u001b[0m\u001b[0;34m:\u001b[0m\u001b[0;34m\u001b[0m\u001b[0;34m\u001b[0m\u001b[0m\n",
            "\u001b[0;32m<ipython-input-25-1e68352a1343>\u001b[0m in \u001b[0;36mcountBirths\u001b[0;34m()\u001b[0m\n\u001b[1;32m      7\u001b[0m     \u001b[0mcount\u001b[0m\u001b[0;34m=\u001b[0m\u001b[0;36m0\u001b[0m\u001b[0;34m\u001b[0m\u001b[0;34m\u001b[0m\u001b[0m\n\u001b[1;32m      8\u001b[0m     \u001b[0mfilename\u001b[0m\u001b[0;34m=\u001b[0m\u001b[0;34m'names/yob%d.txt'\u001b[0m\u001b[0;34m%\u001b[0m\u001b[0my\u001b[0m\u001b[0;34m\u001b[0m\u001b[0;34m\u001b[0m\u001b[0m\n\u001b[0;32m----> 9\u001b[0;31m     \u001b[0;32mwith\u001b[0m \u001b[0mopen\u001b[0m\u001b[0;34m(\u001b[0m\u001b[0mfilename\u001b[0m\u001b[0;34m,\u001b[0m\u001b[0;34m'r'\u001b[0m\u001b[0;34m)\u001b[0m \u001b[0;32mas\u001b[0m \u001b[0mf\u001b[0m\u001b[0;34m:\u001b[0m\u001b[0;34m\u001b[0m\u001b[0;34m\u001b[0m\u001b[0m\n\u001b[0m\u001b[1;32m     10\u001b[0m       \u001b[0mdata\u001b[0m\u001b[0;34m=\u001b[0m\u001b[0mf\u001b[0m\u001b[0;34m.\u001b[0m\u001b[0mreadlines\u001b[0m\u001b[0;34m(\u001b[0m\u001b[0;34m)\u001b[0m\u001b[0;34m\u001b[0m\u001b[0;34m\u001b[0m\u001b[0m\n\u001b[1;32m     11\u001b[0m       \u001b[0;32mfor\u001b[0m \u001b[0md\u001b[0m \u001b[0;32min\u001b[0m \u001b[0mdata\u001b[0m\u001b[0;34m:\u001b[0m\u001b[0;34m\u001b[0m\u001b[0;34m\u001b[0m\u001b[0m\n",
            "\u001b[0;31mFileNotFoundError\u001b[0m: [Errno 2] No such file or directory: 'names/yob1880.txt'"
          ]
        }
      ]
    },
    {
      "cell_type": "code",
      "source": [
        "#Unit182 데이터 처리하기 (연도별 출생아 이름 - 출생아 수 데이터를 이용하여 연도별 성별 출생아 수 계산하기) --> 연도별 텍스트 파일을 한줄씩 읽고 성별로 출생아 수를 추출허여 더해준다.\n",
        "\n",
        "def countBirthsBySex():\n",
        "  ret = []\n",
        "  for y in range(1880, 2015):\n",
        "    count_f = 0\n",
        "    count_m = 0\n",
        "    filename = 'names/yob%d.txt' %y\n",
        "    with open(filename, 'r') as f:\n",
        "      data = f.readlines()\n",
        "      for d in data:\n",
        "        if d[-1] == '\\n':\n",
        "          d = d[:-1]\n",
        "\n",
        "        temp = d.split('.')\n",
        "        sex = tmp[1]\n",
        "        birth = tmp[2]\n",
        "\n",
        "        if sex == 'F':\n",
        "          count_f += int(birth)\n",
        "        else:\n",
        "          count_m += int(birth)\n",
        "      ret.append((y, count_f, count_m))\n",
        "    return ret\n",
        "\n",
        "  restult=countBirthsBySex()\n",
        "  with open('birth_by_sex.csv', 'w') as f:\n",
        "    for y, bf, bm in result: #result의 각 요소를 '연도, 여아 출생아 수, 남아출생아 수'인 문자열로 구성하고,birth_by_sex.csv에 한줄씩 기록합니다. \n",
        "      data='%s, %s, %s\\n' %(y, bf, bm) #result의 각 요소를 '연도, 여아 출생아 수, 남아출생아 수'인 문자열로 구성하고,birth_by_sex.csv에 한줄씩 기록합니다. \n",
        "      print(data)\n",
        "      f.write(data)"
      ],
      "metadata": {
        "id": "z8dfFYZ34Wns"
      },
      "execution_count": null,
      "outputs": []
    },
    {
      "cell_type": "code",
      "source": [
        ""
      ],
      "metadata": {
        "id": "Cy_6plJt68oJ"
      },
      "execution_count": null,
      "outputs": []
    }
  ]
}