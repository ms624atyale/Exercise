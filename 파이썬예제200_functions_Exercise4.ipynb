{
  "nbformat": 4,
  "nbformat_minor": 0,
  "metadata": {
    "colab": {
      "name": "Untitled1.ipynb",
      "provenance": [],
      "toc_visible": true,
      "authorship_tag": "ABX9TyPOga8mgvBNE0pqPLJ57KSe",
      "include_colab_link": true
    },
    "kernelspec": {
      "name": "python3",
      "display_name": "Python 3"
    },
    "language_info": {
      "name": "python"
    }
  },
  "cells": [
    {
      "cell_type": "markdown",
      "metadata": {
        "id": "view-in-github",
        "colab_type": "text"
      },
      "source": [
        "<a href=\"https://colab.research.google.com/github/ms624atyale/Exercise/blob/main/%ED%8C%8C%EC%9D%B4%EC%8D%AC%EC%98%88%EC%A0%9C200_functions_Exercise4.ipynb\" target=\"_parent\"><img src=\"https://colab.research.google.com/assets/colab-badge.svg\" alt=\"Open In Colab\"/></a>"
      ]
    },
    {
      "cell_type": "code",
      "execution_count": null,
      "metadata": {
        "colab": {
          "base_uri": "https://localhost:8080/"
        },
        "id": "t_QvrACUO7T2",
        "outputId": "9eb54b84-d8a9-454c-da89-7b507ce8328d"
      },
      "outputs": [
        {
          "output_type": "stream",
          "name": "stdout",
          "text": [
            "1\n"
          ]
        }
      ],
      "source": [
        "scope=[1,2,3]\n",
        "for x in scope:\n",
        "  print(x)\n",
        "  break\n",
        "else:\n",
        "  print('Perfect')"
      ]
    },
    {
      "cell_type": "code",
      "source": [
        "x=0\n",
        "while x < 10:\n",
        "  x=x+1\n",
        "  if x<3:\n",
        "    continue\n",
        "  print(x)\n",
        "  if x>7:\n",
        "    break"
      ],
      "metadata": {
        "colab": {
          "base_uri": "https://localhost:8080/"
        },
        "id": "_UBQGI2aP9Pt",
        "outputId": "dcda69d4-77a1-4c28-fa2b-6fb92b621f3b"
      },
      "execution_count": null,
      "outputs": [
        {
          "output_type": "stream",
          "name": "stdout",
          "text": [
            "3\n",
            "4\n",
            "5\n",
            "6\n",
            "7\n",
            "8\n"
          ]
        }
      ]
    },
    {
      "cell_type": "code",
      "source": [
        "x=0\n",
        "while x < 10:\n",
        "  x=x+1\n",
        "  if x<3:\n",
        "    continue\n",
        "  print(x)"
      ],
      "metadata": {
        "colab": {
          "base_uri": "https://localhost:8080/"
        },
        "id": "XEDLF5_7haa6",
        "outputId": "2f089bf0-dc60-47af-9690-2d3e1f5fbaf6"
      },
      "execution_count": null,
      "outputs": [
        {
          "output_type": "stream",
          "name": "stdout",
          "text": [
            "3\n",
            "4\n",
            "5\n",
            "6\n",
            "7\n",
            "8\n",
            "9\n",
            "10\n"
          ]
        }
      ]
    },
    {
      "cell_type": "code",
      "source": [
        "x=1\n",
        "total=0\n",
        "while 1:\n",
        "  total=total+x\n",
        "  if total > 100000:\n",
        "    print(x)\n",
        "    print(total)\n",
        "    break\n",
        "  x=x+1"
      ],
      "metadata": {
        "colab": {
          "base_uri": "https://localhost:8080/"
        },
        "id": "XX9O8Vabqi_b",
        "outputId": "6c7c5d9c-b751-466c-f57e-3a025a0bebb4"
      },
      "execution_count": null,
      "outputs": [
        {
          "output_type": "stream",
          "name": "stdout",
          "text": [
            "447\n",
            "100128\n"
          ]
        }
      ]
    },
    {
      "cell_type": "code",
      "source": [
        "val=None\n",
        "condition=1\n",
        "if condition==1:\n",
        "  val=[1,2,3]\n",
        "  print(val)\n",
        "else:\n",
        "  val = 'I love Python.'\n"
      ],
      "metadata": {
        "colab": {
          "base_uri": "https://localhost:8080/"
        },
        "id": "RcghMp6Z2MeT",
        "outputId": "42caace1-184b-4a46-9221-03d645bb6e97"
      },
      "execution_count": null,
      "outputs": [
        {
          "output_type": "stream",
          "name": "stdout",
          "text": [
            "[1, 2, 3]\n"
          ]
        }
      ]
    },
    {
      "cell_type": "code",
      "source": [
        "money=2000\n",
        "if money >=3000:\n",
        "  print (\"take a taxi.\")\n",
        "else:\n",
        "  print (\"walk home.\")"
      ],
      "metadata": {
        "colab": {
          "base_uri": "https://localhost:8080/"
        },
        "id": "BMTAmCFO8pUb",
        "outputId": "36081561-5e40-4d28-a7c7-c8f2e7ab83e3"
      },
      "execution_count": null,
      "outputs": [
        {
          "output_type": "stream",
          "name": "stdout",
          "text": [
            "walk home.\n"
          ]
        }
      ]
    },
    {
      "cell_type": "code",
      "source": [
        "int_data=10\n",
        "bin_data=0b10\n",
        "oct_data=0o10\n",
        "hex_data=0x10\n",
        "long_data=12345678901234567890\n",
        "print(int_data)\n",
        "print(oct_data)\n",
        "print(hex_data)\n",
        "print(bin_data)\n",
        "print(long_data)"
      ],
      "metadata": {
        "colab": {
          "base_uri": "https://localhost:8080/"
        },
        "id": "SU0_k34c-jf9",
        "outputId": "28ac664d-4ce2-4e2f-f776-01698c786533"
      },
      "execution_count": null,
      "outputs": [
        {
          "output_type": "stream",
          "name": "stdout",
          "text": [
            "10\n",
            "8\n",
            "16\n",
            "2\n",
            "12345678901234567890\n"
          ]
        }
      ]
    },
    {
      "cell_type": "code",
      "source": [
        "val=None\n",
        "condition=1\n",
        "if condition==1:\n",
        "  val=[1,2,3]\n",
        "else:\n",
        "  val='I love Python'"
      ],
      "metadata": {
        "id": "MaZhbl0Y02Af"
      },
      "execution_count": null,
      "outputs": []
    },
    {
      "cell_type": "code",
      "source": [
        "f1=1.0\n",
        "f2=3.14\n",
        "f3=1.56e3\n",
        "f4=-0.7e-4\n",
        "print(f1)\n",
        "print(f2)\n",
        "print(f3)\n",
        "print(f4)"
      ],
      "metadata": {
        "colab": {
          "base_uri": "https://localhost:8080/"
        },
        "id": "zpc2epex1nGv",
        "outputId": "e7cb61a4-0de5-4ee2-8730-479cd008dd44"
      },
      "execution_count": null,
      "outputs": [
        {
          "output_type": "stream",
          "name": "stdout",
          "text": [
            "1.0\n",
            "3.14\n",
            "1560.0\n",
            "-7e-05\n"
          ]
        }
      ]
    },
    {
      "cell_type": "code",
      "source": [
        "i=2; f=4.0\n",
        "print(f+i)\n",
        "print(f*i)\n",
        "print(f/i)\n",
        "print(4/2)"
      ],
      "metadata": {
        "colab": {
          "base_uri": "https://localhost:8080/"
        },
        "id": "KU1BfeAx2g1x",
        "outputId": "3d55a8c0-5dc8-4bbd-8519-0e8db632fd52"
      },
      "execution_count": null,
      "outputs": [
        {
          "output_type": "stream",
          "name": "stdout",
          "text": [
            "6.0\n",
            "8.0\n",
            "2.0\n",
            "2.0\n"
          ]
        }
      ]
    },
    {
      "cell_type": "code",
      "source": [
        "c1=1+7j\n",
        "print(c1.real); print(c1.imag)\n",
        "c2=complex(2,-3)\n",
        "print(c2)"
      ],
      "metadata": {
        "colab": {
          "base_uri": "https://localhost:8080/"
        },
        "id": "LcJXl5LC28ft",
        "outputId": "77ef8c0a-0493-4670-8049-610d2cc3fd23"
      },
      "execution_count": null,
      "outputs": [
        {
          "output_type": "stream",
          "name": "stdout",
          "text": [
            "1.0\n",
            "7.0\n",
            "(2-3j)\n"
          ]
        }
      ]
    },
    {
      "cell_type": "code",
      "source": [
        "a=1\n",
        "b=2\n",
        "ret=a+b\n",
        "print('a와 b를 더한 값은', end='')\n",
        "print(ret, end='')\n",
        "print('입니다.')"
      ],
      "metadata": {
        "colab": {
          "base_uri": "https://localhost:8080/"
        },
        "id": "MasJMs244XMa",
        "outputId": "7c3cba76-db3e-4b2b-dc99-dbe58a79c85a"
      },
      "execution_count": null,
      "outputs": [
        {
          "output_type": "stream",
          "name": "stdout",
          "text": [
            "a와 b를 더한 값은3입니다.\n"
          ]
        }
      ]
    },
    {
      "cell_type": "code",
      "source": [
        "a=1398\n",
        "b=2589\n",
        "ret=a+b\n",
        "print(\"a와 b를 더한 값은\",end='')\n",
        "print(ret,end='')\n",
        "print('입니다.')"
      ],
      "metadata": {
        "colab": {
          "base_uri": "https://localhost:8080/"
        },
        "id": "OLJHfTsqqIl4",
        "outputId": "2bf13724-daa2-459b-a3bf-970086d6e19c"
      },
      "execution_count": null,
      "outputs": [
        {
          "output_type": "stream",
          "name": "stdout",
          "text": [
            "a와 b를 더한 값은3987입니다.\n"
          ]
        }
      ]
    },
    {
      "cell_type": "code",
      "source": [
        "a=2\n",
        "b=4\n",
        "ret1=a+b #ret1=2+4=6\n",
        "ret2=a-b #ret2=2-4=-2\n",
        "ret3=a*b #ret3=2*4=8\n",
        "ret4=a/b #ret4=2/4=0.5\n",
        "ret5=a**b #ret5=2**4=16 거듭제곱\n",
        "ret6=a+a*b/a #ret6=2+2*4/2=6 \n",
        "ret7=(a+b)*(a-b) #ret7=(2+4)*(2-4)=-12\n",
        "ret8=a*b**a #ret8=2*4**2=32 거듭제곱\n",
        "print(ret1)\n",
        "print(ret2)\n",
        "print(ret3)\n",
        "print(ret4)\n",
        "print(ret5)\n",
        "print(ret6)\n",
        "print(ret7)\n",
        "print(ret8)"
      ],
      "metadata": {
        "colab": {
          "base_uri": "https://localhost:8080/"
        },
        "id": "L8jjV4AJqrkC",
        "outputId": "c5011c37-b7b6-4f1a-ec00-5b8b2d42d7c1"
      },
      "execution_count": null,
      "outputs": [
        {
          "output_type": "stream",
          "name": "stdout",
          "text": [
            "6\n",
            "-2\n",
            "8\n",
            "0.5\n",
            "16\n",
            "6.0\n",
            "-12\n",
            "32\n"
          ]
        }
      ]
    },
    {
      "cell_type": "code",
      "source": [
        "a=0\n",
        "a+=1 #a=a+1, a의 값은 1\n",
        "a-=-5 #a=a-5, a의 값은 -4 \n",
        "a*=2 #a=a*2, a의 값은 -8\n",
        "a/=4 #a=a/4, a의 값은 -2.0\n",
        "print(a)"
      ],
      "metadata": {
        "colab": {
          "base_uri": "https://localhost:8080/"
        },
        "id": "XkQfonuis3eH",
        "outputId": "500d24fa-04ad-4dd9-deed-551907ac5e31"
      },
      "execution_count": null,
      "outputs": [
        {
          "output_type": "stream",
          "name": "stdout",
          "text": [
            "-2.0\n"
          ]
        }
      ]
    },
    {
      "cell_type": "code",
      "source": [
        "a=True\n",
        "b=False\n",
        "print(a==1)\n",
        "print(b!=0) #False 값이 할당된 b가 0과 다른 값인지 체크. 다른 값이면 True. 같은 값이면 False\n"
      ],
      "metadata": {
        "colab": {
          "base_uri": "https://localhost:8080/"
        },
        "id": "nhic1Xx2zHM6",
        "outputId": "adf9bfb2-46d5-43ad-8adf-d93d12554ca5"
      },
      "execution_count": null,
      "outputs": [
        {
          "output_type": "stream",
          "name": "stdout",
          "text": [
            "True\n",
            "False\n"
          ]
        }
      ]
    },
    {
      "cell_type": "code",
      "source": [
        "while True:\n",
        "  if a==True:\n",
        "    break"
      ],
      "metadata": {
        "id": "nH62sS8P6_tq"
      },
      "execution_count": null,
      "outputs": []
    },
    {
      "cell_type": "code",
      "source": [
        "x=1; y=2\n",
        "str1='abc'; str2='python'\n",
        "print(x==y)\n",
        "print(x!=y)\n",
        "print(str1==str2)\n",
        "print(str1!=str2)\n",
        "print(str2=='python')\n",
        "print(str1<str2)"
      ],
      "metadata": {
        "colab": {
          "base_uri": "https://localhost:8080/"
        },
        "id": "3IX2cL45zFe4",
        "outputId": "1e9d8545-e6c3-42dd-da7e-5240d7be7212"
      },
      "execution_count": null,
      "outputs": [
        {
          "output_type": "stream",
          "name": "stdout",
          "text": [
            "False\n",
            "True\n",
            "False\n",
            "True\n",
            "True\n",
            "True\n"
          ]
        }
      ]
    },
    {
      "cell_type": "code",
      "source": [
        "bool1=True; bool2=False; bool3=True; bool4=False\n",
        "print(bool and bool2) #A와 B and 연산 결과 출력\n",
        "print(bool1 and bool3) #A와 B and 연산 결과 출력\n",
        "print(bool2 or bool3)#A와 B or 연산 결과 출력\n",
        "print(bool2 or bool4)#A와 B or 연산 결과 출력\n",
        "print(not bool1) #A와 논리값의 반대 출력\n",
        "print(not bool2) #A와 논리값의 반대 출력"
      ],
      "metadata": {
        "colab": {
          "base_uri": "https://localhost:8080/"
        },
        "id": "VQKTMdLD9kSP",
        "outputId": "ff776f51-69c2-41e0-891d-dfecb4568042"
      },
      "execution_count": null,
      "outputs": [
        {
          "output_type": "stream",
          "name": "stdout",
          "text": [
            "False\n",
            "True\n",
            "True\n",
            "False\n",
            "False\n",
            "True\n"
          ]
        }
      ]
    },
    {
      "cell_type": "code",
      "source": [
        "bit1 = 0x61\n",
        "bit2 = 0x62\n",
        "print(hex(bit1 & bit2))\n",
        "print(hex(bit1 | bit2))\n",
        "print(hex(bit1 ^ bit2))\n",
        "print(hex(bit1 >> 1))\n",
        "print(hex(bit1 << 2))\n"
      ],
      "metadata": {
        "colab": {
          "base_uri": "https://localhost:8080/"
        },
        "id": "FmRDKw0e-72E",
        "outputId": "7f9565e0-a6c3-41a1-8090-99cf52576091"
      },
      "execution_count": null,
      "outputs": [
        {
          "output_type": "stream",
          "name": "stdout",
          "text": [
            "0x60\n",
            "0x63\n",
            "0x3\n",
            "0x30\n",
            "0x184\n"
          ]
        }
      ]
    },
    {
      "cell_type": "code",
      "source": [
        "strdata='abcde'\n",
        "listdata=[1, [2,3], 'hi']\n",
        "tupledata=(100,200,300)"
      ],
      "metadata": {
        "id": "tPT0R0TnG9jB"
      },
      "execution_count": null,
      "outputs": []
    },
    {
      "cell_type": "code",
      "source": [
        "strdata='Time is money!!'\n",
        "listdata=[1,2,[1,2,3]]\n",
        "print(strdata[5])\n",
        "print(strdata[-2])\n",
        "print(listdata[0])\n",
        "print(listdata[-1])\n",
        "print(listdata[2][-1])"
      ],
      "metadata": {
        "colab": {
          "base_uri": "https://localhost:8080/"
        },
        "id": "otMp7VDVYQj7",
        "outputId": "524594d2-512f-4990-c939-e3fbe6ab91b2"
      },
      "execution_count": null,
      "outputs": [
        {
          "output_type": "stream",
          "name": "stdout",
          "text": [
            "i\n",
            "!\n",
            "1\n",
            "[1, 2, 3]\n",
            "3\n"
          ]
        }
      ]
    },
    {
      "cell_type": "code",
      "source": [
        "strdata='Time is money!!'\n",
        "listdata=[1,2,[1,2,3]]\n",
        "print(strdata[1:5])\n",
        "print(strdata[:7])\n",
        "print(strdata[9:])\n",
        "print(strdata[:-3])\n",
        "print(strdata[-3:])\n",
        "print(strdata[:])\n",
        "print(strdata[::2])"
      ],
      "metadata": {
        "colab": {
          "base_uri": "https://localhost:8080/"
        },
        "id": "CWp_sQw-ZVnA",
        "outputId": "5ca145f9-5897-418e-bdc3-210585333bd3"
      },
      "execution_count": null,
      "outputs": [
        {
          "output_type": "stream",
          "name": "stdout",
          "text": [
            "ime \n",
            "Time is\n",
            "oney!!\n",
            "Time is mone\n",
            "y!!\n",
            "Time is money!!\n",
            "Tm smny!\n"
          ]
        }
      ]
    },
    {
      "cell_type": "code",
      "source": [
        "strdata1='I love '; strdata2='Python'; strdata3='you'\n",
        "listdata1=[1,2,3]; listdata2=[4,5,6]\n",
        "print(strdata1+ strdata2)\n",
        "print(strdata1+ strdata3)\n",
        "print(listdata1+listdata2)"
      ],
      "metadata": {
        "colab": {
          "base_uri": "https://localhost:8080/"
        },
        "id": "nDbdUOqdbchN",
        "outputId": "b0c0034f-21c4-4957-aa3e-8cced97d9d28"
      },
      "execution_count": null,
      "outputs": [
        {
          "output_type": "stream",
          "name": "stdout",
          "text": [
            "I love Python\n",
            "I love you\n",
            "[1, 2, 3, 4, 5, 6]\n"
          ]
        }
      ]
    },
    {
      "cell_type": "code",
      "source": [
        "artist='BTS'\n",
        "sing='butter~'\n",
        "dispdata=artist +'가 부르는 ' + sing*3\n",
        "print(dispdata)"
      ],
      "metadata": {
        "colab": {
          "base_uri": "https://localhost:8080/"
        },
        "id": "yzzsp57nc489",
        "outputId": "f4957d26-5f0b-4764-8af6-65d04c689682"
      },
      "execution_count": null,
      "outputs": [
        {
          "output_type": "stream",
          "name": "stdout",
          "text": [
            "BTS가 부르는 butter~butter~butter~\n"
          ]
        }
      ]
    },
    {
      "cell_type": "code",
      "source": [
        "listdata=[1,2,3]\n",
        "displistdata=listdata*5\n",
        "print(displistdata)"
      ],
      "metadata": {
        "colab": {
          "base_uri": "https://localhost:8080/"
        },
        "id": "AtpllWyzddNa",
        "outputId": "a548518b-25d7-447f-8a95-1faa09ca5481"
      },
      "execution_count": null,
      "outputs": [
        {
          "output_type": "stream",
          "name": "stdout",
          "text": [
            "[1, 2, 3, 1, 2, 3, 1, 2, 3, 1, 2, 3, 1, 2, 3]\n"
          ]
        }
      ]
    },
    {
      "cell_type": "code",
      "source": [
        "strdata1='I love Python' #Unit031 시퀀스 자료 크기 이해하기\n",
        "strdata2='나는 파이썬을 사랑합니다'\n",
        "listdata=['a','b', 'c', strdata1, strdata2]\n",
        "print(len(strdata1))\n",
        "print(len(strdata2))\n",
        "print(len(listdata))\n",
        "print(len(listdata[3]))"
      ],
      "metadata": {
        "colab": {
          "base_uri": "https://localhost:8080/"
        },
        "id": "OQrNaF88aEKe",
        "outputId": "027e2047-41a6-4121-da24-468290e5b4c0"
      },
      "execution_count": null,
      "outputs": [
        {
          "output_type": "stream",
          "name": "stdout",
          "text": [
            "13\n",
            "13\n",
            "5\n",
            "13\n"
          ]
        }
      ]
    },
    {
      "cell_type": "code",
      "source": [
        "listdata=[1,2,3,4] #Unit032 멤버체크 이해하기 (in)\n",
        "ret1=5 in listdata #False\n",
        "ret2=4 in listdata #True\n",
        "print(ret1);print(ret2)\n",
        "strdata='abcde'\n",
        "ret3='c' in strdata #True\n",
        "ret4='l' in strdata #False\n",
        "print(ret3);print(ret4)"
      ],
      "metadata": {
        "colab": {
          "base_uri": "https://localhost:8080/"
        },
        "id": "ypYgGKhfdRoV",
        "outputId": "08d0f095-3d7e-4b8a-c9aa-7287976e9331"
      },
      "execution_count": null,
      "outputs": [
        {
          "output_type": "stream",
          "name": "stdout",
          "text": [
            "False\n",
            "True\n",
            "True\n",
            "False\n"
          ]
        }
      ]
    },
    {
      "cell_type": "code",
      "source": [
        "strdata1='나는 파이썬 프로그래머다' #Unit033 문자열 (선언방법) 이해하기\n",
        "strdata2=\"You are a programmer\"\n",
        "strdata3='''I love\n",
        "  Python. You love\n",
        "Python too!\n",
        "'''\n",
        "strdata4='My son\\'s name is John'\n",
        "strdata5=\"My daughter's name is Sally\"\n",
        "strdata6='문자열 \"abc\"의 길이는 3입니다.'\n",
        "print(strdata1)\n",
        "print(strdata2)\n",
        "print(strdata3)\n",
        "print(strdata4)\n",
        "print(strdata5)\n",
        "print(strdata6)"
      ],
      "metadata": {
        "colab": {
          "base_uri": "https://localhost:8080/"
        },
        "id": "gyv3FuTUd8yb",
        "outputId": "3282af6e-7d17-41f2-cb40-2fb5a039851e"
      },
      "execution_count": null,
      "outputs": [
        {
          "output_type": "stream",
          "name": "stdout",
          "text": [
            "나는 파이썬 프로그래머다\n",
            "You are a programmer\n",
            "I love\n",
            "  Python. You love\n",
            "Python too!\n",
            "\n",
            "My son's name is John\n",
            "My daughter's name is Sally\n",
            "문자열 \"abc\"의 길이는 3입니다.\n"
          ]
        }
      ]
    },
    {
      "cell_type": "code",
      "source": [
        "txt1='JAVA'; txt2='Python' #Unit04 문자열 포맷팅 이해하기\n",
        "num1=5; num2=10\n",
        "print('나는 %s보다 %s에 익숙합니다.' %(txt1,txt2)) #문자열에 할당하는 것이 변수인데, 이걸 굳이 %s 문자열이라고 표시해야 하는 이유는? 안해도 될 거 같아 밑에 시연 해봄.\n",
        "print('나는 %d보다 %d에 익숙합니다.' %(txt1,txt2)) #%s를 %d 로 바꾸니까 에러 났음 with 문자 포맷열 변수 사용.\n",
        "print('%s는 %s 보다 %s배 더 쉽습니다.' %(txt2, txt1, num1))\n",
        "print('%d + %d = %d' %(num1, num2, num1+num2))\n",
        "print('%s + %s = %s' %(num1, num2, num1+num2)) #%d를 %s 로 바꾸어도 에러 안남 with 정수 포맷열 변수 사용 (cf., Line 4)\n",
        "print('작년 세계 경제 성장률은 전년에 비해 %d%% 포인트 증가했다.' %(num1))\n",
        "print('작년 세계 경제 성장률은 전년에 비해 %d%% 포인트 증가했다.' %(num1*num2))\n",
        "print('%d + %d = %d' %(3, 4, 7))\n",
        "print('%s + %s = %s' %(3, 4, 7)) #왜 정수 포맷열을 문자열로 할당/대입해도 결과가 나오지? (내가 그냥 해봄)\n",
        "print('%s + %s = %s' %('a', 'b', 'c'))\n",
        "print('%d + %d = %d' %('a', 'b', 'c')) #왜 문자 포맷열을 %정수로 할당/대입하니까 오류가 남 (내가 그냥 해봄).  책 내용 중 소스: 034-1.py 내용은 이해 못함"
      ],
      "metadata": {
        "colab": {
          "base_uri": "https://localhost:8080/",
          "height": 368
        },
        "id": "JQ5dZaJ1ftLk",
        "outputId": "0d99bd3a-c70f-46dd-8ca4-0091517efeb1"
      },
      "execution_count": null,
      "outputs": [
        {
          "output_type": "stream",
          "name": "stdout",
          "text": [
            "나는 JAVA보다 Python에 익숙합니다.\n",
            "나는 JAVA보다 Python에 익숙합니다.\n",
            "Python는 JAVA 보다 5배 더 쉽습니다.\n",
            "5 + 10 = 15\n",
            "5 + 10 = 15\n",
            "작년 세계 경제 성장률은 전년에 비해 5% 포인트 증가했다.\n",
            "작년 세계 경제 성장률은 전년에 비해 50% 포인트 증가했다.\n",
            "3 + 4 = 7\n",
            "3 + 4 = 7\n",
            "a + b = c\n"
          ]
        },
        {
          "output_type": "error",
          "ename": "TypeError",
          "evalue": "ignored",
          "traceback": [
            "\u001b[0;31m---------------------------------------------------------------------------\u001b[0m",
            "\u001b[0;31mTypeError\u001b[0m                                 Traceback (most recent call last)",
            "\u001b[0;32m<ipython-input-35-af52b6f9c01e>\u001b[0m in \u001b[0;36m<module>\u001b[0;34m()\u001b[0m\n\u001b[1;32m     11\u001b[0m \u001b[0mprint\u001b[0m\u001b[0;34m(\u001b[0m\u001b[0;34m'%s + %s = %s'\u001b[0m \u001b[0;34m%\u001b[0m\u001b[0;34m(\u001b[0m\u001b[0;36m3\u001b[0m\u001b[0;34m,\u001b[0m \u001b[0;36m4\u001b[0m\u001b[0;34m,\u001b[0m \u001b[0;36m7\u001b[0m\u001b[0;34m)\u001b[0m\u001b[0;34m)\u001b[0m \u001b[0;31m#왜 정수 포맷열을 문자열로 할당/대입해도 결과가 나오지? (내가 그냥 해봄)\u001b[0m\u001b[0;34m\u001b[0m\u001b[0;34m\u001b[0m\u001b[0m\n\u001b[1;32m     12\u001b[0m \u001b[0mprint\u001b[0m\u001b[0;34m(\u001b[0m\u001b[0;34m'%s + %s = %s'\u001b[0m \u001b[0;34m%\u001b[0m\u001b[0;34m(\u001b[0m\u001b[0;34m'a'\u001b[0m\u001b[0;34m,\u001b[0m \u001b[0;34m'b'\u001b[0m\u001b[0;34m,\u001b[0m \u001b[0;34m'c'\u001b[0m\u001b[0;34m)\u001b[0m\u001b[0;34m)\u001b[0m\u001b[0;34m\u001b[0m\u001b[0;34m\u001b[0m\u001b[0m\n\u001b[0;32m---> 13\u001b[0;31m \u001b[0mprint\u001b[0m\u001b[0;34m(\u001b[0m\u001b[0;34m'%d + %d = %d'\u001b[0m \u001b[0;34m%\u001b[0m\u001b[0;34m(\u001b[0m\u001b[0;34m'a'\u001b[0m\u001b[0;34m,\u001b[0m \u001b[0;34m'b'\u001b[0m\u001b[0;34m,\u001b[0m \u001b[0;34m'c'\u001b[0m\u001b[0;34m)\u001b[0m\u001b[0;34m)\u001b[0m \u001b[0;31m#왜 문자 포맷열을 %정수로 할당/대입하니까 오류가 남 (내가 그냥 해봄).  책 내용 중 소스: 034-1.py 내용은 이해 못함\u001b[0m\u001b[0;34m\u001b[0m\u001b[0;34m\u001b[0m\u001b[0m\n\u001b[0m",
            "\u001b[0;31mTypeError\u001b[0m: %d format: a number is required, not str"
          ]
        }
      ]
    },
    {
      "cell_type": "code",
      "source": [
        "print('나는 파이썬을 사랑합니다.\\n파이썬은 자바보다 쉽습니다.') #Unit035 Escape 문자 이해하기\n",
        "print('Name:John Smith\\tSex: Male\\tAge:22')\n",
        "print('이 문장은 화면폭에 비해 너무 길어 보기가 힘듭니다.\\\n",
        "그래서\\\\Enter키를 이용해 문장을 다음줄과 연속되도록 했습니다.')\n",
        "print('작은따옴표(\\')와 큰따옴표(\\\")는 문자열을 정의할 때 사용합니다.')\n",
        "print('작은따옴표(\\')와 큰따옴표(\")는 문자열을 정의할 때 사용합니다.')"
      ],
      "metadata": {
        "colab": {
          "base_uri": "https://localhost:8080/"
        },
        "id": "xdFL7BJfd7tG",
        "outputId": "3806a5ce-20e0-4ac1-82fb-86b4141d7b12"
      },
      "execution_count": null,
      "outputs": [
        {
          "output_type": "stream",
          "name": "stdout",
          "text": [
            "나는 파이썬을 사랑합니다.\n",
            "파이썬은 자바보다 쉽습니다.\n",
            "Name:John Smith\tSex: Male\tAge:22\n",
            "이 문장은 화면폭에 비해 너무 길어 보기가 힘듭니다.그래서\\Enter키를 이용해 문장을 다음줄과 연속되도록 했습니다.\n",
            "작은따옴표(')와 큰따옴표(\")는 문자열을 정의할 때 사용합니다.\n",
            "작은따옴표(')와 큰따옴표(\")는 문자열을 정의할 때 사용합니다.\n"
          ]
        }
      ]
    },
    {
      "cell_type": "code",
      "source": [
        "list1=[1,2,3,4,5] #Unit036 리스트 이해하기 ([])\n",
        "list2=['a', 'b', 'c']\n",
        "list3=[1, 'a', 'abc', [1,2,3,4,5], ['a', 'b', 'c']]\n",
        "list1[0]=6 # What is this? 변수 list1에 첫번째 숫자열을 6 으로 대체한다는 것임 \n",
        "print(list1) #[6, 2, 3, 4, 5]출력\n",
        "def myfunc():\n",
        "  print('안녕하세요')\n",
        "list4=[1,2, myfunc]\n",
        "list4[2]() #Line6에서 myfunc을 define 할 때 ()를 써놔서, 여기서 리스트의 [2]에 해당하는 것을 출력하라고 할 때 ()를 붙여놓았다"
      ],
      "metadata": {
        "colab": {
          "base_uri": "https://localhost:8080/"
        },
        "id": "r2mqMHzgvVVe",
        "outputId": "3b4ad334-0e6e-4143-b79d-ed044c7542e1"
      },
      "execution_count": null,
      "outputs": [
        {
          "output_type": "stream",
          "name": "stdout",
          "text": [
            "[6, 2, 3, 4, 5]\n",
            "안녕하세요\n"
          ]
        }
      ]
    },
    {
      "cell_type": "code",
      "source": [
        "tuple1=(1,2,3,4,5) #Unit037 튜플 이해하기(())\n",
        "tuple2=('a','b','c')\n",
        "tuple3=(1, 'a', 'abc', [1,2,3,4,5], ['a', 'b', 'c'])\n",
        "#tuple1[0]=6 #print (tuple1) #TypeError: 'tuple' object does not support item assignment\n",
        "def myfunc():\n",
        "  print('안녕하세요')\n",
        "tuple4=(1,2,myfunc) #튜플4 변수에 오른 쪽 1,2,myfunc을 할당할 때 = 심볼이 필요했는데 이를 누락해서 에러가 몇 번 났음. 조심하기\n",
        "tuple4[2]()"
      ],
      "metadata": {
        "colab": {
          "base_uri": "https://localhost:8080/"
        },
        "id": "zwLzAf-f2Bic",
        "outputId": "823be1c3-2dc9-4bcc-a98c-47a0f38aca46"
      },
      "execution_count": null,
      "outputs": [
        {
          "output_type": "stream",
          "name": "stdout",
          "text": [
            "안녕하세요\n"
          ]
        }
      ]
    },
    {
      "cell_type": "code",
      "source": [
        "dict1={'a':1, 'b':2, 'c':3} #Unit038 사전 이해하기({})\n",
        "print(dict1['a']) # 사전에서는 인덱싱으로 [#] 를 프린트하라는 수행하라고 할 수 없더라 (예시: print(dict1[1])) 왜냐하면 사전은 시퀀스 자료가 아니기 때문이다..\n",
        "dict1['d'] = 4 # 새로운 키 값을 추가하는 방법은 [ ]=을 사용한다\n",
        "print(dict1)\n",
        "dict1['b']=7\n",
        "print(dict1)\n",
        "print(len(dict1))"
      ],
      "metadata": {
        "colab": {
          "base_uri": "https://localhost:8080/"
        },
        "id": "eF7KsMm14HKn",
        "outputId": "c9dcdde7-818a-49b1-eb31-b6e161bb0be6"
      },
      "execution_count": null,
      "outputs": [
        {
          "output_type": "stream",
          "name": "stdout",
          "text": [
            "1\n",
            "{'a': 1, 'b': 2, 'c': 3, 'd': 4}\n",
            "{'a': 1, 'b': 7, 'c': 3, 'd': 4}\n",
            "4\n"
          ]
        }
      ]
    },
    {
      "cell_type": "code",
      "source": [
        "def add_number(n1,n2): #Unit039 함수 이해하기\n",
        "  ret=n1+n2 \n",
        "  return ret #인자 있고 리턴값 있음 (내가 이해한 게 맞나??)\n",
        "  #인자와 리턴값이 있는 함수 호출방법 변수=함수이름(값1, 값2...)\\ \n",
        "  #리턴값은 있지만 인자가 없는 return 결과값\\\n",
        "  #함수의 인자와 리턴값이 없는 경우 return 만 하거나 return 생략하고 함수이름()\\\n",
        "  #정의된 함수를 호출하는 방법은 함수 인자 자리에 실제값을 대임하여 함수 이름만 호출하기. \n",
        "\n",
        "def add_txt(t1, t2):\n",
        "  print(t1+t2)  #출력하되 리턴값은 없음 (내가 이해한 게 맞나??)\n",
        "\n",
        "ans=add_number(10,15)\n",
        "print(ans)\n",
        "\n",
        "ans=add_number(100, 250)\n",
        "print(ans)\n",
        "\n",
        "text1='대한민국~'\n",
        "text2='만세!!'\n",
        "add_txt(text1,text2)\n"
      ],
      "metadata": {
        "colab": {
          "base_uri": "https://localhost:8080/"
        },
        "id": "Tc3Ipuxz5iTB",
        "outputId": "01b9bfed-be69-42f7-af53-b19dca5c5264"
      },
      "execution_count": null,
      "outputs": [
        {
          "output_type": "stream",
          "name": "stdout",
          "text": [
            "25\n",
            "350\n",
            "대한민국~만세!!\n"
          ]
        }
      ]
    },
    {
      "cell_type": "code",
      "source": [
        "print('hello')"
      ],
      "metadata": {
        "id": "BJ4VkbDkG7br"
      },
      "execution_count": null,
      "outputs": []
    }
  ]
}