{
  "nbformat": 4,
  "nbformat_minor": 0,
  "metadata": {
    "colab": {
      "provenance": [],
      "authorship_tag": "ABX9TyMZcQGLiiLMvEw68ORUIf4Q",
      "include_colab_link": true
    },
    "kernelspec": {
      "name": "python3",
      "display_name": "Python 3"
    },
    "language_info": {
      "name": "python"
    }
  },
  "cells": [
    {
      "cell_type": "markdown",
      "metadata": {
        "id": "view-in-github",
        "colab_type": "text"
      },
      "source": [
        "<a href=\"https://colab.research.google.com/github/ms624atyale/Exercise/blob/main/20_NLPSampling.ipynb\" target=\"_parent\"><img src=\"https://colab.research.google.com/assets/colab-badge.svg\" alt=\"Open In Colab\"/></a>"
      ]
    },
    {
      "cell_type": "markdown",
      "source": [
        "## <font color = 'red'> Natural Language Processing </font> Sampling\n",
        "\n",
        "1. 문자열의 각 문자를 그 다음 문자로 변경하기"
      ],
      "metadata": {
        "id": "-VR3_3PGRbQN"
      }
    },
    {
      "cell_type": "code",
      "execution_count": 4,
      "metadata": {
        "colab": {
          "base_uri": "https://localhost:8080/"
        },
        "id": "AbgN8OeLREFQ",
        "outputId": "23136138-229d-401e-8e37-8eddd2fe79da"
      },
      "outputs": [
        {
          "output_type": "stream",
          "name": "stdout",
          "text": [
            "문장을 입력하세요:Elizabeth\n",
            "lizabethE\n"
          ]
        }
      ],
      "source": [
        "#@markdown 🎯📌 문자열의 각 문자를 그 다음 문자로 변경하기\n",
        "\n",
        "txt = input('문장을 입력하세요:')\n",
        "\n",
        "ret = ''\n",
        "for i in range(len(txt)):\n",
        "  if i !=len(txt)-1: #text의 각 문자 index i에 대하여 i가 text의 맨 마지막 문자의 인덱스가 아니면 \n",
        "    ret += txt[i+1] #ret에 txt[i+1]을 추가한다.\n",
        "  else:             #index i가 txt의 마지막 문자라면\n",
        "    ret +=txt[0]    #ret에 txt[0]을 추가한다.  \n",
        "\n",
        "print(ret)"
      ]
    }
  ]
}